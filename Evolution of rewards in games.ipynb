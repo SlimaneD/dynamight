{
 "cells": [
  {
   "cell_type": "code",
   "execution_count": 2,
   "metadata": {},
   "outputs": [],
   "source": [
    "%display typeset"
   ]
  },
  {
   "cell_type": "markdown",
   "metadata": {},
   "source": [
    "# Evolution of rewards in games\n",
    "\n",
    "Notebook for the paper \"Learning to cooperate: The evolution of social rewards in repeated interactions\" in press in the American Naturalist [last update: 08/08/2017]"
   ]
  },
  {
   "cell_type": "code",
   "execution_count": 3,
   "metadata": {},
   "outputs": [
    {
     "data": {
      "text/html": [
       "<html><script type=\"math/tex; mode=display\">\\newcommand{\\Bold}[1]{\\mathbf{#1}}\\left( x, y, u_{11}, u_{12}, u_{21}, u_{22}, L \\right) \\ {\\mapsto} \\ {\\left({\\left(u_{22} {\\left(y - 1\\right)} - u_{21} y\\right)} {\\left(x - 1\\right)} + {\\left(u_{12} {\\left(y - 1\\right)} - u_{11} y\\right)} x\\right)} L {\\left(x - 1\\right)} x</script></html>"
      ],
      "text/plain": [
       "(x, y, u_11, u_12, u_21, u_22, L) |--> ((u_22*(y - 1) - u_21*y)*(x - 1) + (u_12*(y - 1) - u_11*y)*x)*L*(x - 1)*x"
      ]
     },
     "execution_count": 3,
     "metadata": {},
     "output_type": "execute_result"
    }
   ],
   "source": [
    "#Rhs of the vector field induced by RL for player x\n",
    "f(x,y,u_11,u_12,u_21,u_22,L) = x*(1-x)*L*(x*(y*u_11 + (1 - y)*u_12) - (1-x)*(y*u_21 + (1 - y)*u_22));\n",
    "f"
   ]
  },
  {
   "cell_type": "code",
   "execution_count": 3,
   "metadata": {},
   "outputs": [
    {
     "data": {
      "text/html": [
       "<html><script type=\"math/tex; mode=display\">\\newcommand{\\Bold}[1]{\\mathbf{#1}}\\left(\\begin{array}{rr}\n",
       "u_{11} & u_{12} \\\\\n",
       "u_{21} & u_{22}\n",
       "\\end{array}\\right)</script></html>"
      ],
      "text/plain": [
       "[u_11 u_12]\n",
       "[u_21 u_22]"
      ]
     },
     "execution_count": 3,
     "metadata": {},
     "output_type": "execute_result"
    }
   ],
   "source": [
    "#Notation for utilities is \"player-centred\": when player u gets u_12, player v gets v_21 (i.e. x_ij denotes the utility of player x when he takes action i and his opponent takes j)\n",
    "matrix(2,2,[u_11,u_12,u_21,u_22])"
   ]
  },
  {
   "cell_type": "code",
   "execution_count": 4,
   "metadata": {},
   "outputs": [],
   "source": [
    "from matplotlib import rc, rcParams\n",
    "rc('text',usetex=True)\n",
    "rcParams['text.latex.preamble'] = [\n",
    "       r'\\usepackage{siunitx}',   # i need upright \\micro symbols, but you need...\n",
    "       r'\\sisetup{detect-all}',   # ...this to force siunitx to actually use your fonts\n",
    "       #r'\\usepackage{fouriernc}',\n",
    "       #r'\\usepackage{times}',\n",
    "       r'\\usepackage{helvet}',    # set the normal font here\n",
    "       r'\\usepackage{sansmath}',  # load up the sansmath so that math -> helvet\n",
    "       r'\\renewcommand\\familydefault{\\sfdefault}',\n",
    "       r'\\sansmath'               # <- tricky! -- gotta actually tell tex to use!\n",
    "       #r'\\footnotesize'\n",
    "]\n",
    "#rc('font',**{'family':'serif','serif':['fouriernc']})\n",
    "#rc('font',**{'family':'sans-serif','sans-serif':['Computer Modern']})\n",
    "\n",
    "def numSde(x0,y0,u_11,u_12,u_21,u_22,v_11,v_12,v_21,v_22,L,step,parr,Tmax,col,xlab,ylab):\n",
    "    x,y=var('x,y');\n",
    "    sol=desolve_odeint([f(x,y,u_11,u_12,u_21,u_22,L),f(y,x,v_11,v_12,v_21,v_22,L)],[x0,y0],srange(0,Tmax,step),[x,y]);\n",
    "    psol=line(zip(sol[:,0],sol[:,1]),color=col,xmin=0, xmax=1,ymin=0, ymax=1,aspect_ratio=1, axes=False,axes_labels=[xlab,ylab],ticks=[[],[]],frame=True);\n",
    "    dirs=arrow((sol[integer_floor(parr[0]*len(sol)),0],sol[integer_floor(parr[0]*len(sol)),1]), (sol[integer_floor(parr[0]*len(sol))+1,0],sol[integer_floor(parr[0]*len(sol))+1,1]),width=1, arrowsize=3,color=col);\n",
    "    for i in [1..(len(parr)-1)]:\n",
    "        dirs = dirs+arrow((sol[integer_floor(parr[i]*len(sol)),0],sol[integer_floor(parr[i]*len(sol)),1]), (sol[integer_floor(parr[i]*len(sol))+1,0],sol[integer_floor(parr[i]*len(sol))+1,1]),width=1, arrowsize=3,color=col);\n",
    "    return(psol+dirs)"
   ]
  },
  {
   "cell_type": "code",
   "execution_count": 5,
   "metadata": {},
   "outputs": [],
   "source": [
    "def numSdeReverse(x0,y0,u_11,u_12,u_21,u_22,v_11,v_12,v_21,v_22,L,step,parr,Tmax,col,xlab,ylab):\n",
    "    x,y=var('x,y');\n",
    "    sol=desolve_odeint([-f(x,y,u_11,u_12,u_21,u_22,L),-f(y,x,v_11,v_12,v_21,v_22,L)],[x0,y0],srange(0,Tmax,step),[x,y]);\n",
    "    psol=line(zip(sol[:,0],sol[:,1]),color=col,xmin=0, xmax=1,ymin=0, ymax=1,aspect_ratio=1, axes=False,axes_labels=[xlab,ylab],ticks=[[],[]],frame=True);\n",
    "    dirs=arrow((sol[integer_floor(parr[0]*len(sol)),0],sol[integer_floor(parr[0]*len(sol)),1]), (sol[integer_floor(parr[0]*len(sol))+1,0],sol[integer_floor(parr[0]*len(sol))+1,1]),width=1, arrowsize=3,color=col);\n",
    "    for i in [1..(len(parr)-1)]:\n",
    "        dirs = dirs+arrow((sol[integer_floor(parr[i]*len(sol)),0],sol[integer_floor(parr[i]*len(sol)),1]), (sol[integer_floor(parr[i]*len(sol))+1,0],sol[integer_floor(parr[i]*len(sol))+1,1]),width=1, arrowsize=3,color=col);\n",
    "    return(psol+dirs)"
   ]
  },
  {
   "cell_type": "code",
   "execution_count": 6,
   "metadata": {},
   "outputs": [],
   "source": [
    "def numSde2(x0,y0,u_11,u_12,u_21,u_22,v_11,v_12,v_21,v_22,L,step,parr,Tmax,col,xlab,ylab,arrSize):\n",
    "    x,y=var('x,y');\n",
    "    sol=desolve_odeint([f(x,y,u_11,u_12,u_21,u_22,L),f(y,x,v_11,v_12,v_21,v_22,L)],[x0,y0],srange(0,Tmax,step),[x,y]);\n",
    "    solRev=desolve_odeint([-f(x,y,u_11,u_12,u_21,u_22,L),-f(y,x,v_11,v_12,v_21,v_22,L)],[x0,y0],srange(0,Tmax,step),[x,y]);\n",
    "\n",
    "    psol=line(zip(sol[:,0],sol[:,1]),color=col,xmin=0, xmax=1,ymin=0, ymax=1,aspect_ratio=1, axes=False,axes_labels=[xlab,ylab],frame=True);\n",
    "    psolRev=line(zip(solRev[:,0],solRev[:,1]),color=col,xmin=0, xmax=1,ymin=0, ymax=1,aspect_ratio=1, axes=False,axes_labels=[xlab,ylab],frame=True);\n",
    "\n",
    "    dirs=arrow((sol[integer_floor(parr[0]*len(sol)),0],sol[integer_floor(parr[0]*len(sol)),1]), (sol[integer_floor(parr[0]*len(sol))+1,0],sol[integer_floor(parr[0]*len(sol))+1,1]),width=1, arrowsize=arrSize,color=col);\n",
    "    dirsRev=arrow((solRev[integer_floor(parr[0]*len(solRev))+1,0],solRev[integer_floor(parr[0]*len(solRev))+1,1]),(solRev[integer_floor(parr[0]*len(solRev)),0],solRev[integer_floor(parr[0]*len(solRev)),1]),width=1, arrowsize=arrSize,color=col);\n",
    "\n",
    "    for i in [1..(len(parr)-1)]:\n",
    "        dirs = dirs+arrow((sol[integer_floor(parr[i]*len(sol)),0],sol[integer_floor(parr[i]*len(sol)),1]), (sol[integer_floor(parr[i]*len(sol))+1,0],sol[integer_floor(parr[i]*len(sol))+1,1]),width=1, arrowsize=arrSize,color=col);\n",
    "        dirsRev = dirsRev+arrow((solRev[integer_floor(parr[i]*len(solRev))+1,0],solRev[integer_floor(parr[i]*len(solRev))+1,1]),(solRev[integer_floor(parr[i]*len(solRev)),0],solRev[integer_floor(parr[i]*len(solRev)),1]),width=1, arrowsize=arrSize,color=col);\n",
    "    return(psol+psolRev+dirs+dirsRev)"
   ]
  },
  {
   "cell_type": "code",
   "execution_count": 7,
   "metadata": {},
   "outputs": [
    {
     "data": {
      "text/html": [
       "<html><script type=\"math/tex; mode=display\">\\newcommand{\\Bold}[1]{\\mathbf{#1}}\\left[\\left[x = 0, y = 0\\right], \\left[x = \\frac{u_{22}}{u_{12} + u_{22}}, y = 0\\right], \\left[x = 1, y = 0\\right], \\left[x = 0, y = \\frac{v_{22}}{v_{12} + v_{22}}\\right]\\right]</script></html>"
      ],
      "text/plain": [
       "[[x == 0, y == 0], [x == u_22/(u_12 + u_22), y == 0], [x == 1, y == 0], [x == 0, y == v_22/(v_12 + v_22)]]"
      ]
     },
     "execution_count": 7,
     "metadata": {},
     "output_type": "execute_result"
    }
   ],
   "source": [
    "var('x,y,u_11,u_12,u_21,u_22,v_11,v_12,v_21,v_22,L');\n",
    "eqsRL = solve([f(x,y,u_11,u_12,u_21,u_22,L)==0,f(y,x,v_11,v_12,v_21,v_22,L)==0],x,y);\n",
    "eqsRL[0:4]"
   ]
  },
  {
   "cell_type": "code",
   "execution_count": 8,
   "metadata": {},
   "outputs": [
    {
     "data": {
      "text/html": [
       "<html><script type=\"math/tex; mode=display\">\\newcommand{\\Bold}[1]{\\mathbf{#1}}\\left[\\left[x = 1, y = \\frac{v_{21}}{v_{11} + v_{21}}\\right], \\left[x = 0, y = 1\\right], \\left[x = \\frac{u_{21}}{u_{11} + u_{21}}, y = 1\\right], \\left[x = 1, y = 1\\right]\\right]</script></html>"
      ],
      "text/plain": [
       "[[x == 1, y == v_21/(v_11 + v_21)], [x == 0, y == 1], [x == u_21/(u_11 + u_21), y == 1], [x == 1, y == 1]]"
      ]
     },
     "execution_count": 8,
     "metadata": {},
     "output_type": "execute_result"
    }
   ],
   "source": [
    "eqsRL[6:10]"
   ]
  },
  {
   "cell_type": "code",
   "execution_count": 9,
   "metadata": {},
   "outputs": [
    {
     "data": {
      "text/html": [
       "<html><script type=\"math/tex; mode=display\">\\newcommand{\\Bold}[1]{\\mathbf{#1}}x = 0</script></html>"
      ],
      "text/plain": [
       "x == 0"
      ]
     },
     "execution_count": 9,
     "metadata": {},
     "output_type": "execute_result"
    }
   ],
   "source": [
    "eqsRL[0][0].subs(u_11 = 1, u_12 = 1.25,u_21 = 1.5,u_22 = 1.75,v_11 = 2, v_12 = 2.25,v_21 = 2.5,v_22 = 2.75)"
   ]
  },
  {
   "cell_type": "code",
   "execution_count": 11,
   "metadata": {},
   "outputs": [
    {
     "name": "stdout",
     "output_type": "stream",
     "text": [
      "x == 0\n",
      "y == 0\n",
      "x == 0.583333333333333\n",
      "y == 0\n",
      "x == 1\n",
      "y == 0\n",
      "x == 0\n",
      "y == 0.550000000000000\n",
      "x == 0.591796093303382\n",
      "y == 0.553145106649326\n",
      "x == 9.90820390669662\n",
      "y == 5.94685489335067\n",
      "x == 1\n",
      "y == 0.555555555555556\n",
      "x == 0\n",
      "y == 1\n",
      "x == 0.600000000000000\n",
      "y == 1\n",
      "x == 1\n",
      "y == 1\n"
     ]
    }
   ],
   "source": [
    "for i in range(len(eqsRL)):\n",
    "    for j in [0,1]:\n",
    "        cs = eqsRL[i][j].subs(u_11 = -1, u_12 = -1.25,u_21 = -1.5,u_22 = -1.75,v_11 = -2, v_12 = -2.25,v_21 = -2.5,v_22 = -2.75);\n",
    "        print(cs)"
   ]
  },
  {
   "cell_type": "code",
   "execution_count": 12,
   "metadata": {},
   "outputs": [
    {
     "data": {
      "text/html": [
       "<html><script type=\"math/tex; mode=display\">\\newcommand{\\Bold}[1]{\\mathbf{#1}}\\left[{\\left({\\left(u_{22} {\\left(y - 1\\right)} - u_{21} y\\right)} {\\left(x - 1\\right)} + {\\left(u_{12} {\\left(y - 1\\right)} - u_{11} y\\right)} x\\right)} L {\\left(x - 1\\right)} x, {\\left({\\left(v_{22} {\\left(x - 1\\right)} - v_{21} x\\right)} {\\left(y - 1\\right)} + {\\left(v_{12} {\\left(x - 1\\right)} - v_{11} x\\right)} y\\right)} L {\\left(y - 1\\right)} y\\right]</script></html>"
      ],
      "text/plain": [
       "[((u_22*(y - 1) - u_21*y)*(x - 1) + (u_12*(y - 1) - u_11*y)*x)*L*(x - 1)*x,\n",
       " ((v_22*(x - 1) - v_21*x)*(y - 1) + (v_12*(x - 1) - v_11*x)*y)*L*(y - 1)*y]"
      ]
     },
     "execution_count": 12,
     "metadata": {},
     "output_type": "execute_result"
    }
   ],
   "source": [
    "#Vector field\n",
    "F = [f(x,y,u_11,u_12,u_21,u_22,L),f(y,x,v_11,v_12,v_21,v_22,L)];\n",
    "F"
   ]
  },
  {
   "cell_type": "code",
   "execution_count": 13,
   "metadata": {},
   "outputs": [
    {
     "data": {
      "text/html": [
       "<html><script type=\"math/tex; mode=display\">\\newcommand{\\Bold}[1]{\\mathbf{#1}}{\\left({\\left(v_{22} {\\left(x - 1\\right)} - v_{21} x\\right)} {\\left(y - 1\\right)} + {\\left(v_{12} {\\left(x - 1\\right)} - v_{11} x\\right)} y\\right)} L {\\left(y - 1\\right)} y</script></html>"
      ],
      "text/plain": [
       "((v_22*(x - 1) - v_21*x)*(y - 1) + (v_12*(x - 1) - v_11*x)*y)*L*(y - 1)*y"
      ]
     },
     "execution_count": 13,
     "metadata": {},
     "output_type": "execute_result"
    }
   ],
   "source": [
    "F[1]"
   ]
  },
  {
   "cell_type": "code",
   "execution_count": 14,
   "metadata": {},
   "outputs": [
    {
     "data": {
      "text/html": [
       "<html><script type=\"math/tex; mode=display\">\\newcommand{\\Bold}[1]{\\mathbf{#1}}10</script></html>"
      ],
      "text/plain": [
       "10"
      ]
     },
     "execution_count": 14,
     "metadata": {},
     "output_type": "execute_result"
    }
   ],
   "source": [
    "len(eqsRL)"
   ]
  },
  {
   "cell_type": "code",
   "execution_count": 15,
   "metadata": {},
   "outputs": [
    {
     "data": {
      "text/html": [
       "<html><script type=\"math/tex; mode=display\">\\newcommand{\\Bold}[1]{\\mathbf{#1}}\\left[x = 1, y = 1\\right]</script></html>"
      ],
      "text/plain": [
       "[x == 1, y == 1]"
      ]
     },
     "execution_count": 15,
     "metadata": {},
     "output_type": "execute_result"
    }
   ],
   "source": [
    "eqsRL[9]"
   ]
  },
  {
   "cell_type": "code",
   "execution_count": 16,
   "metadata": {},
   "outputs": [
    {
     "data": {
      "text/html": [
       "<html><script type=\"math/tex; mode=display\">\\newcommand{\\Bold}[1]{\\mathbf{#1}}-\\frac{u_{22} v_{11} + u_{12} v_{12} - {\\left(u_{21} - 2 \\, u_{22}\\right)} v_{21} - {\\left(u_{11} - 2 \\, u_{12}\\right)} v_{22} - \\sqrt{u_{22}^{2} v_{11}^{2} + 2 \\, u_{12} u_{22} v_{11} v_{12} + u_{12}^{2} v_{12}^{2} + u_{21}^{2} v_{21}^{2} + u_{11}^{2} v_{22}^{2} + 2 \\, {\\left(u_{21} u_{22} v_{11} - {\\left(u_{12} u_{21} - 2 \\, u_{11} u_{22}\\right)} v_{12}\\right)} v_{21} + 2 \\, {\\left(u_{11} u_{12} v_{12} + u_{11} u_{21} v_{21} + {\\left(2 \\, u_{12} u_{21} - u_{11} u_{22}\\right)} v_{11}\\right)} v_{22}}}{2 \\, {\\left({\\left(u_{21} - u_{22}\\right)} v_{11} + {\\left(u_{11} - u_{12}\\right)} v_{12} + {\\left(u_{21} - u_{22}\\right)} v_{21} + {\\left(u_{11} - u_{12}\\right)} v_{22}\\right)}}</script></html>"
      ],
      "text/plain": [
       "-1/2*(u_22*v_11 + u_12*v_12 - (u_21 - 2*u_22)*v_21 - (u_11 - 2*u_12)*v_22 - sqrt(u_22^2*v_11^2 + 2*u_12*u_22*v_11*v_12 + u_12^2*v_12^2 + u_21^2*v_21^2 + u_11^2*v_22^2 + 2*(u_21*u_22*v_11 - (u_12*u_21 - 2*u_11*u_22)*v_12)*v_21 + 2*(u_11*u_12*v_12 + u_11*u_21*v_21 + (2*u_12*u_21 - u_11*u_22)*v_11)*v_22))/((u_21 - u_22)*v_11 + (u_11 - u_12)*v_12 + (u_21 - u_22)*v_21 + (u_11 - u_12)*v_22)"
      ]
     },
     "execution_count": 16,
     "metadata": {},
     "output_type": "execute_result"
    }
   ],
   "source": [
    "eqsRLn = []\n",
    "for i in range(len(eqsRL)):\n",
    "        eqsRLn += [[eqsRL[i][0].rhs().canonicalize_radical(),eqsRL[i][1].rhs().canonicalize_radical()]];\n",
    "eqsRLn[4][1]"
   ]
  },
  {
   "cell_type": "code",
   "execution_count": 17,
   "metadata": {},
   "outputs": [
    {
     "data": {
      "text/html": [
       "<html><script type=\"math/tex; mode=display\">\\newcommand{\\Bold}[1]{\\mathbf{#1}}\\frac{u_{22} v_{11} - {\\left(u_{12} + 2 \\, u_{22}\\right)} v_{12} + u_{21} v_{21} - {\\left(u_{11} + 2 \\, u_{21}\\right)} v_{22} + \\sqrt{u_{22}^{2} v_{11}^{2} + 2 \\, u_{12} u_{22} v_{11} v_{12} + u_{12}^{2} v_{12}^{2} + u_{21}^{2} v_{21}^{2} + u_{11}^{2} v_{22}^{2} + 2 \\, {\\left(u_{21} u_{22} v_{11} - {\\left(u_{12} u_{21} - 2 \\, u_{11} u_{22}\\right)} v_{12}\\right)} v_{21} + 2 \\, {\\left(u_{11} u_{12} v_{12} + u_{11} u_{21} v_{21} + {\\left(2 \\, u_{12} u_{21} - u_{11} u_{22}\\right)} v_{11}\\right)} v_{22}}}{2 \\, {\\left({\\left(u_{12} + u_{22}\\right)} v_{11} - {\\left(u_{12} + u_{22}\\right)} v_{12} + {\\left(u_{11} + u_{21}\\right)} v_{21} - {\\left(u_{11} + u_{21}\\right)} v_{22}\\right)}}</script></html>"
      ],
      "text/plain": [
       "1/2*(u_22*v_11 - (u_12 + 2*u_22)*v_12 + u_21*v_21 - (u_11 + 2*u_21)*v_22 + sqrt(u_22^2*v_11^2 + 2*u_12*u_22*v_11*v_12 + u_12^2*v_12^2 + u_21^2*v_21^2 + u_11^2*v_22^2 + 2*(u_21*u_22*v_11 - (u_12*u_21 - 2*u_11*u_22)*v_12)*v_21 + 2*(u_11*u_12*v_12 + u_11*u_21*v_21 + (2*u_12*u_21 - u_11*u_22)*v_11)*v_22))/((u_12 + u_22)*v_11 - (u_12 + u_22)*v_12 + (u_11 + u_21)*v_21 - (u_11 + u_21)*v_22)"
      ]
     },
     "execution_count": 17,
     "metadata": {},
     "output_type": "execute_result"
    }
   ],
   "source": [
    "eqsRLn[4][0]"
   ]
  },
  {
   "cell_type": "code",
   "execution_count": 0,
   "metadata": {},
   "outputs": [],
   "source": []
  },
  {
   "cell_type": "code",
   "execution_count": 18,
   "metadata": {},
   "outputs": [
    {
     "data": {
      "text/html": [
       "<html><script type=\"math/tex; mode=display\">\\newcommand{\\Bold}[1]{\\mathbf{#1}}0.428571428571429</script></html>"
      ],
      "text/plain": [
       "0.428571428571429"
      ]
     },
     "execution_count": 18,
     "metadata": {},
     "output_type": "execute_result"
    }
   ],
   "source": [
    "eqsRLn[1][0].subs(u_22=3,u_12=4).n()"
   ]
  },
  {
   "cell_type": "code",
   "execution_count": 19,
   "metadata": {},
   "outputs": [
    {
     "data": {
      "text/html": [
       "<html><script type=\"math/tex; mode=display\">\\newcommand{\\Bold}[1]{\\mathbf{#1}}-{\\left({\\left(u_{21} - u_{22}\\right)} {\\left(x - 1\\right)} + {\\left(u_{11} - u_{12}\\right)} x\\right)} L {\\left(x - 1\\right)} x</script></html>"
      ],
      "text/plain": [
       "-((u_21 - u_22)*(x - 1) + (u_11 - u_12)*x)*L*(x - 1)*x"
      ]
     },
     "execution_count": 19,
     "metadata": {},
     "output_type": "execute_result"
    }
   ],
   "source": [
    "j = jacobian(F, (x,y));\n",
    "j[0][1]"
   ]
  },
  {
   "cell_type": "code",
   "execution_count": 20,
   "metadata": {},
   "outputs": [
    {
     "data": {
      "text/html": [
       "<html><script type=\"math/tex; mode=display\">\\newcommand{\\Bold}[1]{\\mathbf{#1}}\\left(\\begin{array}{rr}\n",
       "-L u_{22} & 0 \\\\\n",
       "0 & -L v_{22}\n",
       "\\end{array}\\right)</script></html>"
      ],
      "text/plain": [
       "[-L*u_22       0]\n",
       "[      0 -L*v_22]"
      ]
     },
     "execution_count": 20,
     "metadata": {},
     "output_type": "execute_result"
    }
   ],
   "source": [
    "#Jacobian evaluated at the first equilibrium (0,0)\n",
    "j.subs(eqsRL[0])"
   ]
  },
  {
   "cell_type": "code",
   "execution_count": 21,
   "metadata": {},
   "outputs": [
    {
     "data": {
      "text/html": [
       "<html><script type=\"math/tex; mode=display\">\\newcommand{\\Bold}[1]{\\mathbf{#1}}\\verb|N|</script></html>"
      ],
      "text/plain": [
       "'N'"
      ]
     },
     "execution_count": 21,
     "metadata": {},
     "output_type": "execute_result"
    }
   ],
   "source": [
    "#Calculating the eigenvalues of the Jacobian at all equilibria except the two with complicated algebraic expressions (sage doesn't like these equilibria after having tried)\n",
    "#I conjecture that the interior equilibria can be stable only if all payoffs are negative (for both players)\n",
    "eigv = [];\n",
    "for i in range(len(eqsRL)):\n",
    "    if (i!=4 and i!=5):\n",
    "        eigv += [j.subs(eqsRL[i]).eigenvalues()];\n",
    "    else:\n",
    "        eigv += 'N';\n",
    "eigv[4]"
   ]
  },
  {
   "cell_type": "code",
   "execution_count": 22,
   "metadata": {},
   "outputs": [
    {
     "data": {
      "text/html": [
       "<html><script type=\"math/tex; mode=display\">\\newcommand{\\Bold}[1]{\\mathbf{#1}}10</script></html>"
      ],
      "text/plain": [
       "10"
      ]
     },
     "execution_count": 22,
     "metadata": {},
     "output_type": "execute_result"
    }
   ],
   "source": [
    "len(eigv)"
   ]
  },
  {
   "cell_type": "code",
   "execution_count": 23,
   "metadata": {},
   "outputs": [
    {
     "data": {
      "text/html": [
       "<html><script type=\"math/tex; mode=display\">\\newcommand{\\Bold}[1]{\\mathbf{#1}}\\left[-\\frac{13}{4000} i \\, \\sqrt{37847} + \\frac{3497}{4000}, \\frac{13}{4000} i \\, \\sqrt{37847} + \\frac{3497}{4000}\\right]</script></html>"
      ],
      "text/plain": [
       "[-13/4000*I*sqrt(37847) + 3497/4000, 13/4000*I*sqrt(37847) + 3497/4000]"
      ]
     },
     "execution_count": 23,
     "metadata": {},
     "output_type": "execute_result"
    }
   ],
   "source": [
    "j.subs(x=0.3,y=0.7,u_11=3,u_12=1,u_21=5,u_22=2,v_11=4,v_12=0,v_21=0,v_22=4,L=1.3).eigenvalues()"
   ]
  },
  {
   "cell_type": "code",
   "execution_count": 24,
   "metadata": {},
   "outputs": [
    {
     "data": {
      "text/html": [
       "<html><script type=\"math/tex; mode=display\">\\newcommand{\\Bold}[1]{\\mathbf{#1}}-2</script></html>"
      ],
      "text/plain": [
       "-2"
      ]
     },
     "execution_count": 24,
     "metadata": {},
     "output_type": "execute_result"
    }
   ],
   "source": [
    "eigv[9][1].subs(u_11=2,v_11=2,L=1)"
   ]
  },
  {
   "cell_type": "code",
   "execution_count": 25,
   "metadata": {},
   "outputs": [
    {
     "data": {
      "text/html": [
       "<html><script type=\"math/tex; mode=display\">\\newcommand{\\Bold}[1]{\\mathbf{#1}}\\left[-L v_{11}, -L u_{11}\\right]</script></html>"
      ],
      "text/plain": [
       "[-L*v_11, -L*u_11]"
      ]
     },
     "execution_count": 25,
     "metadata": {},
     "output_type": "execute_result"
    }
   ],
   "source": [
    "eigv[9]"
   ]
  },
  {
   "cell_type": "code",
   "execution_count": 0,
   "metadata": {},
   "outputs": [],
   "source": [
    "eigv[7]"
   ]
  },
  {
   "cell_type": "code",
   "execution_count": 0,
   "metadata": {},
   "outputs": [],
   "source": [
    "eqsRL[1]"
   ]
  },
  {
   "cell_type": "code",
   "execution_count": 0,
   "metadata": {},
   "outputs": [],
   "source": []
  },
  {
   "cell_type": "code",
   "execution_count": 0,
   "metadata": {},
   "outputs": [],
   "source": [
    "eigv[1]"
   ]
  },
  {
   "cell_type": "code",
   "execution_count": 0,
   "metadata": {},
   "outputs": [],
   "source": [
    "eqsRLn[8]"
   ]
  },
  {
   "cell_type": "code",
   "execution_count": 0,
   "metadata": {},
   "outputs": [],
   "source": [
    "eigv[8]"
   ]
  },
  {
   "cell_type": "code",
   "execution_count": 0,
   "metadata": {},
   "outputs": [],
   "source": [
    "solve([eigv[1][0]<0,L>0],v_22)"
   ]
  },
  {
   "cell_type": "code",
   "execution_count": 0,
   "metadata": {},
   "outputs": [],
   "source": [
    "solve([f(x,y,3,1,5,2.1,L)==0,f(y,x,5,-1,-2,-1,L)==0],x,y)"
   ]
  },
  {
   "cell_type": "code",
   "execution_count": 0,
   "metadata": {},
   "outputs": [],
   "source": [
    "#j = F.diff(); #doesn't work well for some (unknown) reason. Better to use the function 'jacobian()' as above"
   ]
  },
  {
   "cell_type": "code",
   "execution_count": 26,
   "metadata": {},
   "outputs": [
    {
     "data": {
      "text/html": [
       "<html><script type=\"math/tex; mode=display\">\\newcommand{\\Bold}[1]{\\mathbf{#1}}\\left( M, t, u \\right) \\ {\\mapsto} \\ M + \\frac{u}{t}</script></html>"
      ],
      "text/plain": [
       "(M, t, u) |--> M + u/t"
      ]
     },
     "execution_count": 26,
     "metadata": {},
     "output_type": "execute_result"
    }
   ],
   "source": [
    "r(M,t,u)=M+(1/t)*u;\n",
    "r"
   ]
  },
  {
   "cell_type": "code",
   "execution_count": 27,
   "metadata": {},
   "outputs": [
    {
     "data": {
      "text/html": [
       "<html><script type=\"math/tex; mode=display\">\\newcommand{\\Bold}[1]{\\mathbf{#1}}\\left( v_{1}, v_{2}, L \\right) \\ {\\mapsto} \\ \\frac{e^{\\left(L v_{1}\\right)}}{e^{\\left(L v_{1}\\right)} + e^{\\left(L v_{2}\\right)}}</script></html>"
      ],
      "text/plain": [
       "(v1, v2, L) |--> e^(L*v1)/(e^(L*v1) + e^(L*v2))"
      ]
     },
     "execution_count": 27,
     "metadata": {},
     "output_type": "execute_result"
    }
   ],
   "source": [
    "C(v1,v2,L)=exp(v1*L)/(exp(v1*L)+exp(v2*L));\n",
    "C"
   ]
  },
  {
   "cell_type": "code",
   "execution_count": 28,
   "metadata": {},
   "outputs": [],
   "source": [
    "def game22(a1,a2,R,S,T,P):\n",
    "        if ((a1==0) & (a2==0)):\n",
    "            return R\n",
    "        elif ((a1==0) & (a2==1)):\n",
    "            return S\n",
    "        elif ((a1==1) & (a2==0)):\n",
    "            return T\n",
    "        elif ((a1==1) & (a2==1)):\n",
    "            return P\n",
    "\n",
    "        else:\n",
    "            return infinity"
   ]
  },
  {
   "cell_type": "code",
   "execution_count": 29,
   "metadata": {},
   "outputs": [
    {
     "data": {
      "text/html": [
       "<html><script type=\"math/tex; mode=display\">\\newcommand{\\Bold}[1]{\\mathbf{#1}}3</script></html>"
      ],
      "text/plain": [
       "3"
      ]
     },
     "execution_count": 29,
     "metadata": {},
     "output_type": "execute_result"
    }
   ],
   "source": [
    "game22(0,0,3,1,5,2)"
   ]
  },
  {
   "cell_type": "code",
   "execution_count": 30,
   "metadata": {},
   "outputs": [],
   "source": [
    "# Repeated game with logit choice rule\n",
    "def RepeatedGame(M0p1a1,M0p1a2,M0p2a1,M0p2a2,L1,L2,R1,S1,T1,P1,R2,S2,T2,P2,Tmax):\n",
    "\n",
    "    # Initialize variables\n",
    "    GameData=[];\n",
    "    cMp1a1 = M0p1a1;\n",
    "    cMp1a2 = M0p1a2;\n",
    "    cMp2a1 = M0p2a1;\n",
    "    cMp2a2 = M0p2a2;\n",
    "    for k in [1..Tmax]:\n",
    "\n",
    "        # Generate action choice for both players\n",
    "        cP1 = C(cMp1a1,cMp1a2,L1);\n",
    "        cPdist1 = GeneralDiscreteDistribution([C(cMp1a1,cMp1a2,L1),1-C(cMp1a1,cMp1a2,L1)]);\n",
    "        ca1 = cPdist1.get_random_element();\n",
    "        cP2 = C(cMp2a1,cMp2a2,L2);\n",
    "        cPdist2 = GeneralDiscreteDistribution([C(cMp2a1,cMp2a2,L2),1-C(cMp2a1,cMp2a2,L2)]);\n",
    "        ca2 = cPdist2.get_random_element();\n",
    "\n",
    "        # Game outcome\n",
    "        cPay1 = game22(ca1,ca2,R1,S1,T1,P1);\n",
    "        cPay2 = game22(ca2,ca1,R2,S2,T2,P2);\n",
    "\n",
    "        # Append current round to the data\n",
    "        GameData += [[[[cMp1a1,cMp1a2],[cMp2a1,cMp2a2]],[cP1, cP2], [ca1, ca2]]];\n",
    "\n",
    "        # Update motivations\n",
    "        cMp1a1 = r(cMp1a1,k,(bool(ca1==0)*cPay1));\n",
    "        cMp1a2 = r(cMp1a2,k,(bool(ca1==1)*cPay1));\n",
    "        cMp2a1 = r(cMp2a1,k,(bool(ca2==0)*cPay2));\n",
    "        cMp2a2 = r(cMp2a2,k,(bool(ca2==1)*cPay2));\n",
    "    return GameData"
   ]
  },
  {
   "cell_type": "code",
   "execution_count": 52,
   "metadata": {},
   "outputs": [],
   "source": [
    "def probTraj(data,col='blue',xlab='',ylab=''):\n",
    "    probList = [];\n",
    "    for i in range(len(data)):\n",
    "        probList += [[data[i][1][0],data[i][1][1]]];\n",
    "    pwl = list_plot(probList,plotjoined=True,color=col,xmin=0, xmax=1,ymin=0, ymax=1,aspect_ratio=1, axes=False,axes_labels=[xlab,ylab],frame=True,zorder=60)\n",
    "    pol = list_plot(probList,plotjoined=False,color=col,xmin=0, xmax=1,ymin=0, ymax=1,aspect_ratio=1, axes=False,axes_labels=[xlab,ylab],frame=True,zorder=65)\n",
    "    return(pwl+pol)"
   ]
  },
  {
   "cell_type": "code",
   "execution_count": 53,
   "metadata": {},
   "outputs": [],
   "source": [
    "#Temporal dynamics of mixed strategies\n",
    "def timeDyn(data,col='blue',xlab='',ylab='',player=0):\n",
    "    tDynList = [];\n",
    "    for i in range(len(data)):\n",
    "        tDynList += [[i,data[i][1][player]]];\n",
    "    pwl = list_plot(tDynList,plotjoined=True,color=col,xmin=0, xmax=len(data),ymin=0, ymax=1, axes=False,axes_labels=[xlab,ylab],frame=True)\n",
    "    return(pwl)"
   ]
  },
  {
   "cell_type": "code",
   "execution_count": 36,
   "metadata": {},
   "outputs": [],
   "source": [
    "dataStoch = RepeatedGame(1,1,1,1,1.3,1.3,1,-1,-1,1,-1,1,1,-1,700);"
   ]
  },
  {
   "cell_type": "code",
   "execution_count": 37,
   "metadata": {},
   "outputs": [
    {
     "data": {
      "image/png": "[encoded data removed]",
      "text/plain": [
       "Graphics object consisting of 2 graphics primitives"
      ]
     },
     "metadata": {},
     "output_type": "display_data"
    }
   ],
   "source": [
    "p1dyn = timeDyn(dataStoch,col='red',xlab='Time, $t$',ylab='$p_1(t),p_2(t)$',player=0);\n",
    "p2dyn = timeDyn(dataStoch,col='black',xlab='Time, $t$',ylab='$p_1(t),p_2(t)$',player=1);\n",
    "show(p1dyn+p2dyn)"
   ]
  },
  {
   "cell_type": "code",
   "execution_count": 38,
   "metadata": {},
   "outputs": [
    {
     "data": {
      "text/html": [
       "<html><script type=\"math/tex; mode=display\">\\newcommand{\\Bold}[1]{\\mathbf{#1}}-\\frac{L P_{b} S_{a} + L P_{a} T_{b}}{P_{a} + S_{a}}</script></html>"
      ],
      "text/plain": [
       "-(L*P_b*S_a + L*P_a*T_b)/(P_a + S_a)"
      ]
     },
     "execution_count": 38,
     "metadata": {},
     "output_type": "execute_result"
    }
   ],
   "source": [
    "var('R_a,S_a,T_a,P_a,R_b,S_b,T_b,P_b')\n",
    "eigv[1][0](u_11=R_a,u_12=S_a,u_21=T_a,u_22=P_a,v_11=R_b,v_12=S_b,v_21=T_b,v_22=P_b,L=L)"
   ]
  },
  {
   "cell_type": "code",
   "execution_count": 41,
   "metadata": {},
   "outputs": [
    {
     "data": {
      "text/html": [
       "<html><script type=\"math/tex; mode=display\">\\newcommand{\\Bold}[1]{\\mathbf{#1}}5</script></html>"
      ],
      "text/plain": [
       "5"
      ]
     },
     "execution_count": 41,
     "metadata": {},
     "output_type": "execute_result"
    }
   ],
   "source": [
    "(x+y)(x=2,y=3)"
   ]
  },
  {
   "cell_type": "code",
   "execution_count": 48,
   "metadata": {},
   "outputs": [],
   "source": [
    "def Vfield2p(R1,S1,T1,P1,R2,S2,T2,P2,L,xlab,ylab,col='gray'):\n",
    "    var('x,y');\n",
    "    vf = plot_vector_field((f(x,y,R1,S1,T1,P1,L),f(y,x,R2,S2,T2,P2,L)), (x,0,1), (y,0,1), axes=False,color=col,aspect_ratio=1,axes_labels=[xlab,ylab],frame=True,headwidth=10,headlength=8);\n",
    "\n",
    "\n",
    "    source = []; #list of sources (both eigenvalues are positive)\n",
    "    sink = []; #list of sinks (both eigenvalues are negative)\n",
    "    saddle = []; #list of saddles (one neg., one pos. eig.)\n",
    "    undet = []; #list of equilibria with both 0 eigenvalues\n",
    "\n",
    "    numEqs = [];\n",
    "    numEig = [];\n",
    "\n",
    "    for i in range(len(eqsRLn)):\n",
    "        numEqs += [[eqsRLn[i][0].subs(u_11=R1,u_12=S1,u_21=T1,u_22=P1,v_11=R2,v_12=S2,v_21=T2,v_22=P2,L=L).n(),eqsRLn[i][1].subs(u_11=R1,u_12=S1,u_21=T1,u_22=P1,v_11=R2,v_12=S2,v_21=T2,v_22=P2,L=L).n()]];\n",
    "        if (imag_part(numEqs[i][0])!=0 or imag_part(numEqs[i][1])!=0):\n",
    "            numEqs[i][0] = 99;#attributing unrealistic values in case there are complex eigenvalues, to draw attention\n",
    "            numEqs[i][1] = 99;\n",
    "\n",
    "    for i in range(len(eqsRLn)):\n",
    "        if(i!=4 and i!=5):\n",
    "            numEig += [[eigv[i][0](u_11=R1,u_12=S1,u_21=T1,u_22=P1,v_11=R2,v_12=S2,v_21=T2,v_22=P2,L=L).n(),eigv[i][1](u_11=R1,u_12=S1,u_21=T1,u_22=P1,v_11=R2,v_12=S2,v_21=T2,v_22=P2,L=L).n()]]; #be careful about the indexing between numEqs and numEig becasue numEig has less elements than numEqs\n",
    "        else:\n",
    "            numEig += [j.subs(x=numEqs[i][0],y=numEqs[i][1],u_11=R1,u_12=S1,u_21=T1,u_22=P1,v_11=R2,v_12=S2,v_21=T2,v_22=P2,L=L).n().eigenvalues()]; #j is the name of the Jacobian matrix, defined above in the notebook\n",
    "\n",
    "    for i in range(len(eqsRLn)):\n",
    "        if (0<=numEqs[i][0]<=1 and 0<=numEqs[i][1]<=1):\n",
    "                if (numEig[i][0]>0 and numEig[i][1]>0):\n",
    "                    source += [(numEqs[i][0],numEqs[i][1])];\n",
    "                elif (numEig[i][0]>0 or numEig[i][1]>0):\n",
    "                    saddle += [(numEqs[i][0],numEqs[i][1])];\n",
    "                elif (numEig[i][0]==0 and numEig[i][1]==0):\n",
    "                    undet += [(numEqs[i][0],numEqs[i][1])];\n",
    "                else:\n",
    "                    sink += [(numEqs[i][0],numEqs[i][1])];\n",
    "\n",
    "    pSink = point(sink,color='black',faceted='True',size=60);\n",
    "    pSource = point(source,color='white',faceted='True',size=60);\n",
    "    pSaddle = point(saddle,color='gray',faceted='True',size=60);\n",
    "    pUndet = point(undet,color='red',faceted='True',size=60);\n",
    "\n",
    "    return(vf+pSink+pSource+pSaddle+pUndet)"
   ]
  },
  {
   "cell_type": "code",
   "execution_count": 43,
   "metadata": {},
   "outputs": [],
   "source": [
    "def equilibria2p(R1,S1,T1,P1,R2,S2,T2,P2,L,xlab,ylab,col='gray'):\n",
    "    var('x,y');\n",
    "\n",
    "\n",
    "\n",
    "    source = []; #list of sources (both eigenvalues are positive)\n",
    "    sink = []; #list of sinks (both eigenvalues are negative)\n",
    "    saddle = []; #list of saddles (one neg., one pos. eig.)\n",
    "    undet = []; #list of equilibria with both 0 eigenvalues\n",
    "\n",
    "    numEqs = [];\n",
    "    numEig = [];\n",
    "\n",
    "    for i in range(len(eqsRLn)):\n",
    "        numEqs += [[eqsRLn[i][0].subs(u_11=R1,u_12=S1,u_21=T1,u_22=P1,v_11=R2,v_12=S2,v_21=T2,v_22=P2,L=L).n(),eqsRLn[i][1].subs(u_11=R1,u_12=S1,u_21=T1,u_22=P1,v_11=R2,v_12=S2,v_21=T2,v_22=P2,L=L).n()]];\n",
    "        if (imag_part(numEqs[i][0])!=0 or imag_part(numEqs[i][1])!=0):\n",
    "            numEqs[i][0] = 99;#attributing unrealistic values in case there are complex eigenvalues, to draw attention\n",
    "            numEqs[i][1] = 99;\n",
    "\n",
    "    for i in range(len(eqsRLn)):\n",
    "        if(i!=4 and i!=5):\n",
    "            numEig += [[eigv[i][0](u_11=R1,u_12=S1,u_21=T1,u_22=P1,v_11=R2,v_12=S2,v_21=T2,v_22=P2,L=L).n(),eigv[i][1](u_11=R1,u_12=S1,u_21=T1,u_22=P1,v_11=R2,v_12=S2,v_21=T2,v_22=P2,L=L).n()]]; #be careful about the indexing between numEqs and numEig becasue numEig has less elements than numEqs\n",
    "        else:\n",
    "            numEig += [j.subs(x=numEqs[i][0],y=numEqs[i][1],u_11=R1,u_12=S1,u_21=T1,u_22=P1,v_11=R2,v_12=S2,v_21=T2,v_22=P2,L=L).n().eigenvalues()]; #j is the name of the Jacobian matrix, defined above in the notebook\n",
    "\n",
    "    for i in range(len(eqsRLn)):\n",
    "        if (0<=numEqs[i][0]<=1 and 0<=numEqs[i][1]<=1):\n",
    "                if (numEig[i][0]>0 and numEig[i][1]>0):\n",
    "                    source += [(numEqs[i][0],numEqs[i][1])];\n",
    "                elif (numEig[i][0]>0 or numEig[i][1]>0):\n",
    "                    saddle += [(numEqs[i][0],numEqs[i][1])];\n",
    "                elif (numEig[i][0]==0 and numEig[i][1]==0):\n",
    "                    undet += [(numEqs[i][0],numEqs[i][1])];\n",
    "                else:\n",
    "                    sink += [(numEqs[i][0],numEqs[i][1])];\n",
    "\n",
    "    pSink = point(sink,color='black',faceted='True',size=60,zorder=70);\n",
    "    pSource = point(source,color='white',faceted='True',size=60,zorder=70);\n",
    "    pSaddle = point(saddle,color='gray',faceted='True',size=60,zorder=70);\n",
    "    pUndet = point(undet,color='red',faceted='True',size=60,zorder=70);\n",
    "\n",
    "    return(pSink+pSource+pSaddle+pUndet)"
   ]
  },
  {
   "cell_type": "code",
   "execution_count": 44,
   "metadata": {},
   "outputs": [],
   "source": [
    "def eqNum(R1,S1,T1,P1,R2,S2,T2,P2,L):\n",
    "\n",
    "    numEqs = [];\n",
    "\n",
    "    for i in range(len(eqsRLn)):\n",
    "        numEqs += [[eqsRLn[i][0].subs(u_11=R1,u_12=S1,u_21=T1,u_22=P1,v_11=R2,v_12=S2,v_21=T2,v_22=P2,L=L).n(),eqsRLn[i][1].subs(u_11=R1,u_12=S1,u_21=T1,u_22=P1,v_11=R2,v_12=S2,v_21=T2,v_22=P2,L=L).n()]];\n",
    "    return(numEqs)"
   ]
  },
  {
   "cell_type": "markdown",
   "metadata": {},
   "source": [
    "<strong><font size=6>Analysis of specific interactions</font></strong>"
   ]
  },
  {
   "cell_type": "code",
   "execution_count": 49,
   "metadata": {},
   "outputs": [
    {
     "name": "stderr",
     "output_type": "stream",
     "text": [
      "/Users/slimane/opt/miniconda3/envs/sage/lib/python3.7/site-packages/sage/repl/ipython_kernel/__main__.py:24: UserWarning: Using generic algorithm for an inexact ring, which will probably give incorrect results due to numerical precision issues.\n"
     ]
    },
    {
     "data": {
      "image/png": "[encoded data removed]",
      "text/plain": [
       "Graphics object consisting of 4 graphics primitives"
      ]
     },
     "metadata": {},
     "output_type": "display_data"
    }
   ],
   "source": [
    "parSelf = Vfield2p(1,-1.01,-1.01,-1.01,-1.01,-1.01,1,1,1.8,'Pareto, $p_1$','Selfish, $p_2$');\n",
    "parSelf.show()"
   ]
  },
  {
   "cell_type": "code",
   "execution_count": 50,
   "metadata": {},
   "outputs": [
    {
     "name": "stderr",
     "output_type": "stream",
     "text": [
      "/Users/slimane/opt/miniconda3/envs/sage/lib/python3.7/site-packages/sage/repl/ipython_kernel/__main__.py:24: UserWarning: Using generic algorithm for an inexact ring, which will probably give incorrect results due to numerical precision issues.\n"
     ]
    },
    {
     "data": {
      "image/png": "[encoded data removed]",
      "text/plain": [
       "Graphics object consisting of 4 graphics primitives"
      ]
     },
     "execution_count": 50,
     "metadata": {},
     "output_type": "execute_result"
    }
   ],
   "source": [
    "Vfield2p(1,-1.02,-1.03,-1.01,-1.06,-1.04,1.05,1.08,1.8,'Pareto, $p_1$','Selfish, $p_2$',col='gray')"
   ]
  },
  {
   "cell_type": "markdown",
   "metadata": {},
   "source": [
    "<strong><font size=4>Realistic vs. Realistic</font></strong>"
   ]
  },
  {
   "cell_type": "code",
   "execution_count": 54,
   "metadata": {},
   "outputs": [
    {
     "data": {
      "image/png": "[encoded data removed]",
      "text/plain": [
       "Graphics object consisting of 2 graphics primitives"
      ]
     },
     "metadata": {},
     "output_type": "display_data"
    }
   ],
   "source": [
    "dataStochRR = RepeatedGame(1,1,1,1,1.3,1.3,3,-2,5,0,3,-2,5,0,100);\n",
    "RRstoch = probTraj(dataStochRR,xlab='Realistic, $p_1$',ylab='Realistic, $p_2$');\n",
    "show(RRstoch)"
   ]
  },
  {
   "cell_type": "code",
   "execution_count": 0,
   "metadata": {},
   "outputs": [],
   "source": [
    "dataStochRR2 = RepeatedGame(1,1,1,1,1.3,1.3,3,-2,5,0,3,-2,5,0,100);\n",
    "RRstoch2 = probTraj(dataStochRR2,col='orange',xlab='Realistic, $p_1$',ylab='Realistic, $p_2$');\n",
    "show(RRstoch2)"
   ]
  },
  {
   "cell_type": "code",
   "execution_count": 0,
   "metadata": {},
   "outputs": [],
   "source": [
    "plot(3,x,0,1,aspect_ratio=1,ymin=0,ymax=1)"
   ]
  },
  {
   "cell_type": "code",
   "execution_count": 0,
   "metadata": {},
   "outputs": [],
   "source": [
    "RealRealEq = equilibria2p(3,-2,5,0,3,-2,5,0,1.8,'Realistic, $p_1$','Realistic, $p_2$');"
   ]
  },
  {
   "cell_type": "code",
   "execution_count": 0,
   "metadata": {},
   "outputs": [],
   "source": [
    "show(RealRealEq+RRstoch+RRstoch2)"
   ]
  },
  {
   "cell_type": "code",
   "execution_count": 0,
   "metadata": {},
   "outputs": [],
   "source": [
    "RealReal = Vfield2p(3,-2,5,0,3,-2,5,0,1.8,r'$\\rm{\\ Realistic, } p_1$',r'$\\rm{\\ Realistic,  } p_2$');\n",
    "show(RealReal+RRstoch+RRstoch2)"
   ]
  },
  {
   "cell_type": "code",
   "execution_count": 0,
   "metadata": {},
   "outputs": [],
   "source": [
    "RRfull1 = numSde2(0.01,0.94,3,-2,5,0,3,-2,5,0,1.8,0.01,[0.005,0.01,0.02],100,'black','Realistic, $p_1$','Realistic, $p_2$');\n",
    "RRfull"
   ]
  },
  {
   "cell_type": "code",
   "execution_count": 0,
   "metadata": {},
   "outputs": [],
   "source": [
    "RRrev = numSdeReverse(0.01,0.94,3,-2,5,0,3,-2,5,0,1.8,0.01,[0.005,0.01,0.02],100,'black','Realistic, $p_1$','Realistic, $p_2$');"
   ]
  },
  {
   "cell_type": "code",
   "execution_count": 0,
   "metadata": {},
   "outputs": [],
   "source": [
    "RRfull1 = numSde2(0.01,0.94,3,-2,5,0,3,-2,5,0,1.8,0.01,[0.005,0.01],100,'black','Realistic, $p_1$','Realistic, $p_2$',4);\n",
    "#RRfull2 = numSde2(0.4,0.5,3,-2,5,0,3,-2,5,0,1.8,0.01,[0.01,0.02],100,'gray','Realistic, $p_1$','Realistic, $p_2$',4);\n",
    "RRfull3 = numSde2(0.8,0.76,3,-2,5,0,3,-2,5,0,1.8,0.01,[0.001],100,'black','Realistic, $p_1$','Realistic, $p_2$',4);\n",
    "RRfull4 = numSde2(0.76,0.8,3,-2,5,0,3,-2,5,0,1.8,0.01,[0.001],100,'black','Realistic, $p_1$','Realistic, $p_2$',4);\n",
    "RRfull5 = numSde2(0.94,0.01,3,-2,5,0,3,-2,5,0,1.8,0.01,[0.005,0.01],100,'black','Realistic, $p_1$','Realistic, $p_2$',4);\n",
    "RRfull6 = numSde2(0.5,0.3,3,-2,5,0,3,-2,5,0,1.8,0.01,[0.001,0.003],100,'black','Realistic, $p_1$','Realistic, $p_2$',4);\n",
    "RRfull7 = numSde2(0.3,0.5,3,-2,5,0,3,-2,5,0,1.8,0.01,[0.001,0.003],100,'black','Realistic, $p_1$','Realistic, $p_2$',4);\n",
    "RRfull8 = numSde2(0.76,0.99,3,-2,5,0,3,-2,5,0,1.8,0.01,[0.001,0.003],100,'black','Realistic, $p_1$','Realistic, $p_2$',4);\n",
    "RRfull9 = numSde2(0.99,0.76,3,-2,5,0,3,-2,5,0,1.8,0.01,[0.001,0.003],100,'black','Realistic, $p_1$','Realistic, $p_2$',4);"
   ]
  },
  {
   "cell_type": "code",
   "execution_count": 0,
   "metadata": {},
   "outputs": [],
   "source": [
    "show(RealRealEq+RRstoch+RRstoch2+RRfull1+RRfull3+RRfull4+RRfull5+RRfull6+RRfull7+RRfull8+RRfull9)"
   ]
  },
  {
   "cell_type": "code",
   "execution_count": 0,
   "metadata": {},
   "outputs": [],
   "source": [
    "save(RealRealEq+RRstoch+RRstoch2+RRfull1+RRfull3+RRfull4+RRfull5+RRfull6+RRfull7+RRfull8+RRfull9,\"DSrr2.pdf\")"
   ]
  },
  {
   "cell_type": "code",
   "execution_count": 0,
   "metadata": {},
   "outputs": [],
   "source": []
  },
  {
   "cell_type": "code",
   "execution_count": 0,
   "metadata": {},
   "outputs": [],
   "source": [
    "#numSde(x0,y0,u_11,u_12,u_21,u_22,v_11,v_12,v_21,v_22,L,step,parr,Tmax,col,xlab,ylab)\n",
    "RRd = numSde(0.71,0.71,3,-2,5,0,3,-2,5,0,1.8,0.01,[0.005,0.01,0.02],100,'black',r'$\\rm{\\ Realistic, } p_1$',r'$\\rm{\\ Realistic,  } p_2$');\n",
    "show(RRd)"
   ]
  },
  {
   "cell_type": "code",
   "execution_count": 0,
   "metadata": {},
   "outputs": [],
   "source": [
    "#numSde(x0,y0,u_11,u_12,u_21,u_22,v_11,v_12,v_21,v_22,L,step,parr,Tmax,col,xlab,ylab)\n",
    "RRd2 = numSde(0.71,0.75,3,-2,5,0,3,-2,5,0,1.8,0.01,[0.005,0.01,0.02],100,'black','','');\n",
    "show(RRd2)"
   ]
  },
  {
   "cell_type": "code",
   "execution_count": 0,
   "metadata": {},
   "outputs": [],
   "source": [
    "save(RRd2,\"Trr.pdf\")"
   ]
  },
  {
   "cell_type": "code",
   "execution_count": 0,
   "metadata": {},
   "outputs": [],
   "source": [
    "#numSde(x0,y0,u_11,u_12,u_21,u_22,v_11,v_12,v_21,v_22,L,step,parr,Tmax,col,xlab,ylab)\n",
    "RRd2 = numSde(0.68,0.68,3,-2,5,0,3,-2,5,0,1.8,0.01,[0.005,0.01,0.02],100,'black',r'$\\rm{\\ Realistic, } p_1$',r'$\\rm{\\ Realistic,  } p_2$');\n",
    "show(RRd2)"
   ]
  },
  {
   "cell_type": "code",
   "execution_count": 0,
   "metadata": {},
   "outputs": [],
   "source": [
    "#numSde(0.01,0.94,1,-1.02,-1.03,-1.01,-1.06,-1.04,1.05,1.08,1.8,0.01,[0.005,0.01,0.02],100,'black','Pareto, $p_1$','Selfish, $p_2$');"
   ]
  },
  {
   "cell_type": "code",
   "execution_count": 0,
   "metadata": {},
   "outputs": [],
   "source": [
    "#The anaylsis of this dynamical system is in Dridi & Lehmann (2015:Animal Behaviour), under the name \"TR vs. TR\", but CHECK THAT THE ANALYSIS THERE IS INSENSITIVE TO THE MAGNITUDES OF THE UTILITIES"
   ]
  },
  {
   "cell_type": "code",
   "execution_count": 0,
   "metadata": {},
   "outputs": [],
   "source": [
    "save(RealReal+RRstoch+RRstoch2,\"DSrr.pdf\")"
   ]
  },
  {
   "cell_type": "code",
   "execution_count": 0,
   "metadata": {},
   "outputs": [],
   "source": [
    "#Generic payoff\n",
    "var('R,S,T,P');\n",
    "Pi([[1,1],[0,0]],R,S,T,P)"
   ]
  },
  {
   "cell_type": "code",
   "execution_count": 0,
   "metadata": {},
   "outputs": [],
   "source": [
    "#Payoffs in PD, SH, SD\n",
    "var('b,c,k');\n",
    "[Pi([[1,1],[0,0]],b-c,-c,b,0),Pi([[1,1],[0,0]],b-c,-c,(b-c)/k,(b-c)/k),Pi([[1,1],[0,0]],b-c/2,b-c,b,0)]"
   ]
  },
  {
   "cell_type": "code",
   "execution_count": 0,
   "metadata": {},
   "outputs": [],
   "source": []
  },
  {
   "cell_type": "code",
   "execution_count": 0,
   "metadata": {},
   "outputs": [],
   "source": [
    "%html\n",
    "<strong><font size=4>Realistic vs. Avoid sucker's</font></strong>"
   ]
  },
  {
   "cell_type": "code",
   "execution_count": 0,
   "metadata": {},
   "outputs": [],
   "source": [
    "dataStochRA = RepeatedGame(1,1,1,1,1.3,1.3,3,-2,5,0,1,-1,1,1,100);"
   ]
  },
  {
   "cell_type": "code",
   "execution_count": 0,
   "metadata": {},
   "outputs": [],
   "source": [
    "dataStochRA = RepeatedGame(1,1,1,1,1.3,1.3,3,-2,5,0,1,-1,1,1,100);\n",
    "RAstoch = probTraj(dataStochRA,xlab='Realistic, $p_1$',ylab='Avoid sucker, $p_2$');\n",
    "show(RAstoch)"
   ]
  },
  {
   "cell_type": "code",
   "execution_count": 0,
   "metadata": {},
   "outputs": [],
   "source": [
    "dataStochRA2 = RepeatedGame(1,1,1,1,1.9,1.9,3,-2,5,0,1,-1,1,1,100);\n",
    "RAstoch2 = probTraj(dataStochRA2,col='orange',xlab='Realistic, $p_1$',ylab='Avoid sucker, $p_2$');\n",
    "show(RAstoch2)"
   ]
  },
  {
   "cell_type": "code",
   "execution_count": 0,
   "metadata": {},
   "outputs": [],
   "source": [
    "RealAs = Vfield2p(3,-2,5,0,1,-5.01,1,1,1.8,'$\\mathrm{Realistic,  } p_1$','$\\mathrm{Avoid  sucker,  } p_2$');\n",
    "show(RealAs+RAstoch+RAstoch2)"
   ]
  },
  {
   "cell_type": "code",
   "execution_count": 0,
   "metadata": {},
   "outputs": [],
   "source": []
  },
  {
   "cell_type": "code",
   "execution_count": 0,
   "metadata": {},
   "outputs": [],
   "source": [
    "save(RealAs+RAstoch+RAstoch2,\"DSra.pdf\")"
   ]
  },
  {
   "cell_type": "code",
   "execution_count": 0,
   "metadata": {},
   "outputs": [],
   "source": []
  },
  {
   "cell_type": "code",
   "execution_count": 0,
   "metadata": {},
   "outputs": [],
   "source": [
    "eigv[7]"
   ]
  },
  {
   "cell_type": "code",
   "execution_count": 0,
   "metadata": {},
   "outputs": [],
   "source": [
    "eqsRL[7]"
   ]
  },
  {
   "cell_type": "code",
   "execution_count": 0,
   "metadata": {},
   "outputs": [],
   "source": [
    "#Top-Left pure equilibrium\n",
    "solve_ineq([eigv[7][0]<0,eigv[7][1]<0,u_11>0,u_12<0,u_21>0,u_22==0,v_11>0,v_12<0,v_21>0,v_22>0,L>0])"
   ]
  },
  {
   "cell_type": "code",
   "execution_count": 0,
   "metadata": {},
   "outputs": [],
   "source": [
    "solve_ineq([eigv[7][0]>0,eigv[7][1]>0,u_11>0,u_12<0,u_21>0,u_22==0,v_11>0,v_12<0,v_21>0,v_22>0,L>0])"
   ]
  },
  {
   "cell_type": "code",
   "execution_count": 0,
   "metadata": {},
   "outputs": [],
   "source": [
    "solve_ineq([eigv[7][0]>0,eigv[7][1]<0,u_11>0,u_12<0,u_21>0,u_22==0,v_11>0,v_12<0,v_21>0,v_22>0,L>0])"
   ]
  },
  {
   "cell_type": "code",
   "execution_count": 0,
   "metadata": {},
   "outputs": [],
   "source": []
  },
  {
   "cell_type": "code",
   "execution_count": 0,
   "metadata": {},
   "outputs": [],
   "source": [
    "#Right boundary equilibrium\n",
    "eqsRL[6]"
   ]
  },
  {
   "cell_type": "code",
   "execution_count": 0,
   "metadata": {},
   "outputs": [],
   "source": []
  },
  {
   "cell_type": "code",
   "execution_count": 0,
   "metadata": {},
   "outputs": [],
   "source": [
    "eigv[6]"
   ]
  },
  {
   "cell_type": "code",
   "execution_count": 0,
   "metadata": {},
   "outputs": [],
   "source": [
    "solve_ineq([eigv[6][0]<0,eigv[6][1]<0,u_11>0,u_12<0,u_21>0,u_22==0,v_11>0,v_12<0,v_21>0,v_22>0,L>0])"
   ]
  },
  {
   "cell_type": "code",
   "execution_count": 0,
   "metadata": {},
   "outputs": [],
   "source": [
    "solve_ineq([eigv[6][0]<0,eigv[6][1]>0,u_11>0,u_12<0,u_21>0,u_22==0,v_11>0,v_12<0,v_21>0,v_22>0,L>0])"
   ]
  },
  {
   "cell_type": "code",
   "execution_count": 0,
   "metadata": {},
   "outputs": [],
   "source": [
    "#The above u_12*v_11 + u_11*v_21 > 0 is always true because (in addition to the specified constraints) u_11 == B - C and u_12 == -C (with B>C>0). Hence the above condition on the eigenvalues is always true (and by extension the below conditions are always false)."
   ]
  },
  {
   "cell_type": "code",
   "execution_count": 0,
   "metadata": {},
   "outputs": [],
   "source": [
    "solve_ineq([eigv[6][0]>0,eigv[6][1]<0,u_11>0,u_12<0,u_21>0,u_22==0,v_11>0,v_12<0,v_21>0,v_22>0,L>0])"
   ]
  },
  {
   "cell_type": "code",
   "execution_count": 0,
   "metadata": {},
   "outputs": [],
   "source": [
    "solve_ineq([eigv[6][0]>0,eigv[6][1]>0,u_11>0,u_12<0,u_21>0,u_22==0,v_11>0,v_12<0,v_21>0,v_22>0,L>0])"
   ]
  },
  {
   "cell_type": "code",
   "execution_count": 0,
   "metadata": {},
   "outputs": [],
   "source": [
    "#Top boundary equilibrium\n",
    "eqsRL[8]"
   ]
  },
  {
   "cell_type": "code",
   "execution_count": 0,
   "metadata": {},
   "outputs": [],
   "source": [
    "eigv[8]"
   ]
  },
  {
   "cell_type": "code",
   "execution_count": 0,
   "metadata": {},
   "outputs": [],
   "source": [
    "solve_ineq([eigv[8][0]<0,eigv[8][1]<0,u_11>0,u_12<0,u_21>0,u_22==0,v_11>0,v_12<0,v_21>0,v_22>0,L>0])"
   ]
  },
  {
   "cell_type": "code",
   "execution_count": 0,
   "metadata": {},
   "outputs": [],
   "source": [
    "solve_ineq([eigv[8][0]<0,eigv[8][1]<0,L>0])"
   ]
  },
  {
   "cell_type": "code",
   "execution_count": 0,
   "metadata": {},
   "outputs": [],
   "source": [
    "solve_ineq([eigv[8][0]>0,eigv[8][1]<0,u_11>0,u_12<0,u_21>0,u_22==0,v_11>0,v_12<0,v_21>0,v_22>0,L>0])"
   ]
  },
  {
   "cell_type": "code",
   "execution_count": 0,
   "metadata": {},
   "outputs": [],
   "source": [
    "solve_ineq([eigv[8][0]<0,eigv[8][1]>0,u_11>0,u_12<0,u_21>0,u_22==0,v_11>0,v_12<0,v_21>0,v_22>0,L>0])"
   ]
  },
  {
   "cell_type": "code",
   "execution_count": 0,
   "metadata": {},
   "outputs": [],
   "source": [
    "var('B,C');\n",
    "solve_ineq([eigv[8][0]<0,eigv[8][1]>0,u_11 == B-C, u_21 == B, B>C , C>0, u_11>0,u_12<0,u_21>0,u_22==0,v_11>0,v_12<0,v_21>0,v_22>0,L>0])"
   ]
  },
  {
   "cell_type": "code",
   "execution_count": 0,
   "metadata": {},
   "outputs": [],
   "source": [
    "solve_ineq([eigv[8][0]>0,eigv[8][1]>0,u_11>0,u_12<0,u_21>0,u_22==0,v_11>0,v_12<0,v_21>0,v_22>0,L>0])"
   ]
  },
  {
   "cell_type": "code",
   "execution_count": 0,
   "metadata": {},
   "outputs": [],
   "source": [
    "# Summary for eqsRL[8]: one has to compare B/(B-C) with -v_12/v_11. If |v_12| <= |v_11| (i.e. in absolute value), then the equilibrium has eigv[8][0]<0 and eigv[8][1]>0 (saddle). If |v_12| >> |v_11| then both eigenvalues are positive (source). In other words, as long as Avoid Sucker's likes the cooperative outcome more than he dislikes the outcome where he is a sucker, then this equilibrium is a saddle."
   ]
  },
  {
   "cell_type": "code",
   "execution_count": 0,
   "metadata": {},
   "outputs": [],
   "source": [
    "var('B,C');\n",
    "solve_ineq([eigv[8][0]<0,eigv[8][1]>0,u_11 == B-C, u_21 == B, B>C , C>0, u_11>0,u_12<0,u_21>0,u_22==0,v_11>0,v_12<0,v_21>0,v_22>0,-v_12<v_11,L>0])"
   ]
  },
  {
   "cell_type": "code",
   "execution_count": 0,
   "metadata": {},
   "outputs": [],
   "source": [
    "#Top-right pure equilibrium (cooperative outcome)\n",
    "eqsRL[9]"
   ]
  },
  {
   "cell_type": "code",
   "execution_count": 0,
   "metadata": {},
   "outputs": [],
   "source": [
    "eigv[9]"
   ]
  },
  {
   "cell_type": "code",
   "execution_count": 0,
   "metadata": {},
   "outputs": [],
   "source": [
    "#Bottom boundary equilibrium does not exist for the interaction Realistic vs. Avoid Sucker\n",
    "eqsRL[1]"
   ]
  },
  {
   "cell_type": "code",
   "execution_count": 0,
   "metadata": {},
   "outputs": [],
   "source": [
    "#Left boundary equilibrium does not exist for the interaction Realistic vs. Avoid Sucker\n",
    "eqsRL[3]"
   ]
  },
  {
   "cell_type": "code",
   "execution_count": 0,
   "metadata": {},
   "outputs": [],
   "source": [
    "#In conclusion, the two equilibria (0,0) and (1,1) are always asymptotically stable states. The only equilibrium whose stability depends on the parameter values is the top boundary equilibrium. However its stability properties do not affect the above general conclusion that full cooperation or full defection are the only two asymptotically stable states (maybe this affects the size of the basin of attraction for cooperation)."
   ]
  },
  {
   "cell_type": "code",
   "execution_count": 0,
   "metadata": {},
   "outputs": [],
   "source": [
    "%html\n",
    "<strong><font size=4>Realistic vs. Pareto</font></strong>"
   ]
  },
  {
   "cell_type": "code",
   "execution_count": 0,
   "metadata": {},
   "outputs": [],
   "source": [
    "RealPar = Vfield2p(3,-2,5,0,1.01,-1.8,-1,-1,1.8,'$\\mathrm{Realistic,  } p_1$','$\\mathrm{Pareto,  } p_2$');\n",
    "show(RealPar)"
   ]
  },
  {
   "cell_type": "code",
   "execution_count": 0,
   "metadata": {},
   "outputs": [],
   "source": [
    "dataStochRP = RepeatedGame(1,1,1,1,1.9,1.9,3,-2,5,0,1,-1,-1,-1,100);\n",
    "RPstoch = probTraj(dataStochRP,xlab='Realistic, $p_1$',ylab='Pareto, $p_2$');\n",
    "show(RPstoch)"
   ]
  },
  {
   "cell_type": "code",
   "execution_count": 0,
   "metadata": {},
   "outputs": [],
   "source": [
    "dataStochRP2 = RepeatedGame(1,1,1,1,1.3,1.3,3,-2,5,0,1,-1,-1,-1,100);\n",
    "RPstoch2 = probTraj(dataStochRP2,col='orange',xlab='Realistic, $p_1$',ylab='Pareto, $p_2$');\n",
    "show(RPstoch2)"
   ]
  },
  {
   "cell_type": "code",
   "execution_count": 0,
   "metadata": {},
   "outputs": [],
   "source": []
  },
  {
   "cell_type": "code",
   "execution_count": 0,
   "metadata": {},
   "outputs": [],
   "source": [
    "show(RealPar+RPstoch+RPstoch2)"
   ]
  },
  {
   "cell_type": "code",
   "execution_count": 0,
   "metadata": {},
   "outputs": [],
   "source": [
    "save(RealPar+RPstoch+RPstoch2,\"DSrp.pdf\")"
   ]
  },
  {
   "cell_type": "code",
   "execution_count": 0,
   "metadata": {},
   "outputs": [],
   "source": [
    "#Right boundary equilibrium does not exist because v_11 + v_21 ==  0 (!)\n",
    "eqsRL[6]"
   ]
  },
  {
   "cell_type": "code",
   "execution_count": 0,
   "metadata": {},
   "outputs": [],
   "source": [
    "eigv[6]"
   ]
  },
  {
   "cell_type": "code",
   "execution_count": 0,
   "metadata": {},
   "outputs": [],
   "source": [
    "#Top boundary equilibrium\n",
    "eqsRL[8]"
   ]
  },
  {
   "cell_type": "code",
   "execution_count": 0,
   "metadata": {},
   "outputs": [],
   "source": [
    "eigv[8]"
   ]
  },
  {
   "cell_type": "code",
   "execution_count": 0,
   "metadata": {},
   "outputs": [],
   "source": [
    "#note that the second eigenvalue is independent of the opponent of Realistic, so it has the same sign as found above\n",
    "solve_ineq([eigv[8][0]<0,eigv[8][1]<0,u_11>0,u_12<0,u_21>0,u_22==0,v_11>0,v_12<0,v_21<0,v_22<0,L>0])"
   ]
  },
  {
   "cell_type": "code",
   "execution_count": 0,
   "metadata": {},
   "outputs": [],
   "source": [
    "#See above for the conditons under which the eqsRL[8] is a saddle or a source. In this interaction, it seems that when eqsRL[8] is a source, then a completely interior equilbrium (eqsRL[4] or eqsRL[5]) exists which is itself a saddle."
   ]
  },
  {
   "cell_type": "code",
   "execution_count": 0,
   "metadata": {},
   "outputs": [],
   "source": []
  },
  {
   "cell_type": "code",
   "execution_count": 0,
   "metadata": {},
   "outputs": [],
   "source": [
    "#Bottom boundary equilibrium does not exist for the interaction between Realistic vs. any opponent\n",
    "eqsRL[1]"
   ]
  },
  {
   "cell_type": "code",
   "execution_count": 0,
   "metadata": {},
   "outputs": [],
   "source": []
  },
  {
   "cell_type": "code",
   "execution_count": 0,
   "metadata": {},
   "outputs": [],
   "source": [
    "#Left boundary equilibrium\n",
    "eqsRL[3]"
   ]
  },
  {
   "cell_type": "code",
   "execution_count": 0,
   "metadata": {},
   "outputs": [],
   "source": []
  },
  {
   "cell_type": "code",
   "execution_count": 0,
   "metadata": {},
   "outputs": [],
   "source": [
    "eigv[3]"
   ]
  },
  {
   "cell_type": "code",
   "execution_count": 0,
   "metadata": {},
   "outputs": [],
   "source": [
    "solve_ineq([eigv[3][0]<0,eigv[3][1]<0,u_11>0,u_12<0,u_21>0,u_22==0,v_11>0,v_12<0,v_21<0,v_22<0,L>0])"
   ]
  },
  {
   "cell_type": "code",
   "execution_count": 0,
   "metadata": {},
   "outputs": [],
   "source": [
    "#eqsRL[3] is always stable in Realistic vs. Pareto"
   ]
  },
  {
   "cell_type": "code",
   "execution_count": 0,
   "metadata": {},
   "outputs": [],
   "source": [
    "tEqRP = eqNum(3,-2,5,0,1.01,-1.68335,-1,-1,1);\n",
    "tEqRP[5]"
   ]
  },
  {
   "cell_type": "code",
   "execution_count": 0,
   "metadata": {},
   "outputs": [],
   "source": [
    "tEqRP[8]"
   ]
  },
  {
   "cell_type": "code",
   "execution_count": 0,
   "metadata": {},
   "outputs": [],
   "source": [
    "solve_ineq([u_21*L+1>5,u_21*L+1<5])"
   ]
  },
  {
   "cell_type": "code",
   "execution_count": 0,
   "metadata": {},
   "outputs": [],
   "source": [
    "%html\n",
    "<strong><font size=4>Realistic vs. Other regard</font></strong>"
   ]
  },
  {
   "cell_type": "code",
   "execution_count": 0,
   "metadata": {},
   "outputs": [],
   "source": [
    "dataStochRO = RepeatedGame(1,1,1,1,1.9,1.9,3,-2,5,0,1,1,-1,-1,100);\n",
    "ROstoch = probTraj(dataStochRO,xlab='Realistic, $p_1$',ylab='Other regard, $p_2$');\n",
    "show(ROstoch)"
   ]
  },
  {
   "cell_type": "code",
   "execution_count": 0,
   "metadata": {},
   "outputs": [],
   "source": [
    "dataStochRO2 = RepeatedGame(1,1,1,1,1.9,1.9,3,-2,5,0,1,1,-1,-1,100);\n",
    "ROstoch2 = probTraj(dataStochRO2,col='orange',xlab='Realistic, $p_1$',ylab='Other regard, $p_2$');\n",
    "show(ROstoch2)"
   ]
  },
  {
   "cell_type": "code",
   "execution_count": 0,
   "metadata": {},
   "outputs": [],
   "source": [
    "ROfull1 = numSde2(0.01,0.94,3,-2,5,0,1.01,1.02,-1,-1,1.8,0.01,[0.005,0.01],100,'black','Realistic, $p_1$','Other-regard, $p_2$',4);\n",
    "#ROfull2 = numSde2(0.4,0.5,3,-2,5,0,1.01,1.02,-1,-1,1.8,0.01,[0.01,0.02],100,'gray','Realistic, $p_1$','Other-regard, $p_2$',4);\n",
    "ROfull3 = numSde2(0.8,0.76,3,-2,5,0,1.01,1.02,-1,-1,1.8,0.01,[0.001],100,'black','Realistic, $p_1$','Other-regard, $p_2$',4);\n",
    "ROfull4 = numSde2(0.76,0.8,3,-2,5,0,1.01,1.02,-1,-1,1.8,0.01,[0.001],100,'black','Realistic, $p_1$','Other-regard, $p_2$',4);\n",
    "ROfull5 = numSde2(0.94,0.01,3,-2,5,0,1.01,1.02,-1,-1,1.8,0.01,[0.005,0.01],100,'black','Realistic, $p_1$','Other-regard, $p_2$',4);\n",
    "ROfull6 = numSde2(0.5,0.3,3,-2,5,0,1.01,1.02,-1,-1,1.8,0.01,[0.001,0.003],100,'black','Realistic, $p_1$','Other-regard, $p_2$',4);\n",
    "ROfull7 = numSde2(0.3,0.5,3,-2,5,0,1.01,1.02,-1,-1,1.8,0.01,[0.001,0.003],100,'black','Realistic, $p_1$','Other-regard, $p_2$',4);\n",
    "ROfull8 = numSde2(0.76,0.99,3,-2,5,0,1.01,1.02,-1,-1,1.8,0.01,[0.001,0.003],100,'black','Realistic, $p_1$','Other-regard, $p_2$',4);\n",
    "ROfull9 = numSde2(0.99,0.76,3,-2,5,0,1.01,1.02,-1,-1,1.8,0.01,[0.001,0.003],100,'black','Realistic, $p_1$','Other-regard, $p_2$',4);"
   ]
  },
  {
   "cell_type": "code",
   "execution_count": 0,
   "metadata": {},
   "outputs": [],
   "source": [
    "RealOther = Vfield2p(3,-2,5,0,1.01,1.02,-1,-1,1.8,'Realistic, $p_1$','Other regard, $p_2$');\n",
    "show(RealOther+ROstoch+ROstoch2)"
   ]
  },
  {
   "cell_type": "code",
   "execution_count": 0,
   "metadata": {},
   "outputs": [],
   "source": [
    "RealOtherEq = equilibria2p(3,-2,5,0,1.01,1.02,-1,-1,1.8,'Realistic, $p_1$','Other regard, $p_2$');\n",
    "show(RealOtherEq+ROstoch+ROstoch2)"
   ]
  },
  {
   "cell_type": "code",
   "execution_count": 0,
   "metadata": {},
   "outputs": [],
   "source": [
    "show(RealOtherEq+ROstoch+ROstoch2+ROfull1+ROfull3+ROfull4+ROfull5+ROfull7+ROfull8+ROfull9)"
   ]
  },
  {
   "cell_type": "code",
   "execution_count": 0,
   "metadata": {},
   "outputs": [],
   "source": [
    "save(RealOtherEq+ROstoch+ROstoch2+ROfull1+ROfull3+ROfull4+ROfull5+ROfull7+ROfull8+ROfull9,\"DSro2.pdf\")"
   ]
  },
  {
   "cell_type": "code",
   "execution_count": 0,
   "metadata": {},
   "outputs": [],
   "source": [
    "save(RealOther+ROstoch+ROstoch2,\"DSro.pdf\")"
   ]
  },
  {
   "cell_type": "code",
   "execution_count": 0,
   "metadata": {},
   "outputs": [],
   "source": []
  },
  {
   "cell_type": "code",
   "execution_count": 0,
   "metadata": {},
   "outputs": [],
   "source": [
    "#Left boundary equilibrium does not exist for this interaction\n",
    "solve_ineq([0<eqsRLn[3][1],eqsRLn[3][1]<1,u_11>0,u_12<0,u_21>0,u_22==0,v_11>0,v_12>0,v_21<0,v_22<0,L>0])"
   ]
  },
  {
   "cell_type": "code",
   "execution_count": 0,
   "metadata": {},
   "outputs": [],
   "source": [
    "#Right boundary equilibrium does not exist for this interaction\n",
    "solve_ineq([0<eqsRLn[6][1],eqsRLn[6][1]<1,u_11>0,u_12<0,u_21>0,u_22==0,v_11>0,v_12>0,v_21<0,v_22<0,L>0])"
   ]
  },
  {
   "cell_type": "code",
   "execution_count": 0,
   "metadata": {},
   "outputs": [],
   "source": [
    "#Top boundary equilibrium\n",
    "solve_ineq([0<eqsRLn[8][0],eqsRLn[8][0]<1,u_11>0,u_12<0,u_21>0,u_22==0,v_11>0,v_12>0,v_21<0,v_22<0,L>0])"
   ]
  },
  {
   "cell_type": "code",
   "execution_count": 0,
   "metadata": {},
   "outputs": [],
   "source": [
    "#note that the second eigenvalue is independent of the opponent of Realistic, so it has the same sign as found above, i.e. it is positive\n",
    "#Here eqsRL[8] will always be unstable because v_11>0,v_12>0, so -v_11/v_12 is always smaller than B/(B-C)\n",
    "solve_ineq([eigv[8][0]<0,u_11>0,u_12<0,u_21>0,u_22==0,v_11>0,v_12>0,v_21<0,v_22<0,L>0])"
   ]
  },
  {
   "cell_type": "code",
   "execution_count": 0,
   "metadata": {},
   "outputs": [],
   "source": [
    "#In conclusion for the interaction RvsO, the two stable equilibria are (0,1) and (1,1)"
   ]
  },
  {
   "cell_type": "code",
   "execution_count": 0,
   "metadata": {},
   "outputs": [],
   "source": [
    "#Payoffs\n",
    "Pi([[0,1],[1,1]],R,S,T,P)"
   ]
  },
  {
   "cell_type": "code",
   "execution_count": 0,
   "metadata": {},
   "outputs": [],
   "source": [
    "#Payoffs in PD, SH, SD\n",
    "var('b,c,k');\n",
    "[Pi([[0,1],[1,1]],b-c,-c,b,0),Pi([[0,1],[1,1]],b-c,-c,(b-c)/k,(b-c)/k),Pi([[0,1],[1,1]],b-c/2,b-c,b,0)]"
   ]
  },
  {
   "cell_type": "code",
   "execution_count": 0,
   "metadata": {},
   "outputs": [],
   "source": []
  },
  {
   "cell_type": "code",
   "execution_count": 0,
   "metadata": {},
   "outputs": [],
   "source": [
    "%html\n",
    "<strong><font size=4>Realistic vs. Manipulator</font></strong>"
   ]
  },
  {
   "cell_type": "code",
   "execution_count": 0,
   "metadata": {},
   "outputs": [],
   "source": [
    "dataStochRM = RepeatedGame(1,1,1,1,1.9,1.9,3,-2,5,0,1,-1,1,-1,100);\n",
    "RMstoch = probTraj(dataStochRM,xlab='Realistic, $p_1$',ylab='Manipulator, $p_2$');\n",
    "show(RMstoch)"
   ]
  },
  {
   "cell_type": "code",
   "execution_count": 0,
   "metadata": {},
   "outputs": [],
   "source": [
    "dataStochRM2 = RepeatedGame(1,1,1,1,1.9,1.9,3,-2,5,0,1,-1,1,-1,100);\n",
    "RMstoch2 = probTraj(dataStochRM2,col='orange',xlab='Realistic, $p_1$',ylab='Manipulator, $p_2$');\n",
    "show(RMstoch2)"
   ]
  },
  {
   "cell_type": "code",
   "execution_count": 0,
   "metadata": {},
   "outputs": [],
   "source": [
    "RealMan = Vfield2p(3,-2,5,0,1.02,-1,1.01,-1,1.8,'Realistic, $p_1$','Manipulator, $p_2$');\n",
    "show(RealMan+RMstoch+RMstoch2)"
   ]
  },
  {
   "cell_type": "code",
   "execution_count": 0,
   "metadata": {},
   "outputs": [],
   "source": [
    "RealManEq = equilibria2p(3,-2,5,0,1.02,-1,1.01,-1,1.8,'Realistic, $p_1$','Manipulator, $p_2$');\n",
    "show(RealManEq+RMstoch+RMstoch2)"
   ]
  },
  {
   "cell_type": "code",
   "execution_count": 0,
   "metadata": {},
   "outputs": [],
   "source": [
    "RMfull1 = numSde2(0.01,0.94,3,-2,5,0,1.02,-1,1.01,-1,1.8,0.01,[0.005,0.01],100,'black','Realistic, $p_1$','Manipulator, $p_2$',4);\n",
    "RMfull2 = numSde2(0.5,0.2,3,-2,5,0,1.02,-1,1.01,-1,1.8,0.01,[0.01,0.02],100,'black','Realistic, $p_1$','Manipulator, $p_2$',4);\n",
    "RMfull3 = numSde2(0.8,0.76,3,-2,5,0,1.02,-1,1.01,-1,1.8,0.01,[0.001],100,'black','Realistic, $p_1$','Manipulator, $p_2$',4);\n",
    "RMfull4 = numSde2(0.76,0.8,3,-2,5,0,1.02,-1,1.01,-1,1.8,0.01,[0.001],100,'black','Realistic, $p_1$','Manipulator, $p_2$',4);\n",
    "RMfull5 = numSde2(0.94,0.05,3,-2,5,0,1.02,-1,1.01,-1,1.8,0.01,[0.005,0.01],100,'black','Realistic, $p_1$','Manipulator, $p_2$',4);\n",
    "RMfull6 = numSde2(0.5,0.8,3,-2,5,0,1.02,-1,1.01,-1,1.8,0.01,[0.001,0.003],100,'black','Realistic, $p_1$','Manipulator, $p_2$',4);\n",
    "RMfull7 = numSde2(0.3,0.5,3,-2,5,0,1.02,-1,1.01,-1,1.8,0.01,[0.001,0.003],100,'black','Realistic, $p_1$','Manipulator, $p_2$',4);\n",
    "RMfull8 = numSde2(0.76,0.99,3,-2,5,0,1.02,-1,1.01,-1,1.8,0.01,[0.001,0.003],100,'black','Realistic, $p_1$','Manipulator, $p_2$',4);\n",
    "RMfull9 = numSde2(0.99,0.76,3,-2,5,0,1.02,-1,1.01,-1,1.8,0.01,[0.001,0.003],100,'black','Realistic, $p_1$','Manipulator, $p_2$',4);"
   ]
  },
  {
   "cell_type": "code",
   "execution_count": 0,
   "metadata": {},
   "outputs": [],
   "source": [
    "show(RealManEq+RMstoch+RMstoch2+RMfull1+RMfull2+RMfull4+RMfull5+RMfull6+RMfull7+RMfull8+RMfull9)"
   ]
  },
  {
   "cell_type": "code",
   "execution_count": 0,
   "metadata": {},
   "outputs": [],
   "source": [
    "save(RealManEq+RMstoch+RMstoch2+RMfull1+RMfull2+RMfull4+RMfull5+RMfull6+RMfull7+RMfull8+RMfull9,\"DSrm2.pdf\")"
   ]
  },
  {
   "cell_type": "code",
   "execution_count": 0,
   "metadata": {},
   "outputs": [],
   "source": [
    "save(RealMan+RMstoch+RMstoch2,\"DSrm.pdf\")"
   ]
  },
  {
   "cell_type": "code",
   "execution_count": 0,
   "metadata": {},
   "outputs": [],
   "source": [
    "eqsRL[3]"
   ]
  },
  {
   "cell_type": "code",
   "execution_count": 0,
   "metadata": {},
   "outputs": [],
   "source": [
    "#eqsRL[3] is always stable because u_21 is positive and v_22 is negative, hence the last condition below is true\n",
    "solve_ineq([eigv[3][0]<0,eigv[3][1]<0,u_11>0,u_12<0,u_21>0,u_22==0,v_11>0,v_12<0,v_21>0,v_22<0,L>0])"
   ]
  },
  {
   "cell_type": "code",
   "execution_count": 0,
   "metadata": {},
   "outputs": [],
   "source": [
    "#eqsRL[6] is never stable\n",
    "solve_ineq([eigv[6][0]<0,eigv[6][1]<0,u_11>0,u_12<0,u_21>0,u_22==0,v_11>0,v_12<0,v_21>0,v_22<0,L>0])"
   ]
  },
  {
   "cell_type": "code",
   "execution_count": 0,
   "metadata": {},
   "outputs": [],
   "source": [
    "#One has to compare C/(B-C) to v_21/v_11 to determine the instability of the equilibrium. Hence the instability of eqsRL[6] depends on how big is the benefit of receiving help compared to the cost of providing help. It also depends on how much the manipulator is willing to cooperate vs. defect: if v_21>v_11, the manipulator prefers cooperation over defection, etc.\n",
    "solve_ineq([eigv[6][0]>0,eigv[6][1]>0,u_11>0,u_12<0,u_21>0,u_22==0,v_11>0,v_12<0,v_21>0,v_22<0,L>0])"
   ]
  },
  {
   "cell_type": "code",
   "execution_count": 0,
   "metadata": {},
   "outputs": [],
   "source": [
    "#eqsRL[8] is never stable\n",
    "solve_ineq([eigv[8][0]<0,eigv[8][1]<0,u_11>0,u_12<0,u_21>0,u_22==0,v_11>0,v_12<0,v_21>0,v_22<0,L>0])"
   ]
  },
  {
   "cell_type": "code",
   "execution_count": 0,
   "metadata": {},
   "outputs": [],
   "source": [
    "#since -v_12/v_11 is positive, then this equilibrium may be a source or saddle depending on the magnitude of |v_12|/|v_11| (see above)\n",
    "solve_ineq([eigv[8][0]>0,eigv[8][1]>0,u_11>0,u_12<0,u_21>0,u_22==0,v_11>0,v_12<0,v_21>0,v_22<0,L>0])"
   ]
  },
  {
   "cell_type": "code",
   "execution_count": 0,
   "metadata": {},
   "outputs": [],
   "source": [
    "#Payoffs\n",
    "var('R,S,T,P');\n",
    "Pi([[1,1],[0,v_22/(v_22+v_12)]],R,S,T,P)[0]"
   ]
  },
  {
   "cell_type": "code",
   "execution_count": 0,
   "metadata": {},
   "outputs": [],
   "source": [
    "#Payoffs in PD, SH, SD\n",
    "var('b,c,k');\n",
    "RMpayS = [Pi([[1,1],[0,v_22/(v_22+v_12)]],b-c,-c,b,0),Pi([[1,1],[0,v_22/(v_22+v_12)]],b-c,-c,(b-c)/k,(b-c)/k),Pi([[1,1],[0,v_22/(v_22+v_12)]],b-c/2,b-c,b,0)];\n",
    "RMpayS"
   ]
  },
  {
   "cell_type": "code",
   "execution_count": 0,
   "metadata": {},
   "outputs": [],
   "source": [
    "RMpayS[2][1].full_simplify()"
   ]
  },
  {
   "cell_type": "code",
   "execution_count": 0,
   "metadata": {},
   "outputs": [],
   "source": []
  },
  {
   "cell_type": "code",
   "execution_count": 0,
   "metadata": {},
   "outputs": [],
   "source": [
    "%html\n",
    "<strong><font size=4>Realistic vs. Selfish</font></strong>"
   ]
  },
  {
   "cell_type": "code",
   "execution_count": 0,
   "metadata": {},
   "outputs": [],
   "source": [
    "RSfull1 = numSde2(0.01,0.94,3,-2,5,0,-1.01,-1.03,1.02,1.04,1.8,0.01,[0.005,0.01],100,'black','Realistic, $p_1$','Selfish, $p_2$',4);\n",
    "#RRfull2 = numSde2(0.4,0.5,3,-2,5,0,3,-2,5,0,1.8,0.01,[0.01,0.02],100,'gray','Realistic, $p_1$','Realistic, $p_2$',4);\n",
    "RSfull3 = numSde2(0.8,0.76,3,-2,5,0,-1.01,-1.03,1.02,1.04,1.8,0.01,[0.001,0.005],100,'black','Realistic, $p_1$','Selfish, $p_2$',4);\n",
    "RSfull4 = numSde2(0.76,0.8,3,-2,5,0,-1.01,-1.03,1.02,1.04,1.8,0.01,[0.001,0.005],100,'black','Realistic, $p_1$','Selfish, $p_2$',4);\n",
    "RSfull5 = numSde2(0.94,0.01,3,-2,5,0,-1.01,-1.03,1.02,1.04,1.8,0.01,[0.005,0.01],100,'black','Realistic, $p_1$','Selfish, $p_2$',4);\n",
    "RSfull6 = numSde2(0.5,0.3,3,-2,5,0,-1.01,-1.03,1.02,1.04,1.8,0.01,[0.001,0.003],100,'black','Realistic, $p_1$','Selfish, $p_2$',4);\n",
    "RSfull7 = numSde2(0.3,0.5,3,-2,5,0,-1.01,-1.03,1.02,1.04,1.8,0.01,[0.001,0.003],100,'black','Realistic, $p_1$','Selfish, $p_2$',4);\n",
    "RSfull8 = numSde2(0.76,0.99,3,-2,5,0,-1.01,-1.03,1.02,1.04,1.8,0.01,[0.001,0.003],100,'black','Realistic, $p_1$','Selfish, $p_2$',4);\n",
    "RSfull9 = numSde2(0.99,0.76,3,-2,5,0,-1.01,-1.03,1.02,1.04,1.8,0.01,[0.001,0.003],100,'black','Realistic, $p_1$','Selfish, $p_2$',4);"
   ]
  },
  {
   "cell_type": "code",
   "execution_count": 0,
   "metadata": {},
   "outputs": [],
   "source": [
    "RealSelfEq = equilibria2p(3,-2,5,0,-1.01,-6.03,1.02,1.04,1.8,'Realistic, $p_1$','Selfish, $p_2$');\n",
    "show(RSstoch+RealSelfEq+RSfull1+RSfull3+RSfull5+RSfull6+RSfull7)"
   ]
  },
  {
   "cell_type": "code",
   "execution_count": 0,
   "metadata": {},
   "outputs": [],
   "source": [
    "save(RSstoch+RealSelfEq+RSfull1+RSfull3+RSfull5+RSfull6+RSfull7,\"DSrs2.pdf\")"
   ]
  },
  {
   "cell_type": "code",
   "execution_count": 0,
   "metadata": {},
   "outputs": [],
   "source": [
    "dataStochRS = RepeatedGame(1,1,1,1,1.9,1.9,3,-2,5,0,-1.01,-1.03,1.02,1.04,300);\n",
    "RSstoch = probTraj(dataStochRS,xlab='Realistic, $p_1$',ylab='Selfish, $p_2$');\n",
    "show(RSstoch)"
   ]
  },
  {
   "cell_type": "code",
   "execution_count": 0,
   "metadata": {},
   "outputs": [],
   "source": [
    "RealSelf = Vfield2p(3,-2,5,0,-1.01,-6.03,1.02,1.04,1.8,'Realistic, $p_1$','Selfish, $p_2$');\n",
    "show(RealSelf+RSstoch)"
   ]
  },
  {
   "cell_type": "code",
   "execution_count": 0,
   "metadata": {},
   "outputs": [],
   "source": [
    "save(RealSelf+RSstoch,\"DSrs.pdf\")"
   ]
  },
  {
   "cell_type": "code",
   "execution_count": 0,
   "metadata": {},
   "outputs": [],
   "source": [
    "#This never exists\n",
    "eqsRL[3]"
   ]
  },
  {
   "cell_type": "code",
   "execution_count": 0,
   "metadata": {},
   "outputs": [],
   "source": [
    "#This equilibrium never exists\n",
    "eqsRL[6]"
   ]
  },
  {
   "cell_type": "code",
   "execution_count": 0,
   "metadata": {},
   "outputs": [],
   "source": [
    "eqsRL[8]"
   ]
  },
  {
   "cell_type": "code",
   "execution_count": 0,
   "metadata": {},
   "outputs": [],
   "source": [
    "eigv[8]"
   ]
  },
  {
   "cell_type": "code",
   "execution_count": 0,
   "metadata": {},
   "outputs": [],
   "source": [
    "eigv[8][0].subs(u_11=3,u_21=5,v_11=-1.01,v_12=-6.03,L=1)"
   ]
  },
  {
   "cell_type": "code",
   "execution_count": 0,
   "metadata": {},
   "outputs": [],
   "source": [
    "#eqsRL[8] is never stable\n",
    "solve_ineq([eigv[8][0]<0,eigv[8][1]<0,u_11>0,u_12<0,u_21>0,u_22==0,v_11<0,v_12<0,v_21>0,v_22>0,L>0])"
   ]
  },
  {
   "cell_type": "code",
   "execution_count": 0,
   "metadata": {},
   "outputs": [],
   "source": [
    "#eqsRL[8] is always a source because v_12/v_11 is positive\n",
    "solve_ineq([eigv[8][0]>0,eigv[8][1]>0,u_11>0,u_12<0,u_21>0,u_22==0,v_11<0,v_12<0,v_21>0,v_22>0,L>0])"
   ]
  },
  {
   "cell_type": "code",
   "execution_count": 0,
   "metadata": {},
   "outputs": [],
   "source": [
    "eqsRLn[3][1].subs(v_22=2.04,v_12=-1.03)"
   ]
  },
  {
   "cell_type": "code",
   "execution_count": 0,
   "metadata": {},
   "outputs": [],
   "source": [
    "#Payoffs\n",
    "Pi([[1,1],[0,v_22/(v_22+v_12)]],R,S,T,P)"
   ]
  },
  {
   "cell_type": "code",
   "execution_count": 0,
   "metadata": {},
   "outputs": [],
   "source": [
    "#Payoffs\n",
    "var('R,S,T,P');\n",
    "Pi([[0,0]],R,S,T,P)"
   ]
  },
  {
   "cell_type": "code",
   "execution_count": 0,
   "metadata": {},
   "outputs": [],
   "source": [
    "#Payoffs in PD, SH, SD\n",
    "var('b,c,k');\n",
    "RMpayS = [Pi([[0,0]],b-c,-c,b,0),Pi([[0,0]],b-c,-c,(b-c)/k,(b-c)/k),Pi([[0,0]],b-c/2,b-c,b,0)];\n",
    "RMpayS"
   ]
  },
  {
   "cell_type": "code",
   "execution_count": 0,
   "metadata": {},
   "outputs": [],
   "source": [
    "%html\n",
    "<strong><font size=4>Other-regard vs. Other-regard</font></strong>"
   ]
  },
  {
   "cell_type": "code",
   "execution_count": 0,
   "metadata": {},
   "outputs": [],
   "source": []
  },
  {
   "cell_type": "code",
   "execution_count": 0,
   "metadata": {},
   "outputs": [],
   "source": [
    "dataStochOO = RepeatedGame(1,1,1,1,1.2,1.2,1,1,-1,-1,1,1,-1,-1,100);\n",
    "OOstoch = probTraj(dataStochOO,xlab='Other-regard, $p_1$',ylab='Other-regard, $p_2$');\n",
    "show(OOstoch)"
   ]
  },
  {
   "cell_type": "code",
   "execution_count": 0,
   "metadata": {},
   "outputs": [],
   "source": [
    "OOfull1 = numSde2(0.01,0.94,1.01,1.02,-1,-1,1.01,1.02,-1,-1,1.8,0.01,[0.005,0.01],100,'black','Other regard, $p_1$','Other regard, $p_2$',4);\n",
    "#RRfull2 = numSde2(0.4,0.5,3,-2,5,0,3,-2,5,0,1.8,0.01,[0.01,0.02],100,'gray','Other regard, $p_1$','Other regard, $p_2$',4);\n",
    "OOfull3 = numSde2(0.8,0.76,1.01,1.02,-1,-1,1.01,1.02,-1,-1,1.8,0.01,[0.001,0.005],100,'black','Other regard, $p_1$','Other regard, $p_2$',4);\n",
    "OOfull4 = numSde2(0.76,0.8,1.01,1.02,-1,-1,1.01,1.02,-1,-1,1.8,0.01,[0.001,0.005],100,'black','Other regard, $p_1$','Other regard, $p_2$',4);\n",
    "OOfull5 = numSde2(0.94,0.01,1.01,1.02,-1,-1,1.01,1.02,-1,-1,1.8,0.01,[0.005,0.01],100,'black','Other regard, $p_1$','Other regard, $p_2$',4);\n",
    "OOfull6 = numSde2(0.5,0.3,1.01,1.02,-1,-1,1.01,1.02,-1,-1,1.8,0.01,[0.001,0.003],100,'black','Other regard, $p_1$','Other regard, $p_2$',4);\n",
    "OOfull7 = numSde2(0.3,0.5,1.01,1.02,-1,-1,1.01,1.02,-1,-1,1.8,0.01,[0.001,0.003],100,'black','Other regard, $p_1$','Other regard, $p_2$',4);\n",
    "OOfull8 = numSde2(0.76,0.99,1.01,1.02,-1,-1,1.01,1.02,-1,-1,1.8,0.01,[0.001,0.003],100,'black','Other regard, $p_1$','Other regard, $p_2$',4);\n",
    "OOfull9 = numSde2(0.99,0.76,1.01,1.02,-1,-1,1.01,1.02,-1,-1,1.8,0.01,[0.001,0.003],100,'black','Other regard, $p_1$','Other regard, $p_2$',4);"
   ]
  },
  {
   "cell_type": "code",
   "execution_count": 0,
   "metadata": {},
   "outputs": [],
   "source": [
    "OtherOtherEq = equilibria2p(1.01,1.02,-1,-1,1.02,1.01,-1,-1,1.8,'Other regard, $p_1$','Other regard, $p_2$');\n",
    "show(OOstoch+OtherOtherEq+OOfull1+OOfull3+OOfull5+OOfull6+OOfull7)"
   ]
  },
  {
   "cell_type": "code",
   "execution_count": 0,
   "metadata": {},
   "outputs": [],
   "source": [
    "save(OOstoch+OtherOtherEq+OOfull1+OOfull3+OOfull5+OOfull6+OOfull7,\"DSoo2.pdf\")"
   ]
  },
  {
   "cell_type": "code",
   "execution_count": 0,
   "metadata": {},
   "outputs": [],
   "source": []
  },
  {
   "cell_type": "code",
   "execution_count": 0,
   "metadata": {},
   "outputs": [],
   "source": [
    "save(OtherOther+OOstoch,\"DSoo.pdf\")"
   ]
  },
  {
   "cell_type": "code",
   "execution_count": 0,
   "metadata": {},
   "outputs": [],
   "source": [
    "#eqsRL[3] never exists\n",
    "solve_ineq([eqsRLn[3][1]>0,eqsRLn[3][1]<1,v_12>0,v_21>0,v_22<0,L>0])"
   ]
  },
  {
   "cell_type": "code",
   "execution_count": 0,
   "metadata": {},
   "outputs": [],
   "source": [
    "#eqsRL[6] never exists\n",
    "solve_ineq([eqsRLn[6][1]>0,eqsRLn[6][1]<1,v_21<0,v_11>0,L>0])"
   ]
  },
  {
   "cell_type": "code",
   "execution_count": 0,
   "metadata": {},
   "outputs": [],
   "source": [
    "#Since the two players are Other-regarding, by symmetry, eqsRL[1] and eqsRL[8] also never exist\n",
    "eqsRLn[1]"
   ]
  },
  {
   "cell_type": "code",
   "execution_count": 0,
   "metadata": {},
   "outputs": [],
   "source": [
    "#Payoffs\n",
    "var('R,S,T,P');\n",
    "Pi([[1,1]],R,S,T,P)"
   ]
  },
  {
   "cell_type": "code",
   "execution_count": 0,
   "metadata": {},
   "outputs": [],
   "source": [
    "#Payoffs in PD, SH, SD\n",
    "var('b,c,k');\n",
    "RMpayS = [Pi([[1,1]],b-c,-c,b,0),Pi([[1,1]],b-c,-c,(b-c)/k,(b-c)/k),Pi([[1,1]],b-c/2,b-c,b,0)];\n",
    "RMpayS"
   ]
  },
  {
   "cell_type": "code",
   "execution_count": 0,
   "metadata": {},
   "outputs": [],
   "source": [
    "%html\n",
    "<strong><font size=4>Other-regard vs. Manipulator</font></strong>"
   ]
  },
  {
   "cell_type": "code",
   "execution_count": 0,
   "metadata": {},
   "outputs": [],
   "source": []
  },
  {
   "cell_type": "code",
   "execution_count": 0,
   "metadata": {},
   "outputs": [],
   "source": [
    "dataStochOM = RepeatedGame(1,1,1,1,1.2,1.2,1,1,-1,-1,1,-1,1,-1,100);\n",
    "OMstoch = probTraj(dataStochOM,xlab='Other-regard, $p_1$',ylab='Manipulator, $p_2$');\n",
    "show(OMstoch)"
   ]
  },
  {
   "cell_type": "code",
   "execution_count": 0,
   "metadata": {},
   "outputs": [],
   "source": [
    "dataStochOM2 = RepeatedGame(1,1,1,1,1.2,1.2,1,1,-1,-1,1,-1,1,-1,100);\n",
    "OMstoch2 = probTraj(dataStochOM2,col='orange',xlab='Other-regard, $p_1$',ylab='Manipulator, $p_2$');\n",
    "show(OMstoch2)"
   ]
  },
  {
   "cell_type": "code",
   "execution_count": 0,
   "metadata": {},
   "outputs": [],
   "source": [
    "OtherMan = Vfield2p(1.01,1.02,-1,-1,1.02,-1,1.01,-1,1.8,'Other regard, $p_1$','Manipulator, $p_2$');\n",
    "show(OtherMan+OMstoch+OMstoch2)"
   ]
  },
  {
   "cell_type": "code",
   "execution_count": 0,
   "metadata": {},
   "outputs": [],
   "source": [
    "OtherManEq = equilibria2p(1.01,1.02,-1,-1,1.02,-1,1.01,-1,1.8,'Other regard, $p_1$','Manipulator, $p_2$');\n",
    "show(OtherManEq+OMstoch+OMstoch2)"
   ]
  },
  {
   "cell_type": "code",
   "execution_count": 0,
   "metadata": {},
   "outputs": [],
   "source": [
    "OMfull1 = numSde2(0.01,0.94,1.01,1.02,-1,-1,1.02,-1,1.01,-1,1.8,0.01,[0.005,0.01],100,'black','Other-regard, $p_1$','Manipulator, $p_2$',4);\n",
    "OMfull2 = numSde2(0.5,0.2,1.01,1.02,-1,-1,1.02,-1,1.01,-1,1.8,0.01,[0.01,0.02],100,'black','Other-regard, $p_1$','Manipulator, $p_2$',4);\n",
    "OMfull3 = numSde2(0.8,0.76,1.01,1.02,-1,-1,1.02,-1,1.01,-1,1.8,0.01,[0.001],100,'black','Other-regard, $p_1$','Manipulator, $p_2$',4);\n",
    "OMfull4 = numSde2(0.76,0.8,1.01,1.02,-1,-1,1.02,-1,1.01,-1,1.8,0.01,[0.001],100,'black','Other-regard, $p_1$','Manipulator, $p_2$',4);\n",
    "OMfull5 = numSde2(0.94,0.05,1.01,1.02,-1,-1,1.02,-1,1.01,-1,1.8,0.01,[0.005,0.01],100,'black','Other-regard, $p_1$','Manipulator, $p_2$',4);\n",
    "OMfull6 = numSde2(0.5,0.3,1.01,1.02,-1,-1,1.02,-1,1.01,-1,1.8,0.01,[0.001,0.003],100,'black','Other-regard, $p_1$','Manipulator, $p_2$',4);\n",
    "OMfull7 = numSde2(0.3,0.47,1.01,1.02,-1,-1,1.02,-1,1.01,-1,1.8,0.01,[0.001,0.003],100,'black','Other-regard, $p_1$','Manipulator, $p_2$',4);\n",
    "OMfull8 = numSde2(0.76,0.99,1.01,1.02,-1,-1,1.02,-1,1.01,-1,1.8,0.01,[0.001,0.003],100,'black','Other-regard, $p_1$','Manipulator, $p_2$',4);\n",
    "OMfull9 = numSde2(0.99,0.76,1.01,1.02,-1,-1,1.02,-1,1.01,-1,1.8,0.01,[0.001,0.003],100,'black','Other-regard, $p_1$','Manipulator, $p_2$',4);"
   ]
  },
  {
   "cell_type": "code",
   "execution_count": 0,
   "metadata": {},
   "outputs": [],
   "source": [
    "show(OtherManEq+OMstoch+OMstoch2+OMfull4+OMfull5+OMfull6+OMfull7+OMfull8+OMfull9)"
   ]
  },
  {
   "cell_type": "code",
   "execution_count": 0,
   "metadata": {},
   "outputs": [],
   "source": [
    "save(OtherManEq+OMstoch+OMstoch2+OMfull4+OMfull5+OMfull6+OMfull7+OMfull8+OMfull9,\"DSom2.pdf\")"
   ]
  },
  {
   "cell_type": "code",
   "execution_count": 0,
   "metadata": {},
   "outputs": [],
   "source": [
    "save(OtherManEq+OMstoch+OMstoch2,\"DSom.pdf\")"
   ]
  },
  {
   "cell_type": "code",
   "execution_count": 0,
   "metadata": {},
   "outputs": [],
   "source": [
    "#eqsRL[1] and eqsRL[8] do not exist for an interaction between Other-regard and any opponent"
   ]
  },
  {
   "cell_type": "code",
   "execution_count": 0,
   "metadata": {},
   "outputs": [],
   "source": [
    "solve_ineq([eqsRLn[3][1]>0,eqsRLn[3][1]<1,v_12<0,v_22<0,L>0])"
   ]
  },
  {
   "cell_type": "code",
   "execution_count": 0,
   "metadata": {},
   "outputs": [],
   "source": [
    "solve_ineq([eqsRLn[6][1]>0,eqsRLn[6][1]<1,v_21>0,v_11>0,L>0])"
   ]
  },
  {
   "cell_type": "code",
   "execution_count": 0,
   "metadata": {},
   "outputs": [],
   "source": [
    "eigv[6]"
   ]
  },
  {
   "cell_type": "code",
   "execution_count": 0,
   "metadata": {},
   "outputs": [],
   "source": [
    "#eqsRL[6] is never stable\n",
    "solve_ineq([eigv[6][0]<0,eigv[6][1]<0,v_11>0,v_12<0,v_21>0,v_22<0,u_11>0,u_12>0,u_21<0,u_22<0,L>0])"
   ]
  },
  {
   "cell_type": "code",
   "execution_count": 0,
   "metadata": {},
   "outputs": [],
   "source": [
    "#eqsRL[6] is never a source (checked by hand the last condition, which turns out to never be true)\n",
    "solve_ineq([eigv[6][0]>0,eigv[6][1]>0,v_11>0,v_12<0,v_21>0,v_22<0,u_11>0,u_12>0,u_21<0,u_22<0,L>0])"
   ]
  },
  {
   "cell_type": "code",
   "execution_count": 0,
   "metadata": {},
   "outputs": [],
   "source": [
    "#eqsRL[3] is never stable (checked by hand the last condition, which turns out to never be true)\n",
    "solve_ineq([eigv[3][0]<0,eigv[3][1]<0,v_11>0,v_12<0,v_21>0,v_22<0,u_11>0,u_12>0,u_21<0,u_22<0,L>0])"
   ]
  },
  {
   "cell_type": "code",
   "execution_count": 0,
   "metadata": {},
   "outputs": [],
   "source": [
    "solve_ineq([eigv[3][0]>0,eigv[3][1]>0,v_11>0,v_12<0,v_21>0,v_22<0,u_11>0,u_12>0,u_21<0,u_22<0,L>0])"
   ]
  },
  {
   "cell_type": "code",
   "execution_count": 0,
   "metadata": {},
   "outputs": [],
   "source": [
    "#Payoffs\n",
    "var('R,S,T,P');\n",
    "Pi([[1,0],[1,1]],R,S,T,P)"
   ]
  },
  {
   "cell_type": "code",
   "execution_count": 0,
   "metadata": {},
   "outputs": [],
   "source": [
    "#Payoffs in PD, SH, SD\n",
    "var('b,c,k');\n",
    "OMpayS = [Pi([[1,0],[1,1]],b-c,-c,b,0),Pi([[1,0],[1,1]],b-c,-c,(b-c)/k,(b-c)/k),Pi([[1,0],[1,1]],b-c/2,b-c,b,0)];\n",
    "OMpayS"
   ]
  },
  {
   "cell_type": "code",
   "execution_count": 0,
   "metadata": {},
   "outputs": [],
   "source": [
    "OMpayS[1][1].full_simplify()"
   ]
  },
  {
   "cell_type": "code",
   "execution_count": 0,
   "metadata": {},
   "outputs": [],
   "source": [
    "%html\n",
    "<strong><font size=4>Other-regard vs. Selfish</font></strong>"
   ]
  },
  {
   "cell_type": "code",
   "execution_count": 0,
   "metadata": {},
   "outputs": [],
   "source": [
    "dataStochOS = RepeatedGame(1,1,1,1,0.8,0.8,1,1,-1,-1,-1,-1,1,1,100);\n",
    "OSstoch = probTraj(dataStochOS,xlab='Other-regard, $p_1$',ylab='Selfish, $p_2$');\n",
    "show(OSstoch)"
   ]
  },
  {
   "cell_type": "code",
   "execution_count": 0,
   "metadata": {},
   "outputs": [],
   "source": [
    "OtherSelf = Vfield2p(1.01,1.02,-1.03,-1.04,-1.02,-1.03,1.01,1.04,1.8,'Other regard, $p_1$','Selfish, $p_2$');\n",
    "show(OtherSelf+OSstoch)"
   ]
  },
  {
   "cell_type": "code",
   "execution_count": 0,
   "metadata": {},
   "outputs": [],
   "source": [
    "OtherSelfEq = equilibria2p(1.01,1.02,-1.03,-1.04,-1.02,-1.03,1.01,1.04,1.8,'Other regard, $p_1$','Selfish, $p_2$');\n",
    "show(OtherSelfEq+OSstoch)"
   ]
  },
  {
   "cell_type": "code",
   "execution_count": 0,
   "metadata": {},
   "outputs": [],
   "source": [
    "OSfull1 = numSde2(0.2,0.2,1.01,1.02,-1.03,-1.04,-1.02,-1.03,1.01,1.04,1.8,0.01,[0.005,0.01],100,'black','Other-regard, $p_1$','Selfish, $p_2$',4);\n",
    "OSfull2 = numSde2(0.5,0.2,1.01,1.02,-1.03,-1.04,-1.02,-1.03,1.01,1.04,1.8,0.01,[0.01,0.02],100,'black','Other-regard, $p_1$','Selfish, $p_2$',4);\n",
    "OSfull3 = numSde2(0.8,0.76,1.01,1.02,-1.03,-1.04,-1.02,-1.03,1.01,1.04,1.8,0.01,[0.001],100,'black','Other-regard, $p_1$','Selfish, $p_2$',4);\n",
    "OSfull4 = numSde2(0.76,0.8,1.01,1.02,-1.03,-1.04,-1.02,-1.03,1.01,1.04,1.8,0.01,[0.001],100,'black','Other-regard, $p_1$','Selfish, $p_2$',4);\n",
    "OSfull5 = numSde2(0.94,0.05,1.01,1.02,-1.03,-1.04,-1.02,-1.03,1.01,1.04,1.8,0.01,[0.005,0.01],100,'black','Other-regard, $p_1$','Selfish, $p_2$',4);\n",
    "OSfull6 = numSde2(0.5,0.8,1.01,1.02,-1.03,-1.04,-1.02,-1.03,1.01,1.04,1.8,0.01,[0.001,0.003],100,'black','Other-regard, $p_1$','Selfish, $p_2$',4);\n",
    "OSfull7 = numSde2(0.3,0.5,1.01,1.02,-1.03,-1.04,-1.02,-1.03,1.01,1.04,1.8,0.01,[0.001,0.003],100,'black','Other-regard, $p_1$','Selfish, $p_2$',4);\n",
    "OSfull8 = numSde2(0.76,0.99,1.01,1.02,-1.03,-1.04,-1.02,-1.03,1.01,1.04,1.8,0.01,[0.001,0.003],100,'black','Other-regard, $p_1$','Selfish, $p_2$',4);\n",
    "OSfull9 = numSde2(0.99,0.76,1.01,1.02,-1.03,-1.04,-1.02,-1.03,1.01,1.04,1.8,0.01,[0.001,0.003],100,'black','Other-regard, $p_1$','Selfish, $p_2$',4);"
   ]
  },
  {
   "cell_type": "code",
   "execution_count": 0,
   "metadata": {},
   "outputs": [],
   "source": [
    "show(OtherSelfEq+OSstoch+OSfull1+OSfull3+OSfull5+OSfull7+OSfull8+OSfull9)"
   ]
  },
  {
   "cell_type": "code",
   "execution_count": 0,
   "metadata": {},
   "outputs": [],
   "source": [
    "save(OtherSelfEq+OSstoch+OSfull1+OSfull3+OSfull5+OSfull7+OSfull8+OSfull9,\"DSos2.pdf\")"
   ]
  },
  {
   "cell_type": "code",
   "execution_count": 0,
   "metadata": {},
   "outputs": [],
   "source": [
    "save(OtherSelf+OSstoch,\"DSos.pdf\")"
   ]
  },
  {
   "cell_type": "code",
   "execution_count": 0,
   "metadata": {},
   "outputs": [],
   "source": []
  },
  {
   "cell_type": "code",
   "execution_count": 0,
   "metadata": {},
   "outputs": [],
   "source": [
    "#eqsRL[3] and eqsRL[6] never exist (see above the interaction between Realistic and Selfish)\n",
    "eqsRL[1]"
   ]
  },
  {
   "cell_type": "code",
   "execution_count": 0,
   "metadata": {},
   "outputs": [],
   "source": [
    "#Payoffs\n",
    "var('R,S,T,P');\n",
    "Pi([[1,0]],R,S,T,P)"
   ]
  },
  {
   "cell_type": "code",
   "execution_count": 0,
   "metadata": {},
   "outputs": [],
   "source": [
    "#Payoffs in PD, SH, SD\n",
    "var('b,c,k');\n",
    "OSpayS = [Pi([[1,0]],b-c,-c,b,0),Pi([[1,0]],b-c,-c,(b-c)/k,(b-c)/k),Pi([[1,0]],b-c/2,b-c,b,0)];\n",
    "OSpayS"
   ]
  },
  {
   "cell_type": "code",
   "execution_count": 0,
   "metadata": {},
   "outputs": [],
   "source": [
    "OSpayS[1][1].full_simplify()"
   ]
  },
  {
   "cell_type": "code",
   "execution_count": 0,
   "metadata": {},
   "outputs": [],
   "source": [
    "%html\n",
    "<strong><font size=4>Manipulator vs. Manipulator</font></strong>"
   ]
  },
  {
   "cell_type": "code",
   "execution_count": 0,
   "metadata": {},
   "outputs": [],
   "source": [
    "dataStochMM = RepeatedGame(1,1,1,1,1.9,1.9,1,-1,1,-1,1,-1,1,-1,100);\n",
    "MMstoch = probTraj(dataStochMM,xlab='Manipulator, $p_1$',ylab='Manipulator, $p_2$');\n",
    "show(MMstoch)"
   ]
  },
  {
   "cell_type": "code",
   "execution_count": 0,
   "metadata": {},
   "outputs": [],
   "source": [
    "dataStochMM2 = RepeatedGame(1,1,1,1,1.3,1.3,1,-1,1,-1,1,-1,1,-1,100);\n",
    "MMstoch2 = probTraj(dataStochMM2,col='orange',xlab='Manipulator, $p_1$',ylab='Manipulator, $p_2$');\n",
    "show(MMstoch2)"
   ]
  },
  {
   "cell_type": "code",
   "execution_count": 0,
   "metadata": {},
   "outputs": [],
   "source": [
    "ManManEq = equilibria2p(1.02,-1.01,1,-1,1.02,-1.01,1,-1,1.8,'Manipulator, $p_1$','Manipulator, $p_2$');\n",
    "show(ManManEq+MMstoch)"
   ]
  },
  {
   "cell_type": "code",
   "execution_count": 0,
   "metadata": {},
   "outputs": [],
   "source": [
    "ManMan = Vfield2p(1.02,-1.01,1,-1,1.02,-1.01,1,-1,1.8,'Manipulator, $p_1$','Manipulator, $p_2$');\n",
    "show(ManMan+MMstoch)"
   ]
  },
  {
   "cell_type": "code",
   "execution_count": 0,
   "metadata": {},
   "outputs": [],
   "source": [
    "MMfull1 = numSde2(0.2,0.2,1.02,-1.01,1,-1,1.02,-1.01,1,-1,1.8,0.01,[0.005,0.01],100,'black','Manipulator, $p_1$','Manipulator, $p_2$',4);\n",
    "MMfull2 = numSde2(0.51,0.2,1.02,-1.01,1,-1,1.02,-1.01,1,-1,1.8,0.01,[0.01,0.02],100,'black','Manipulator, $p_1$','Manipulator, $p_2$',4);\n",
    "MMfull3 = numSde2(0.25,0.75,1.02,-1.01,1,-1,1.02,-1.01,1,-1,1.8,0.01,[0.001,0.2],1000,'black','Manipulator, $p_1$','Manipulator, $p_2$',4);\n",
    "MMfull4 = numSde2(0.75,0.25,1.02,-1.01,1,-1,1.02,-1.01,1,-1,1.8,0.01,[0.001,0.2],1000,'black','Manipulator, $p_1$','Manipulator, $p_2$',4);\n",
    "MMfull5 = numSde2(0.75,0.8,1.02,-1.01,1,-1,1.02,-1.01,1,-1,1.8,0.01,[0.1],1000,'black','Manipulator, $p_1$','Manipulator, $p_2$',4);\n",
    "MMfull6 = numSde2(0.4,0.2,1.02,-1.01,1,-1,1.02,-1.01,1,-1,1.8,0.01,[0.003,0.009],100,'black','Manipulator, $p_1$','Manipulator, $p_2$',4);\n",
    "MMfull7 = numSde2(0.2,0.4,1.02,-1.01,1,-1,1.02,-1.01,1,-1,1.8,0.01,[0.001,0.003],1000,'black','Manipulator, $p_1$','Manipulator, $p_2$',4);\n",
    "MMfull8 = numSde2(0.9,0.65,1.02,-1.01,1,-1,1.02,-1.01,1,-1,1.8,0.01,[0.003,0.009],100,'black','Manipulator, $p_1$','Manipulator, $p_2$',4);\n",
    "MMfull9 = numSde2(0.65,0.9,1.02,-1.01,1,-1,1.02,-1.01,1,-1,1.8,0.01,[0.003,0.009],100,'black','Manipulator, $p_1$','Manipulator, $p_2$',4);\n",
    "\n",
    "show(ManManEq+MMstoch+MMfull3+MMfull4+MMfull5+MMfull6+MMfull7+MMfull8+MMfull9)"
   ]
  },
  {
   "cell_type": "code",
   "execution_count": 0,
   "metadata": {},
   "outputs": [],
   "source": [
    "save(ManMan+MMstoch,\"DSmm.pdf\")"
   ]
  },
  {
   "cell_type": "code",
   "execution_count": 0,
   "metadata": {},
   "outputs": [],
   "source": [
    "save(ManManEq+MMstoch+MMfull3+MMfull4+MMfull5+MMfull6+MMfull7+MMfull8+MMfull9,\"DSmm2.pdf\")"
   ]
  },
  {
   "cell_type": "code",
   "execution_count": 0,
   "metadata": {},
   "outputs": [],
   "source": [
    "#All four equilibria on the edges exist for Manipulator vs. Manipulator (see the RvsM interaction above for a justification)"
   ]
  },
  {
   "cell_type": "code",
   "execution_count": 0,
   "metadata": {},
   "outputs": [],
   "source": [
    "#Taking u=v in the last condition below reduces to -u_12 < u_21, or |u_12| < |u_21|, i.e. this equilibrium is stable only under this conditon\n",
    "#Note that eqsRL[1] is stable under the same condition, because both players are Manipulators\n",
    "solve_ineq([eigv[3][0]<0,eigv[3][1]<0,v_11>0,v_12<0,v_21>0,v_22<0,u_11>0,u_12<0,u_21>0,u_22<0,L>0])"
   ]
  },
  {
   "cell_type": "code",
   "execution_count": 0,
   "metadata": {},
   "outputs": [],
   "source": [
    "#eqsRL[6] is never stable\n",
    "solve_ineq([eigv[6][0]<0,eigv[6][1]<0,v_11>0,v_12<0,v_21>0,v_22<0,u_11>0,u_12<0,u_21>0,u_22<0,L>0])"
   ]
  },
  {
   "cell_type": "code",
   "execution_count": 0,
   "metadata": {},
   "outputs": [],
   "source": [
    "#Taking u=v in the last condition below reduces to -u_12 > u_21, or |u_12| > |u_21| , i.e. this equilibrium is a source only under this conditon (this is the converse of the condition for eqsRL[3] and eqsRL[1] above, i.e. when they are stable then eqsRL[6] is a saddle)\n",
    "#Note that eqsRL[8] is a source under the same condition, because both players are Manipulators\n",
    "solve_ineq([eigv[6][0]>0,eigv[6][1]>0,v_11>0,v_12<0,v_21>0,v_22<0,u_11>0,u_12<0,u_21>0,u_22<0,L>0])"
   ]
  },
  {
   "cell_type": "code",
   "execution_count": 0,
   "metadata": {},
   "outputs": [],
   "source": [
    "#Payoffs\n",
    "var('R,S,T,P');\n",
    "Pi([[1,1]],R,S,T,P)"
   ]
  },
  {
   "cell_type": "code",
   "execution_count": 0,
   "metadata": {},
   "outputs": [],
   "source": [
    "#Payoffs in PD, SH, SD\n",
    "var('b,c,k');\n",
    "MMpayS = [Pi([[1,1]],b-c,-c,b,0),Pi([[1,1]],b-c,-c,(b-c)/k,(b-c)/k),Pi([[1,1]],b-c/2,b-c,b,0)];\n",
    "MMpayS"
   ]
  },
  {
   "cell_type": "code",
   "execution_count": 0,
   "metadata": {},
   "outputs": [],
   "source": []
  },
  {
   "cell_type": "code",
   "execution_count": 0,
   "metadata": {},
   "outputs": [],
   "source": [
    "%html\n",
    "<strong><font size=4>Manipulator vs. Selfish</font></strong>"
   ]
  },
  {
   "cell_type": "code",
   "execution_count": 0,
   "metadata": {},
   "outputs": [],
   "source": [
    "dataStochMS = RepeatedGame(1,1,1,1,1.9,1.9,1,-1,1,-1,-1,-1,1,1,100);\n",
    "MSstoch = probTraj(dataStochMS,xlab='Manipulator, $p_1$',ylab='Selfish, $p_2$');\n",
    "show(MSstoch)"
   ]
  },
  {
   "cell_type": "code",
   "execution_count": 0,
   "metadata": {},
   "outputs": [],
   "source": [
    "ManSelf = Vfield2p(1.02,-1,1.01,-1,-1.02,-1,1.01,1.03,1.8,'Manipulator, $p_1$','Selfish, $p_2$');\n",
    "show(ManSelf+MSstoch)"
   ]
  },
  {
   "cell_type": "code",
   "execution_count": 0,
   "metadata": {},
   "outputs": [],
   "source": [
    "ManSelfEq = equilibria2p(1.02,-1,1.01,-1,-1.02,-1,1.01,1.03,1.8,'Manipulator, $p_1$','Selfish, $p_2$');\n",
    "show(ManSelfEq+MSstoch)"
   ]
  },
  {
   "cell_type": "code",
   "execution_count": 0,
   "metadata": {},
   "outputs": [],
   "source": [
    "MSfull1 = numSde2(0.01,0.94,1.02,-1,1.01,-1,-1.02,-1,1.01,1.03,1.8,0.01,[0.015,0.02],100,'black','Manipulator, $p_1$','Selfish, $p_2$',4);\n",
    "MSfull2 = numSde2(0.5,0.2,1.02,-1,1.01,-1,-1.02,-1,1.01,1.03,1.8,0.01,[0.01,0.02],100,'black','Manipulator, $p_1$','Selfish, $p_2$',4);\n",
    "MSfull3 = numSde2(0.8,0.76,1.02,-1,1.01,-1,-1.02,-1,1.01,1.03,1.8,0.01,[0.001,0.005],100,'black','Manipulator, $p_1$','Selfish, $p_2$',4);\n",
    "MSfull4 = numSde2(0.76,0.8,1.02,-1,1.01,-1,-1.02,-1,1.01,1.03,1.8,0.01,[0.001],100,'black','Manipulator, $p_1$','Selfish, $p_2$',4);\n",
    "MSfull5 = numSde2(0.94,0.05,1.02,-1,1.01,-1,-1.02,-1,1.01,1.03,1.8,0.01,[0.005,0.01],100,'black','Manipulator, $p_1$','Selfish, $p_2$',4);\n",
    "MSfull6 = numSde2(0.5,0.8,1.02,-1,1.01,-1,-1.02,-1,1.01,1.03,1.8,0.01,[0.001,0.003],100,'black','Manipulator, $p_1$','Selfish, $p_2$',4);\n",
    "MSfull7 = numSde2(0.3,0.5,1.02,-1,1.01,-1,-1.02,-1,1.01,1.03,1.8,0.01,[0.001,0.003],100,'black','Manipulator, $p_1$','Selfish, $p_2$',4);\n",
    "MSfull8 = numSde2(0.76,0.99,1.02,-1,1.01,-1,-1.02,-1,1.01,1.03,1.8,0.01,[0.001,0.003],100,'black','Manipulator, $p_1$','Selfish, $p_2$',4);\n",
    "MSfull9 = numSde2(0.99,0.76,1.02,-1,1.01,-1,-1.02,-1,1.01,1.03,1.8,0.01,[0.001,0.003],100,'black','Manipulator, $p_1$','Selfish, $p_2$',4);\n",
    "\n",
    "show(ManSelfEq+MSstoch+MSfull1+MSfull3+MSfull5+MSfull7)"
   ]
  },
  {
   "cell_type": "code",
   "execution_count": 0,
   "metadata": {},
   "outputs": [],
   "source": [
    "save(ManSelfEq+MSstoch+MSfull1+MSfull3+MSfull5+MSfull7,\"DSms2.pdf\")"
   ]
  },
  {
   "cell_type": "code",
   "execution_count": 0,
   "metadata": {},
   "outputs": [],
   "source": [
    "save(ManSelf+MSstoch,\"DSms.pdf\")"
   ]
  },
  {
   "cell_type": "code",
   "execution_count": 0,
   "metadata": {},
   "outputs": [],
   "source": []
  },
  {
   "cell_type": "code",
   "execution_count": 0,
   "metadata": {},
   "outputs": [],
   "source": [
    "#eqsRL[3] and eqsRL[6] never exist (see above the interaction between Realistic and Selfish)\n",
    "eqsRL[1]"
   ]
  },
  {
   "cell_type": "code",
   "execution_count": 0,
   "metadata": {},
   "outputs": [],
   "source": []
  },
  {
   "cell_type": "code",
   "execution_count": 0,
   "metadata": {},
   "outputs": [],
   "source": [
    "#eqsRL[1] is always stable because the last condition below is always true\n",
    "solve_ineq([eigv[1][0]<0,eigv[1][1]<0,u_11>0,u_12<0,u_21>0,u_22<0,v_11<0,v_12<0,v_21>0,v_22>0,L>0])"
   ]
  },
  {
   "cell_type": "code",
   "execution_count": 0,
   "metadata": {},
   "outputs": [],
   "source": [
    "solve_ineq([eigv[8][0]<0,eigv[8][1]<0,u_11>0,u_12<0,u_21>0,u_22<0,v_11<0,v_12<0,v_21>0,v_22>0,L>0])"
   ]
  },
  {
   "cell_type": "code",
   "execution_count": 0,
   "metadata": {},
   "outputs": [],
   "source": [
    "#eqsRL[8] is always a source because the last condition below is always true\n",
    "solve_ineq([eigv[8][0]>0,eigv[8][1]>0,u_11>0,u_12<0,u_21>0,u_22<0,v_11<0,v_12<0,v_21>0,v_22>0,L>0])"
   ]
  },
  {
   "cell_type": "code",
   "execution_count": 0,
   "metadata": {},
   "outputs": [],
   "source": [
    "#Payoffs\n",
    "var('R,S,T,P');\n",
    "Pi([[u_22/(u_12+u_22),0]],R,S,T,P)"
   ]
  },
  {
   "cell_type": "code",
   "execution_count": 0,
   "metadata": {},
   "outputs": [],
   "source": [
    "#Payoffs in PD, SH, SD\n",
    "var('b,c,k');\n",
    "MSpayS = [Pi([[u_22/(u_12+u_22),0]],b-c,-c,b,0),Pi([[u_22/(u_12+u_22),0]],b-c,-c,(b-c)/k,(b-c)/k),Pi([[u_22/(u_12+u_22),0]],b-c/2,b-c,b,0)];\n",
    "MSpayS"
   ]
  },
  {
   "cell_type": "code",
   "execution_count": 0,
   "metadata": {},
   "outputs": [],
   "source": [
    "MSpayS[2][1].full_simplify()"
   ]
  },
  {
   "cell_type": "code",
   "execution_count": 0,
   "metadata": {},
   "outputs": [],
   "source": [
    "%html\n",
    "<strong><font size=4>Selfish vs. Selfish</font></strong>"
   ]
  },
  {
   "cell_type": "code",
   "execution_count": 0,
   "metadata": {},
   "outputs": [],
   "source": [
    "dataStochSS = RepeatedGame(1,1,1,1,1.9,1.9,-1,-1,1,1,-1,-1,1,1,100);\n",
    "SSstoch = probTraj(dataStochSS,xlab='Selfish, $p_1$',ylab='Selfish, $p_2$');\n",
    "show(SSstoch)"
   ]
  },
  {
   "cell_type": "code",
   "execution_count": 0,
   "metadata": {},
   "outputs": [],
   "source": [
    "SelfSelf = Vfield2p(-1.02,-1,1.01,1.03,-1.02,-1,1.01,1.03,1.8,'Selfish, $p_1$','Selfish, $p_2$');\n",
    "show(SelfSelf+SSstoch)"
   ]
  },
  {
   "cell_type": "code",
   "execution_count": 0,
   "metadata": {},
   "outputs": [],
   "source": [
    "SelfSelfEq = equilibria2p(-1.02,-1,1.01,1.03,-1.02,-1,1.01,1.03,1.8,'Selfish, $p_1$','Selfish, $p_2$');\n",
    "show(SelfSelfEq+SSstoch)"
   ]
  },
  {
   "cell_type": "code",
   "execution_count": 0,
   "metadata": {},
   "outputs": [],
   "source": [
    "SSfull1 = numSde2(0.01,0.94,-1.02,-1,1.01,1.03,-1.02,-1,1.01,1.03,1.8,0.01,[0.01,0.02],100,'gray','Selfish, $p_1$','Selfish, $p_2$',4);\n",
    "SSfull2 = numSde2(0.5,0.2,-1.02,-1,1.01,1.03,-1.02,-1,1.01,1.03,1.8,0.01,[0.01,0.02],100,'gray','Selfish, $p_1$','Selfish, $p_2$',4);\n",
    "SSfull3 = numSde2(0.8,0.76,-1.02,-1,1.01,1.03,-1.02,-1,1.01,1.03,1.8,0.01,[0.001],100,'gray','Selfish, $p_1$','Selfish, $p_2$',4);\n",
    "SSfull4 = numSde2(0.76,0.8,-1.02,-1,1.01,1.03,-1.02,-1,1.01,1.03,1.8,0.01,[0.001],100,'gray','Selfish, $p_1$','Selfish, $p_2$',4);\n",
    "SSfull5 = numSde2(0.94,0.05,-1.02,-1,1.01,1.03,-1.02,-1,1.01,1.03,1.8,0.01,[0.005,0.01],100,'gray','Selfish, $p_1$','Selfish, $p_2$',4);\n",
    "SSfull6 = numSde2(0.5,0.8,-1.02,-1,1.01,1.03,-1.02,-1,1.01,1.03,1.8,0.01,[0.001,0.003],100,'gray','Selfish, $p_1$','Selfish, $p_2$',4);\n",
    "SSfull7 = numSde2(0.3,0.8,-1.02,-1,1.01,1.03,-1.02,-1,1.01,1.03,1.8,0.01,[0.001,0.003],100,'gray','Selfish, $p_1$','Selfish, $p_2$',4);\n",
    "SSfull8 = numSde2(0.76,0.99,-1.02,-1,1.01,1.03,-1.02,-1,1.01,1.03,1.8,0.01,[0.001,0.003],100,'gray','Selfish, $p_1$','Selfish, $p_2$',4);\n",
    "SSfull9 = numSde2(0.7,0.3,-1.02,-1,1.01,1.03,-1.02,-1,1.01,1.03,1.8,0.01,[0.001,0.003],100,'gray','Selfish, $p_1$','Selfish, $p_2$',4);\n",
    "\n",
    "show(SelfSelfEq+SSstoch+SSfull1+SSfull5+SSfull7+SSfull9)"
   ]
  },
  {
   "cell_type": "code",
   "execution_count": 0,
   "metadata": {},
   "outputs": [],
   "source": [
    "save(SelfSelfEq+SSstoch+SSfull1+SSfull5+SSfull7+SSfull9,\"DSss2.pdf\")"
   ]
  },
  {
   "cell_type": "code",
   "execution_count": 0,
   "metadata": {},
   "outputs": [],
   "source": [
    "save(SelfSelf+SSstoch,\"DSss.pdf\")"
   ]
  },
  {
   "cell_type": "code",
   "execution_count": 0,
   "metadata": {},
   "outputs": [],
   "source": []
  },
  {
   "cell_type": "code",
   "execution_count": 0,
   "metadata": {},
   "outputs": [],
   "source": [
    "# the 4 equilibria  on the edges do not exist for Selfish (see )"
   ]
  },
  {
   "cell_type": "code",
   "execution_count": 0,
   "metadata": {},
   "outputs": [],
   "source": []
  },
  {
   "cell_type": "code",
   "execution_count": 0,
   "metadata": {},
   "outputs": [],
   "source": [
    "#Payoffs\n",
    "var('R,S,T,P');\n",
    "Pi([[0,0]],R,S,T,P)"
   ]
  },
  {
   "cell_type": "code",
   "execution_count": 0,
   "metadata": {},
   "outputs": [],
   "source": []
  },
  {
   "cell_type": "code",
   "execution_count": 0,
   "metadata": {},
   "outputs": [],
   "source": [
    "%html\n",
    "<strong><font size=4>Avoid Sucker's vs. Selfish</font></strong>"
   ]
  },
  {
   "cell_type": "code",
   "execution_count": 0,
   "metadata": {},
   "outputs": [],
   "source": [
    "dataStochAS10 = RepeatedGame(1,1,1,1,1.9,1.9,1,-1.01,1.02,1.03,-1.01,-1.03,1.02,1.04,10);\n",
    "ASstoch10 = probTraj(dataStochAS10,xlab='Avoid sucker, $p_1$',ylab='Selfish, $p_2$');\n",
    "show(ASstoch10)"
   ]
  },
  {
   "cell_type": "code",
   "execution_count": 0,
   "metadata": {},
   "outputs": [],
   "source": [
    "dataStochAS = RepeatedGame(1,1,1,1,1.9,1.9,1,-1.01,1.02,1.03,-1.01,-1.03,1.02,1.04,300);\n",
    "ASstoch = probTraj(dataStochAS,xlab='Avoid sucker, $p_1$',ylab='Selfish, $p_2$');\n",
    "show(ASstoch)"
   ]
  },
  {
   "cell_type": "code",
   "execution_count": 0,
   "metadata": {},
   "outputs": [],
   "source": [
    "AvSelfEq = equilibria2p(1,-1.01,1.02,1.03,-1.01,-1.03,1.02,1.04,1.8,'Avoid Sucker, $p_1$','Selfish, $p_2$');\n",
    "show(AvSelfEq+ASstoch10)"
   ]
  },
  {
   "cell_type": "code",
   "execution_count": 0,
   "metadata": {},
   "outputs": [],
   "source": [
    "AvSelf = Vfield2p(1,-1.01,1.02,1.03,-1.01,-1.03,1.02,1.04,1.8,'Avoid Sucker, $p_1$','Selfish, $p_2$');\n",
    "show(AvSelf+ASstoch)"
   ]
  },
  {
   "cell_type": "code",
   "execution_count": 0,
   "metadata": {},
   "outputs": [],
   "source": [
    "ASfull1 = numSde2(0.01,0.94,1,-1.01,1.02,1.03,-1.01,-1.03,1.02,1.0,1.8,0.01,[0.01,0.02],100,'black','Avoid sucker, $p_1$','Selfish, $p_2$',4);\n",
    "#RRfull2 = numSde2(0.4,0.5,3,-2,5,0,3,-2,5,0,1.8,0.01,[0.01,0.02],100,'gray','Avoid sucker, $p_1$','Realistic, $p_2$',4);\n",
    "ASfull3 = numSde2(0.8,0.76,1,-1.01,1.02,1.03,-1.01,-1.03,1.02,1.0,1.8,0.01,[0.001,0.005],100,'black','Avoid sucker, $p_1$','Selfish, $p_2$',4);\n",
    "ASfull4 = numSde2(0.76,0.8,1,-1.01,1.02,1.03,-1.01,-1.03,1.02,1.0,1.8,0.01,[0.001,0.005],100,'black','Avoid sucker, $p_1$','Selfish, $p_2$',4);\n",
    "ASfull5 = numSde2(0.94,0.01,1,-1.01,1.02,1.03,-1.01,-1.03,1.02,1.0,1.8,0.01,[0.01,0.02],100,'black','Avoid sucker, $p_1$','Selfish, $p_2$',4);\n",
    "ASfull6 = numSde2(0.5,0.3,1,-1.01,1.02,1.03,-1.01,-1.03,1.02,1.0,1.8,0.01,[0.001,0.003],100,'black','Avoid sucker, $p_1$','Selfish, $p_2$',4);\n",
    "ASfull7 = numSde2(0.3,0.5,1,-1.01,1.02,1.03,-1.01,-1.03,1.02,1.0,1.8,0.01,[0.001,0.003],100,'black','Avoid sucker, $p_1$','Selfish, $p_2$',4);\n",
    "ASfull8 = numSde2(0.76,0.99,1,-1.01,1.02,1.03,-1.01,-1.03,1.02,1.0,1.8,0.01,[0.001,0.003],100,'black','Avoid sucker, $p_1$','Selfish, $p_2$',4);\n",
    "ASfull9 = numSde2(0.99,0.76,1,-1.01,1.02,1.03,-1.01,-1.03,1.02,1.0,1.8,0.01,[0.001,0.003],100,'black','Avoid sucker, $p_1$','Selfish, $p_2$',4);\n",
    "\n",
    "show(ASstoch+AvSelfEq+ASfull1+ASfull3+ASfull5+ASfull6+ASfull7)"
   ]
  },
  {
   "cell_type": "code",
   "execution_count": 0,
   "metadata": {},
   "outputs": [],
   "source": [
    "save(ASstoch+AvSelfEq+ASfull1+ASfull3+ASfull5+ASfull6+ASfull7,\"DSas2.pdf\")"
   ]
  },
  {
   "cell_type": "code",
   "execution_count": 0,
   "metadata": {},
   "outputs": [],
   "source": [
    "save(AVSelf+ASstoch,\"DSas.pdf\")"
   ]
  },
  {
   "cell_type": "code",
   "execution_count": 0,
   "metadata": {},
   "outputs": [],
   "source": [
    "#This never exists\n",
    "eqsRL[3]"
   ]
  },
  {
   "cell_type": "code",
   "execution_count": 0,
   "metadata": {},
   "outputs": [],
   "source": [
    "#This equilibrium never exists\n",
    "eqsRL[6]"
   ]
  },
  {
   "cell_type": "code",
   "execution_count": 0,
   "metadata": {},
   "outputs": [],
   "source": [
    "eqsRL[8]"
   ]
  },
  {
   "cell_type": "code",
   "execution_count": 0,
   "metadata": {},
   "outputs": [],
   "source": [
    "eigv[8]"
   ]
  },
  {
   "cell_type": "code",
   "execution_count": 0,
   "metadata": {},
   "outputs": [],
   "source": [
    "eigv[8][0].subs(u_11=3,u_21=5,v_11=-1.01,v_12=-6.03,L=1)"
   ]
  },
  {
   "cell_type": "code",
   "execution_count": 0,
   "metadata": {},
   "outputs": [],
   "source": [
    "#eqsRL[8] is never stable\n",
    "solve_ineq([eigv[8][0]<0,eigv[8][1]<0,u_11>0,u_12<0,u_21>0,u_22==0,v_11<0,v_12<0,v_21>0,v_22>0,L>0])"
   ]
  },
  {
   "cell_type": "code",
   "execution_count": 0,
   "metadata": {},
   "outputs": [],
   "source": [
    "%html\n",
    "<strong><font size=4>Avoid Sucker's vs. Avoid Sucker's</font></strong>"
   ]
  },
  {
   "cell_type": "code",
   "execution_count": 0,
   "metadata": {},
   "outputs": [],
   "source": [
    "dataStochAA = RepeatedGame(1,1,1,1,0.9,0.9,1,-1.01,1.02,1.03,1,-1.01,1.02,1.03,300);\n",
    "AAstoch = probTraj(dataStochAA,xlab='Avoid sucker, $p_1$',ylab='Avoid sucker, $p_2$');\n",
    "show(AAstoch)"
   ]
  },
  {
   "cell_type": "code",
   "execution_count": 0,
   "metadata": {},
   "outputs": [],
   "source": [
    "dataStochAA2 = RepeatedGame(1,1,1,1,0.9,0.9,1,-1.01,1.02,1.03,1,-1.01,1.02,1.03,300);\n",
    "AAstoch2 = probTraj(dataStochAA2,col='orange',xlab='Avoid sucker, $p_1$',ylab='Avoid sucker, $p_2$');\n",
    "show(AAstoch2)"
   ]
  },
  {
   "cell_type": "code",
   "execution_count": 0,
   "metadata": {},
   "outputs": [],
   "source": []
  },
  {
   "cell_type": "code",
   "execution_count": 0,
   "metadata": {},
   "outputs": [],
   "source": [
    "AvAvEq = equilibria2p(1,-1.01,1.02,1.03,1,-1.01,1.02,1.03,1.8,'Avoid Sucker, $p_1$','Avoid Sucker, $p_2$');\n",
    "show(AvAvEq+AAstoch+AAstoch2)"
   ]
  },
  {
   "cell_type": "code",
   "execution_count": 0,
   "metadata": {},
   "outputs": [],
   "source": [
    "AvAv = Vfield2p(1,-1.01,1.02,1.03,1,-1.01,1.02,1.03,1.8,'Avoid Sucker, $p_1$','Avoid Sucker, $p_2$');\n",
    "show(AvAv+AAstoch+AAstoch2)"
   ]
  },
  {
   "cell_type": "code",
   "execution_count": 0,
   "metadata": {},
   "outputs": [],
   "source": [
    "AAfull1 = numSde2(0.01,0.94,1,-1.01,1.02,1.03,1,-1.01,1.02,1.03,1.8,0.01,[0.001],1000,'black','Avoid sucker, $p_1$','Avoid sucker, $p_2$',4);\n",
    "AAfull3 = numSde2(0.9,0.76,1,-1.01,1.02,1.03,1,-1.01,1.02,1.03,1.8,0.01,[0.001],1000,'black','Avoid sucker, $p_1$','Avoid sucker, $p_2$',4);\n",
    "AAfull4 = numSde2(0.76,0.9,1,-1.01,1.02,1.03,1,-1.01,1.02,1.03,1.8,0.01,[0.001],1000,'black','Avoid sucker, $p_1$','Avoid sucker, $p_2$',4);\n",
    "AAfull5 = numSde2(0.94,0.01,1,-1.01,1.02,1.03,1,-1.01,1.02,1.03,1.8,0.01,[0.001],1000,'black','Avoid sucker, $p_1$','Avoid sucker, $p_2$',4);\n",
    "AAfull6 = numSde2(0.5,0.3,1,-1.01,1.02,1.03,1,-1.01,1.02,1.03,1.8,0.01,[0.001],1000,'black','Avoid sucker, $p_1$','Avoid sucker, $p_2$',4);\n",
    "AAfull7 = numSde2(0.3,0.5,1,-1.01,1.02,1.03,1,-1.01,1.02,1.03,1.8,0.01,[0.001],1000,'black','Avoid sucker, $p_1$','Avoid sucker, $p_2$',4);\n",
    "\n",
    "show(AAstoch+AAstoch2+AvAvEq+AAfull1+AAfull3+AAfull4+AAfull5+AAfull6+AAfull7)"
   ]
  },
  {
   "cell_type": "code",
   "execution_count": 0,
   "metadata": {},
   "outputs": [],
   "source": [
    "save(AAstoch+AAstoch2+AvAvEq+AAfull1+AAfull3+AAfull4+AAfull5+AAfull6+AAfull7,\"DSaa2.pdf\")"
   ]
  },
  {
   "cell_type": "code",
   "execution_count": 0,
   "metadata": {},
   "outputs": [],
   "source": [
    "save(AvAv+AAstoch,\"DSas.pdf\")"
   ]
  },
  {
   "cell_type": "code",
   "execution_count": 0,
   "metadata": {},
   "outputs": [],
   "source": [
    "%html\n",
    "<strong><font size=4>Matcher vs. Selfish</font></strong>"
   ]
  },
  {
   "cell_type": "code",
   "execution_count": 56,
   "metadata": {},
   "outputs": [
    {
     "data": {
      "image/png": "[encoded data removed]",
      "text/plain": [
       "Graphics object consisting of 2 graphics primitives"
      ]
     },
     "metadata": {},
     "output_type": "display_data"
    }
   ],
   "source": [
    "dataStochCS = RepeatedGame(1,1,1,1,1.9,1.9,1,-1.01,-1.02,1.03,-1.01,-1.03,1.02,1.04,300);\n",
    "CSstoch = probTraj(dataStochCS,xlab='Matcher, $p_1$',ylab='Selfish, $p_2$');\n",
    "show(CSstoch)"
   ]
  },
  {
   "cell_type": "code",
   "execution_count": 58,
   "metadata": {},
   "outputs": [
    {
     "name": "stderr",
     "output_type": "stream",
     "text": [
      "/Users/slimane/opt/miniconda3/envs/sage/lib/python3.7/site-packages/sage/repl/ipython_kernel/__main__.py:24: UserWarning: Using generic algorithm for an inexact ring, which will probably give incorrect results due to numerical precision issues.\n"
     ]
    },
    {
     "data": {
      "image/png": "[encoded data removed]",
      "text/plain": [
       "Graphics object consisting of 5 graphics primitives"
      ]
     },
     "metadata": {},
     "output_type": "display_data"
    }
   ],
   "source": [
    "McSelfEq = equilibria2p(1,-1.01,-1.02,1.03,-1.01,-1.03,1.02,1.04,1.8,'Matcher, $p_1$','Selfish, $p_2$');\n",
    "show(McSelfEq+CSstoch)"
   ]
  },
  {
   "cell_type": "code",
   "execution_count": 0,
   "metadata": {},
   "outputs": [],
   "source": []
  },
  {
   "cell_type": "code",
   "execution_count": 0,
   "metadata": {},
   "outputs": [],
   "source": [
    "McSelf = Vfield2p(1,-1.01,-1.02,1.03,-1.01,-1.03,1.02,1.04,1.8,'Matcher, $p_1$','Selfish, $p_2$');\n",
    "show(McSelf+CSstoch)"
   ]
  },
  {
   "cell_type": "code",
   "execution_count": 60,
   "metadata": {},
   "outputs": [
    {
     "data": {
      "image/png": "[encoded data removed]",
      "text/plain": [
       "Graphics object consisting of 33 graphics primitives"
      ]
     },
     "metadata": {},
     "output_type": "display_data"
    }
   ],
   "source": [
    "CSfull1 = numSde2(0.01,0.94,1,-1.01,-1.02,1.03,-1.01,-1.03,1.02,1.04,1.8,0.01,[0.005,0.01],100,'black','Matcher, $p_1$','Selfish, $p_2$',4);\n",
    "#RRfull2 = numSde2(0.4,0.5,3,-2,5,0,3,-2,5,0,1.8,0.01,[0.01,0.02],100,'gray','Avoid sucker, $p_1$','Realistic, $p_2$',4);\n",
    "CSfull3 = numSde2(0.8,0.76,1,-1.01,-1.02,1.03,-1.01,-1.03,1.02,1.04,1.8,0.01,[0.001],100,'red','Matcher, $p_1$','Selfish, $p_2$',4);\n",
    "CSfull4 = numSde2(0.76,0.8,1,-1.01,-1.02,1.03,-1.01,-1.03,1.02,1.04,1.8,0.01,[0.001,0.005],100,'black','Matcher, $p_1$','Selfish, $p_2$',4);\n",
    "CSfull5 = numSde2(0.94,0.01,1,-1.01,-1.02,1.03,-1.01,-1.03,1.02,1.04,1.8,0.01,[0.01,0.02],100,'black','Matcher, $p_1$','Selfish, $p_2$',4);\n",
    "CSfull6 = numSde2(0.5,0.3,1,-1.01,-1.02,1.03,-1.01,-1.03,1.02,1.04,1.8,0.01,[0.001,0.003],100,'black','Matcher, $p_1$','Selfish, $p_2$',4);\n",
    "CSfull7 = numSde2(0.3,0.5,1,-1.01,-1.02,1.03,-1.01,-1.03,1.02,1.04,1.8,0.01,[0.001,0.003],100,'black','Matcher, $p_1$','Selfish, $p_2$',4);\n",
    "CSfull8 = numSde2(0.76,0.99,1,-1.01,-1.02,1.03,-1.01,-1.03,1.02,1.04,1.8,0.01,[0.001,0.003],100,'black','Matcher, $p_1$','Selfish, $p_2$',4);\n",
    "CSfull9 = numSde2(0.99,0.76,1,-1.01,-1.02,1.03,-1.01,-1.03,1.02,1.04,1.8,0.01,[0.001,0.003],100,'black','Matcher, $p_1$','Selfish, $p_2$',4);\n",
    "\n",
    "show(CSstoch+McSelfEq+CSfull1+CSfull3+CSfull5+CSfull6+CSfull7)"
   ]
  },
  {
   "cell_type": "code",
   "execution_count": 0,
   "metadata": {},
   "outputs": [],
   "source": [
    "save(CSstoch+McSelfEq+CSfull1+CSfull3+CSfull5+CSfull6+CSfull7,\"DScs2.pdf\")"
   ]
  },
  {
   "cell_type": "code",
   "execution_count": 0,
   "metadata": {},
   "outputs": [],
   "source": [
    "save(RealSelf+RSstoch,\"DScs.pdf\")"
   ]
  },
  {
   "cell_type": "code",
   "execution_count": 0,
   "metadata": {},
   "outputs": [],
   "source": [
    "%html\n",
    "<strong><font size=4>Matcher vs. Matcher</font></strong>"
   ]
  },
  {
   "cell_type": "code",
   "execution_count": 0,
   "metadata": {},
   "outputs": [],
   "source": [
    "dataStochCC = RepeatedGame(1,1,1,1,1.9,1.9,1,-1.01,-1.02,1.03,1,-1.01,-1.02,1.03,300);\n",
    "CCstoch = probTraj(dataStochCC,xlab='Matcher, $p_1$',ylab='Matcher, $p_2$');\n",
    "show(CCstoch)"
   ]
  },
  {
   "cell_type": "code",
   "execution_count": 0,
   "metadata": {},
   "outputs": [],
   "source": [
    "dataStochCC2 = RepeatedGame(1,1,1,1,1.9,1.9,1,-1.01,-1.02,1.03,1,-1.01,-1.02,1.03,300);\n",
    "CCstoch2 = probTraj(dataStochCC2,col='orange',xlab='Matcher, $p_1$',ylab='Matcher, $p_2$');\n",
    "show(CCstoch2)"
   ]
  },
  {
   "cell_type": "code",
   "execution_count": 0,
   "metadata": {},
   "outputs": [],
   "source": [
    "#This is just reinforcement learning in a coordination game\n",
    "McMc = Vfield2p(1,-1.01,-1.02,1.03,1,-1.01,-1.02,1.03,1.8,'Matcher, $p_1$','Matcher, $p_2$');\n",
    "show(McMc+CCstoch+CCstoch2)"
   ]
  },
  {
   "cell_type": "code",
   "execution_count": 0,
   "metadata": {},
   "outputs": [],
   "source": [
    "McMcEq = equilibria2p(1,-1.01,-1.02,1.03,1,-1.01,-1.02,1.03,1.8,'Matcher, $p_1$','Matcher, $p_2$');\n",
    "show(McMcEq+CCstoch+CCstoch2)"
   ]
  },
  {
   "cell_type": "code",
   "execution_count": 0,
   "metadata": {},
   "outputs": [],
   "source": [
    "CCfull1 = numSde2(0.01,0.94,1,-1.01,-1.02,1.03,1,-1.01,-1.02,1.03,1.8,0.01,[0.01],100,'black','Matcher, $p_1$','Matcher, $p_2$',4);\n",
    "CCfull2 = numSde2(0.5,0.8,1,-1.01,-1.02,1.03,1,-1.01,-1.02,1.03,1.8,0.01,[0.006],100,'black','Matcher, $p_1$','Matcher, $p_2$',4);\n",
    "CCfull3 = numSde2(0.8,0.76,1,-1.01,-1.02,1.03,1,-1.01,-1.02,1.03,1.8,0.01,[0.006],100,'black','Matcher, $p_1$','Matcher, $p_2$',4);\n",
    "CCfull5 = numSde2(0.94,0.01,1,-1.01,-1.02,1.03,1,-1.01,-1.02,1.03,1.8,0.01,[0.02],100,'black','Matcher, $p_1$','Matcher, $p_2$',4);\n",
    "CCfull6 = numSde2(0.5,0.3,1,-1.01,-1.02,1.03,1,-1.01,-1.02,1.03,1.8,0.01,[0.006],100,'black','Matcher, $p_1$','Matcher, $p_2$',4);\n",
    "CCfull7 = numSde2(0.3,0.5,1,-1.01,-1.02,1.03,1,-1.01,-1.02,1.03,1.8,0.01,[0.006],100,'black','Matcher, $p_1$','Matcher, $p_2$',4);\n",
    "\n",
    "show(CCstoch+CCstoch2+McMcEq+CCfull1+CCfull2+CCfull3+CCfull5+CCfull6+CCfull7)"
   ]
  },
  {
   "cell_type": "code",
   "execution_count": 0,
   "metadata": {},
   "outputs": [],
   "source": [
    "save(CCstoch+CCstoch2+McMcEq+CCfull1+CCfull2+CCfull3+CCfull5+CCfull6+CCfull7,\"DScc2.pdf\")"
   ]
  },
  {
   "cell_type": "code",
   "execution_count": 0,
   "metadata": {},
   "outputs": [],
   "source": [
    "save(McMc+CCstoch+CCstoch2,\"DScc.pdf\")"
   ]
  },
  {
   "cell_type": "markdown",
   "metadata": {},
   "source": [
    "<strong><font size=4>Avoid Sucker's vs. Matcher</font></strong>"
   ]
  },
  {
   "cell_type": "code",
   "execution_count": 61,
   "metadata": {},
   "outputs": [
    {
     "data": {
      "image/png": "[encoded data removed]",
      "text/plain": [
       "Graphics object consisting of 2 graphics primitives"
      ]
     },
     "metadata": {},
     "output_type": "display_data"
    }
   ],
   "source": [
    "dataStochAC = RepeatedGame(1,1,1,1,1.2,1.2,1,-1.01,1.02,1.03,1,-1.01,-1.02,1.03,300);\n",
    "ACstoch = probTraj(dataStochAC,xlab='Avoid sucker, $p_1$',ylab='Matcher, $p_2$');\n",
    "show(ACstoch)"
   ]
  },
  {
   "cell_type": "code",
   "execution_count": 62,
   "metadata": {},
   "outputs": [
    {
     "data": {
      "image/png": "[encoded data removed]",
      "text/plain": [
       "Graphics object consisting of 2 graphics primitives"
      ]
     },
     "metadata": {},
     "output_type": "display_data"
    }
   ],
   "source": [
    "dataStochAC2 = RepeatedGame(1,1,1,1,1.2,1.2,1,-1.01,1.02,1.03,1,-1.01,-1.02,1.03,300);\n",
    "ACstoch2 = probTraj(dataStochAC2,col='orange',xlab='Avoid sucker, $p_1$',ylab='Matcher, $p_2$');\n",
    "show(ACstoch2)"
   ]
  },
  {
   "cell_type": "code",
   "execution_count": 63,
   "metadata": {},
   "outputs": [
    {
     "name": "stderr",
     "output_type": "stream",
     "text": [
      "/Users/slimane/opt/miniconda3/envs/sage/lib/python3.7/site-packages/sage/repl/ipython_kernel/__main__.py:24: UserWarning: Using generic algorithm for an inexact ring, which will probably give incorrect results due to numerical precision issues.\n"
     ]
    },
    {
     "data": {
      "image/png": "[encoded data removed]",
      "text/plain": [
       "Graphics object consisting of 7 graphics primitives"
      ]
     },
     "metadata": {},
     "output_type": "display_data"
    }
   ],
   "source": [
    "AvMcEq = equilibria2p(1,-1.01,1.02,1.03,1,-1.01,-1.02,1.03,1.8,'Avoid Sucker, $p_1$','Matcher, $p_2$');\n",
    "show(AvMcEq+ACstoch+ACstoch2)"
   ]
  },
  {
   "cell_type": "code",
   "execution_count": 64,
   "metadata": {},
   "outputs": [
    {
     "name": "stderr",
     "output_type": "stream",
     "text": [
      "/Users/slimane/opt/miniconda3/envs/sage/lib/python3.7/site-packages/sage/repl/ipython_kernel/__main__.py:24: UserWarning: Using generic algorithm for an inexact ring, which will probably give incorrect results due to numerical precision issues.\n"
     ]
    },
    {
     "data": {
      "image/png": "[encoded data removed]",
      "text/plain": [
       "Graphics object consisting of 8 graphics primitives"
      ]
     },
     "metadata": {},
     "output_type": "display_data"
    }
   ],
   "source": [
    "AvMc = Vfield2p(1,-1.01,1.02,1.03,1,-1.01,-1.02,1.03,1.8,'Avoid Sucker, $p_1$','Matcher, $p_2$');\n",
    "show(AvMc+ACstoch+ACstoch2)"
   ]
  },
  {
   "cell_type": "code",
   "execution_count": 65,
   "metadata": {},
   "outputs": [
    {
     "data": {
      "image/png": "[encoded data removed]",
      "text/plain": [
       "Graphics object consisting of 37 graphics primitives"
      ]
     },
     "metadata": {},
     "output_type": "display_data"
    }
   ],
   "source": [
    "ACfull1 = numSde2(0.01,0.94,1,-1.01,1.02,1.03,1,-1.01,-1.02,1.03,1.8,0.01,[0.0004,0.002],1000,'black','Avoid sucker, $p_1$','Matcher, $p_2$',4);\n",
    "ACfull3 = numSde2(0.8,0.76,1,-1.01,1.02,1.03,1,-1.01,-1.02,1.03,1.8,0.01,[0.005,0.01],100,'black','Avoid sucker, $p_1$','Matcher, $p_2$',4);\n",
    "ACfull5 = numSde2(0.94,0.01,1,-1.01,1.02,1.03,1,-1.01,-1.02,1.03,1.8,0.01,[0.005,0.01],100,'black','Avoid sucker, $p_1$','Matcher, $p_2$',4);\n",
    "ACfull6 = numSde2(0.5,0.3,1,-1.01,1.02,1.03,1,-1.01,-1.02,1.03,1.8,0.01,[0.005,0.01],100,'black','Avoid sucker, $p_1$','Matcher, $p_2$',4);\n",
    "ACfull7 = numSde2(0.3,0.5,1,-1.01,1.02,1.03,1,-1.01,-1.02,1.03,1.8,0.01,[0.005,0.01],100,'black','Avoid sucker, $p_1$','Matcher, $p_2$',4);\n",
    "\n",
    "show(ACstoch+ACstoch2+AvMcEq+ACfull1+ACfull3+ACfull5+ACfull6+ACfull7)"
   ]
  },
  {
   "cell_type": "code",
   "execution_count": 0,
   "metadata": {},
   "outputs": [],
   "source": []
  },
  {
   "cell_type": "code",
   "execution_count": 0,
   "metadata": {},
   "outputs": [],
   "source": [
    "save(ACstoch+ACstoch2+AvMcEq+ACfull1+ACfull3+ACfull5+ACfull6+ACfull7,\"DSac2.pdf\")"
   ]
  },
  {
   "cell_type": "code",
   "execution_count": 0,
   "metadata": {},
   "outputs": [],
   "source": [
    "save(AvMc+ACstoch+ACstoch2,\"DSac.pdf\")"
   ]
  },
  {
   "cell_type": "code",
   "execution_count": 0,
   "metadata": {},
   "outputs": [],
   "source": []
  },
  {
   "cell_type": "code",
   "execution_count": 0,
   "metadata": {},
   "outputs": [],
   "source": [
    "%html\n",
    "<strong><font size=4>Avoid Sucker's vs. Manipulator</font></strong>A"
   ]
  },
  {
   "cell_type": "code",
   "execution_count": 0,
   "metadata": {},
   "outputs": [],
   "source": [
    "dataStochAM = RepeatedGame(1,1,1,1,1.9,1.9,1,-1.01,1.02,1.03,1,-1.01,1.02,-1.03,300);\n",
    "AMstoch = probTraj(dataStochAM,xlab='Avoid sucker, $p_1$',ylab='Manipulator, $p_2$');\n",
    "show(AMstoch)"
   ]
  },
  {
   "cell_type": "code",
   "execution_count": 0,
   "metadata": {},
   "outputs": [],
   "source": [
    "dataStochAM2 = RepeatedGame(1,1,1,1,1.9,1.9,1,-1.01,1.02,1.03,1,-1.01,1.02,-1.03,300);\n",
    "AMstoch2 = probTraj(dataStochAM2,col='orange',xlab='Avoid sucker, $p_1$',ylab='Manipulator, $p_2$');\n",
    "show(AMstoch2)"
   ]
  },
  {
   "cell_type": "code",
   "execution_count": 0,
   "metadata": {},
   "outputs": [],
   "source": [
    "AvManEq = equilibria2p(1,-1.01,1.02,1.03,1,-1.01,1.02,-1.03,1.8,'Avoid Sucker, $p_1$','Manipulator, $p_2$');\n",
    "show(AvManEq+AMstoch+AMstoch2)"
   ]
  },
  {
   "cell_type": "code",
   "execution_count": 0,
   "metadata": {},
   "outputs": [],
   "source": [
    "AvMan = Vfield2p(1,-1.01,1.02,1.03,1,-1.01,1.02,-1.03,1.8,'Avoid Sucker, $p_1$','Manipulator, $p_2$');\n",
    "show(AvMan+AMstoch+AMstoch2)"
   ]
  },
  {
   "cell_type": "code",
   "execution_count": 0,
   "metadata": {},
   "outputs": [],
   "source": [
    "AMfull1 = numSde2(0.01,0.94,1,-1.01,1.02,1.03,1,-1.01,1.02,-1.03,1.8,0.01,[0.1],1000,'black','Avoid sucker, $p_1$','Manipulator, $p_2$',4);\n",
    "AMfull3 = numSde2(0.8,0.76,1,-1.01,1.02,1.03,1,-1.01,1.02,-1.03,1.8,0.01,[0.005,0.01],100,'black','Avoid sucker, $p_1$','Manipulator, $p_2$',4);\n",
    "AMfull4 = numSde2(0.6,0.8,1,-1.01,1.02,1.03,1,-1.01,1.02,-1.03,1.8,0.01,[0.02,0.05],100,'black','Avoid sucker, $p_1$','Manipulator, $p_2$',4);\n",
    "AMfull5 = numSde2(0.94,0.01,1,-1.01,1.02,1.03,1,-1.01,1.02,-1.03,1.8,0.01,[0.02,0.05],100,'black','Avoid sucker, $p_1$','Manipulator, $p_2$',4);\n",
    "AMfull6 = numSde2(0.5,0.3,1,-1.01,1.02,1.03,1,-1.01,1.02,-1.03,1.8,0.01,[0.005,0.01],100,'black','Avoid sucker, $p_1$','Manipulator, $p_2$',4);\n",
    "AMfull7 = numSde2(0.3,0.5,1,-1.01,1.02,1.03,1,-1.01,1.02,-1.03,1.8,0.01,[0.005,0.01],100,'black','Avoid sucker, $p_1$','Manipulator, $p_2$',4);\n",
    "\n",
    "show(AMstoch+AMstoch2+AvManEq+AMfull1+AMfull3+AMfull4+AMfull5+AMfull6+AMfull7)"
   ]
  },
  {
   "cell_type": "code",
   "execution_count": 0,
   "metadata": {},
   "outputs": [],
   "source": [
    "save(AMstoch+AMstoch2+AvManEq+AMfull1+AMfull3+AMfull4+AMfull5+AMfull6+AMfull7,\"DSam2.pdf\")"
   ]
  },
  {
   "cell_type": "code",
   "execution_count": 0,
   "metadata": {},
   "outputs": [],
   "source": [
    "save(AvMan+AMstoch+AMstoch2,\"DSam.pdf\")"
   ]
  },
  {
   "cell_type": "code",
   "execution_count": 0,
   "metadata": {},
   "outputs": [],
   "source": [
    "%html\n",
    "<strong><font size=4>Matcher vs. Manipulator</font></strong>"
   ]
  },
  {
   "cell_type": "code",
   "execution_count": 0,
   "metadata": {},
   "outputs": [],
   "source": [
    "dataStochCM = RepeatedGame(1,1,1,1,1.5,1.5,1,-1.01,-1.02,1.03,1,-1.01,1.02,-1.03,300);\n",
    "CMstoch = probTraj(dataStochCM,xlab='Matcher, $p_1$',ylab='Manipulator, $p_2$');\n",
    "show(CMstoch)"
   ]
  },
  {
   "cell_type": "code",
   "execution_count": 0,
   "metadata": {},
   "outputs": [],
   "source": []
  },
  {
   "cell_type": "code",
   "execution_count": 0,
   "metadata": {},
   "outputs": [],
   "source": [
    "dataStochCM2 = RepeatedGame(1,1,1,1,1.3,1.3,1,-1.01,-1.02,1.03,1,-1.01,1.02,-1.03,300);\n",
    "CMstoch2 = probTraj(dataStochCM2,col='orange',xlab='Matcher, $p_1$',ylab='Manipulator, $p_2$');\n",
    "show(CMstoch2)"
   ]
  },
  {
   "cell_type": "code",
   "execution_count": 0,
   "metadata": {},
   "outputs": [],
   "source": [
    "McManEq = equilibria2p(1,-1.01,-1.02,1.03,1,-1.01,1.02,-1.03,1.8,'Avoid Sucker, $p_1$','Manipulator, $p_2$');\n",
    "show(McManEq+CMstoch+CMstoch2)"
   ]
  },
  {
   "cell_type": "code",
   "execution_count": 0,
   "metadata": {},
   "outputs": [],
   "source": [
    "McMan = Vfield2p(1,-1.01,-1.02,1.03,1,-1.01,1.02,-1.03,1.8,'Avoid Sucker, $p_1$','Manipulator, $p_2$');\n",
    "show(McMan+CMstoch+CMstoch2)"
   ]
  },
  {
   "cell_type": "code",
   "execution_count": 0,
   "metadata": {},
   "outputs": [],
   "source": []
  },
  {
   "cell_type": "code",
   "execution_count": 0,
   "metadata": {},
   "outputs": [],
   "source": [
    "CMfull1 = numSde2(0.01,0.94,1,-1.01,-1.02,1.03,1,-1.01,1.02,-1.03,1.8,0.01,[0.001],1000,'black','Matcher, $p_1$','Manipulator, $p_2$',4);\n",
    "#RRfull2 = numSde2(0.4,0.5,3,-2,5,0,3,-2,5,0,1.8,0.01,[0.01,0.02],100,'gray','Matcher, $p_1$','Realistic, $p_2$',4);\n",
    "CMfull3 = numSde2(0.8,0.76,1,-1.01,-1.02,1.03,1,-1.01,1.02,-1.03,1.8,0.01,[0.001],1000,'black','Matcher, $p_1$','Manipulator, $p_2$',4);\n",
    "CMfull4 = numSde2(0.76,0.8,1,-1.01,-1.02,1.03,1,-1.01,1.02,-1.03,1.8,0.01,[0.001],1000,'black','Matcher, $p_1$','Manipulator, $p_2$',4);\n",
    "CMfull5 = numSde2(0.94,0.01,1,-1.01,-1.02,1.03,1,-1.01,1.02,-1.03,1.8,0.01,[0.001],1000,'black','Matcher, $p_1$','Manipulator, $p_2$',4);\n",
    "CMfull6 = numSde2(0.5,0.3,1,-1.01,-1.02,1.03,1,-1.01,1.02,-1.03,1.8,0.01,[0.001],1000,'black','Matcher, $p_1$','Manipulator, $p_2$',4);\n",
    "CMfull7 = numSde2(0.5,0.17,1,-1.01,-1.02,1.03,1,-1.01,1.02,-1.03,1.8,0.01,[0.001],1000,'black','Matcher, $p_1$','Manipulator, $p_2$',4);\n",
    "\n",
    "show(CMstoch+CMstoch2+McManEq+CMfull1+CMfull3+CMfull5+CMfull6+CMfull7)"
   ]
  },
  {
   "cell_type": "code",
   "execution_count": 0,
   "metadata": {},
   "outputs": [],
   "source": [
    "save(CMstoch+CMstoch2+McManEq+CMfull1+CMfull3+CMfull5+CMfull6+CMfull7,\"DScm2.pdf\")"
   ]
  },
  {
   "cell_type": "code",
   "execution_count": 0,
   "metadata": {},
   "outputs": [],
   "source": [
    "save(McMan+CMstoch+CMstoch2,\"DScm.pdf\")"
   ]
  },
  {
   "cell_type": "code",
   "execution_count": 0,
   "metadata": {},
   "outputs": [],
   "source": [
    "%html\n",
    "<strong><font size=4>Pareto vs. Avoid Sucker</font></strong>"
   ]
  },
  {
   "cell_type": "code",
   "execution_count": 0,
   "metadata": {},
   "outputs": [],
   "source": [
    "dataStochAP = RepeatedGame(1,1,1,1,1.5,1.5,1,-1.01,1.02,1.04,1,-1.01,-1.02,-1.03,300);\n",
    "APstoch = probTraj(dataStochAP,xlab='Avoid Sucker, $p_1$',ylab='Pareto, $p_2$');\n",
    "show(APstoch)"
   ]
  },
  {
   "cell_type": "code",
   "execution_count": 0,
   "metadata": {},
   "outputs": [],
   "source": []
  },
  {
   "cell_type": "code",
   "execution_count": 0,
   "metadata": {},
   "outputs": [],
   "source": []
  },
  {
   "cell_type": "code",
   "execution_count": 0,
   "metadata": {},
   "outputs": [],
   "source": [
    "dataStochAP2 = RepeatedGame(1,1,1,1,1.5,1.5,1,-1.01,1.02,1.04,1,-1.01,-1.02,-1.03,300);\n",
    "APstoch2 = probTraj(dataStochAP2,col='orange',xlab='Avoid Sucker, $p_1$',ylab='Pareto, $p_2$');\n",
    "show(APstoch2)"
   ]
  },
  {
   "cell_type": "code",
   "execution_count": 0,
   "metadata": {},
   "outputs": [],
   "source": [
    "AsParEq = equilibria2p(1,-1.01,1.02,1.04,1,-1.01,-1.02,-1.03,1.8,'Avoid sucker, $p_1$','Pareto, $p_2$');\n",
    "show(AsParEq+APstoch+APstoch2)"
   ]
  },
  {
   "cell_type": "code",
   "execution_count": 0,
   "metadata": {},
   "outputs": [],
   "source": [
    "ParAs = Vfield2p(1,-1.01,-1.02,-1.03,1,-1.01,1.02,1.04,1.8,'Pareto, $p_1$','Avoid sucker, $p_2$');\n",
    "show(ParAs+PAstoch+PAstoch2)"
   ]
  },
  {
   "cell_type": "code",
   "execution_count": 0,
   "metadata": {},
   "outputs": [],
   "source": [
    "APfull1 = numSde2(0.2,0.9,1,-1.01,1.02,1.04,1,-1.01,-1.02,-1.03,1.8,0.01,[0.005,0.02],1000,'black','Avoid sucker, $p_1$','Pareto, $p_2$',4);\n",
    "APfull3 = numSde2(0.8,0.76,1,-1.01,1.02,1.04,1,-1.01,-1.02,-1.03,1.8,0.01,[0.005,0.01],100,'black','Avoid sucker, $p_1$','Pareto, $p_2$',4);\n",
    "APfull5 = numSde2(0.6,0.8,1,-1.01,1.02,1.04,1,-1.01,-1.02,-1.03,1.8,0.01,[0.001],1000,'black','Avoid sucker, $p_1$','Pareto, $p_2$',4);\n",
    "APfull6 = numSde2(0.5,0.3,1,-1.01,1.02,1.04,1,-1.01,-1.02,-1.03,1.8,0.01,[0.005,0.01],100,'black','Avoid sucker, $p_1$','Pareto, $p_2$',4);\n",
    "APfull7 = numSde2(0.3,0.5,1,-1.01,1.02,1.04,1,-1.01,-1.02,-1.03,1.8,0.01,[0.005,0.01],100,'black','Avoid sucker, $p_1$','Pareto, $p_2$',4);\n",
    "\n",
    "show(APstoch+APstoch2+AsParEq+APfull1+APfull3+APfull5+APfull7)"
   ]
  },
  {
   "cell_type": "code",
   "execution_count": 0,
   "metadata": {},
   "outputs": [],
   "source": [
    "save(APstoch+APstoch2+AsParEq+APfull1+APfull3+APfull5+APfull7,\"DSap2.pdf\")"
   ]
  },
  {
   "cell_type": "code",
   "execution_count": 0,
   "metadata": {},
   "outputs": [],
   "source": [
    "save(ParAs+PAstoch+PAstoch2,\"DSpa.pdf\")"
   ]
  },
  {
   "cell_type": "code",
   "execution_count": 0,
   "metadata": {},
   "outputs": [],
   "source": [
    "%html\n",
    "<strong><font size=4>Pareto vs. Matcher</font></strong>"
   ]
  },
  {
   "cell_type": "code",
   "execution_count": 0,
   "metadata": {},
   "outputs": [],
   "source": [
    "dataStochCP = RepeatedGame(1,1,1,1,1.9,1.9,1,-1.01,-1.02,1.03,1,-1.01,-1.02,-1.03,300);\n",
    "CPstoch = probTraj(dataStochCP,xlab='Matcher, $p_1$',ylab='Pareto, $p_2$');\n",
    "show(CPstoch)"
   ]
  },
  {
   "cell_type": "code",
   "execution_count": 0,
   "metadata": {},
   "outputs": [],
   "source": [
    "dataStochAC2 = RepeatedGame(1,1,1,1,1.3,1.3,1,-1.01,1.02,1.03,1,-1.01,-1.02,1.03,300);\n",
    "ACstoch2 = probTraj(dataStochAC2,col='orange',xlab='Avoid sucker, $p_1$',ylab='Matcher, $p_2$');\n",
    "show(ACstoch2)"
   ]
  },
  {
   "cell_type": "code",
   "execution_count": 0,
   "metadata": {},
   "outputs": [],
   "source": []
  },
  {
   "cell_type": "code",
   "execution_count": 0,
   "metadata": {},
   "outputs": [],
   "source": []
  },
  {
   "cell_type": "code",
   "execution_count": 0,
   "metadata": {},
   "outputs": [],
   "source": [
    "McParEq = equilibria2p(1,-1.01,-1.02,1.03,1,-1.01,-1.02,-1.03,1.8,'Matcher, $p_1$','Pareto, $p_2$');\n",
    "show(McParEq+CPstoch)"
   ]
  },
  {
   "cell_type": "code",
   "execution_count": 0,
   "metadata": {},
   "outputs": [],
   "source": [
    "ParMc = Vfield2p(1,-1.01,-1.02,-1.03,1,-1.01,-1.02,1.03,1.8,'Pareto, $p_1$','Matcher, $p_2$');\n",
    "show(ParMc+PCstoch)"
   ]
  },
  {
   "cell_type": "code",
   "execution_count": 0,
   "metadata": {},
   "outputs": [],
   "source": [
    "CPfull1 = numSde2(0.01,0.94,1,-1.01,-1.02,1.03,1,-1.01,-1.02,-1.03,1.8,0.01,[0.005,0.03],100,'black','Matcher, $p_1$','Pareto, $p_2$',4);\n",
    "CPfull3 = numSde2(0.8,0.76,1,-1.01,-1.02,1.03,1,-1.01,-1.02,-1.03,1.8,0.01,[0.005,0.01],100,'black','Matcher, $p_1$','Pareto, $p_2$',4);\n",
    "CPfull5 = numSde2(0.8,0.4,1,-1.01,-1.02,1.03,1,-1.01,-1.02,-1.03,1.8,0.01,[0.002],100,'black','Matcher, $p_1$','Pareto, $p_2$',4);\n",
    "CPfull6 = numSde2(0.5,0.3,1,-1.01,-1.02,1.03,1,-1.01,-1.02,-1.03,1.8,0.01,[0.005,0.01],100,'black','Matcher, $p_1$','Pareto, $p_2$',4);\n",
    "CPfull7 = numSde2(0.3,0.5,1,-1.01,-1.02,1.03,1,-1.01,-1.02,-1.03,1.8,0.01,[0.005,0.01],100,'black','Matcher, $p_1$','Pareto, $p_2$',4);\n",
    "\n",
    "show(CPstoch+McParEq+CPfull1+CPfull3+CPfull5+CPfull7)"
   ]
  },
  {
   "cell_type": "code",
   "execution_count": 0,
   "metadata": {},
   "outputs": [],
   "source": [
    "save(CPstoch+McParEq+CPfull1+CPfull3+CPfull5+CPfull7,\"DScp2.pdf\")"
   ]
  },
  {
   "cell_type": "code",
   "execution_count": 0,
   "metadata": {},
   "outputs": [],
   "source": [
    "save(ParMc+PCstoch,\"DSpc.pdf\")"
   ]
  },
  {
   "cell_type": "code",
   "execution_count": 0,
   "metadata": {},
   "outputs": [],
   "source": [
    "%html\n",
    "<strong><font size=4>Pareto vs. Selfish</font></strong>"
   ]
  },
  {
   "cell_type": "code",
   "execution_count": 0,
   "metadata": {},
   "outputs": [],
   "source": []
  },
  {
   "cell_type": "code",
   "execution_count": 0,
   "metadata": {},
   "outputs": [],
   "source": [
    "dataStochPS = RepeatedGame(1,1,1,1,1.9,1.9,1,-1.01,-1.02,-1.03,-1,-1.01,1.02,1.03,300);\n",
    "PSstoch = probTraj(dataStochPS,xlab='Pareto, $p_1$',ylab='Selfish, $p_2$');\n",
    "show(PSstoch)"
   ]
  },
  {
   "cell_type": "code",
   "execution_count": 0,
   "metadata": {},
   "outputs": [],
   "source": [
    "ParSelfEq = equilibria2p(1,-1.01,-1.02,-1.03,-1,-1.01,1.02,1.03,1.8,'Pareto, $p_1$','Selfish, $p_2$');\n",
    "show(ParSelfEq+PSstoch)"
   ]
  },
  {
   "cell_type": "code",
   "execution_count": 0,
   "metadata": {},
   "outputs": [],
   "source": [
    "ParSelf = Vfield2p(1,-1.01,-1.02,-1.03,-1,-1.01,1.02,1.03,1.8,'Pareto, $p_1$','Selfish, $p_2$');\n",
    "show(ParSelf+PSstoch)"
   ]
  },
  {
   "cell_type": "code",
   "execution_count": 0,
   "metadata": {},
   "outputs": [],
   "source": [
    "PSfull1 = numSde2(0.01,0.94,1,-1.01,-1.02,-1.03,-1,-1.01,1.02,1.03,1.8,0.01,[0.005,0.01],100,'black','Pareto, $p_1$','Selfish, $p_2$',4);\n",
    "PSfull3 = numSde2(0.8,0.76,1,-1.01,-1.02,-1.03,-1,-1.01,1.02,1.03,1.8,0.01,[0.005,0.01],100,'black','Pareto, $p_1$','Selfish, $p_2$',4);\n",
    "PSfull5 = numSde2(0.8,0.4,1,-1.01,-1.02,-1.03,-1,-1.01,1.02,1.03,1.8,0.01,[0.001],1000,'black','Pareto, $p_1$','Selfish, $p_2$',4);\n",
    "PSfull6 = numSde2(0.5,0.3,1,-1.01,-1.02,-1.03,-1,-1.01,1.02,1.03,1.8,0.01,[0.005,0.01],100,'black','Pareto, $p_1$','Selfish, $p_2$',4);\n",
    "PSfull7 = numSde2(0.3,0.5,1,-1.01,-1.02,-1.03,-1,-1.01,1.02,1.03,1.8,0.01,[0.005,0.01],100,'black','Pareto, $p_1$','Selfish, $p_2$',4);\n",
    "\n",
    "show(PSstoch+ParSelfEq+PSfull1+PSfull3+PSfull5+PSfull7)"
   ]
  },
  {
   "cell_type": "code",
   "execution_count": 0,
   "metadata": {},
   "outputs": [],
   "source": [
    "save(PSstoch+ParSelfEq+PSfull1+PSfull3+PSfull5+PSfull7,\"DSps2.pdf\")"
   ]
  },
  {
   "cell_type": "code",
   "execution_count": 0,
   "metadata": {},
   "outputs": [],
   "source": [
    "save(ParSelf+PSstoch,\"DSps.pdf\")"
   ]
  },
  {
   "cell_type": "code",
   "execution_count": 0,
   "metadata": {},
   "outputs": [],
   "source": [
    "%html\n",
    "<strong><font size=4>Manipulator vs. Pareto</font></strong>"
   ]
  },
  {
   "cell_type": "code",
   "execution_count": 0,
   "metadata": {},
   "outputs": [],
   "source": []
  },
  {
   "cell_type": "code",
   "execution_count": 0,
   "metadata": {},
   "outputs": [],
   "source": [
    "dataStochMP = RepeatedGame(1,1,1,1,1.9,1.9,1,-1.01,1.02,-1.03,1,-1.01,-1.02,-1.03,300);\n",
    "MPstoch = probTraj(dataStochMP,xlab='Manipulator, $p_1$',ylab='Pareto, $p_2$');\n",
    "show(MPstoch)"
   ]
  },
  {
   "cell_type": "code",
   "execution_count": 0,
   "metadata": {},
   "outputs": [],
   "source": []
  },
  {
   "cell_type": "code",
   "execution_count": 0,
   "metadata": {},
   "outputs": [],
   "source": [
    "dataStochMP2 = RepeatedGame(1,1,1,1,1.5,1.5,1,-1.01,1.02,-1.03,1,-1.01,-1.02,-1.03,300);\n",
    "MPstoch2 = probTraj(dataStochMP2,col='orange',xlab='Manipulator, $p_1$',ylab='Pareto, $p_2$');\n",
    "show(MPstoch2)"
   ]
  },
  {
   "cell_type": "code",
   "execution_count": 0,
   "metadata": {},
   "outputs": [],
   "source": [
    "ManParEq = equilibria2p(1,-1.01,1.02,-1.03,1,-1.01,-1.02,-1.03,1.8,'Manipulator, $p_1$','Pareto, $p_2$');\n",
    "show(ManParEq+MPstoch+MPstoch2)"
   ]
  },
  {
   "cell_type": "code",
   "execution_count": 0,
   "metadata": {},
   "outputs": [],
   "source": [
    "ParMan = Vfield2p(1,-1.01,-1.02,-1.03,1,-1.01,1.02,-1.03,1.8,'Pareto, $p_1$','Manipulator, $p_2$');\n",
    "show(ParMan+PMstoch+PMstoch2)"
   ]
  },
  {
   "cell_type": "code",
   "execution_count": 0,
   "metadata": {},
   "outputs": [],
   "source": [
    "MPfull1 = numSde2(0.2,0.9,1,-1.01,1.02,-1.03,1,-1.01,-1.02,-1.03,1.8,0.01,[0.001,.01],100,'black','Manipulator, $p_1$','Pareto, $p_2$',4);\n",
    "MPfull3 = numSde2(0.7,0.8,1,-1.01,1.02,-1.03,1,-1.01,-1.02,-1.03,1.8,0.01,[0.005,0.01],1000,'black','Manipulator, $p_1$','Pareto, $p_2$',4);\n",
    "MPfull5 = numSde2(0.8,0.4,1,-1.01,1.02,-1.03,1,-1.01,-1.02,-1.03,1.8,0.01,[0.001],1000,'black','Manipulator, $p_1$','Pareto, $p_2$',4);\n",
    "MPfull6 = numSde2(0.5,0.3,1,-1.01,1.02,-1.03,1,-1.01,-1.02,-1.03,1.8,0.01,[0.005,0.01],100,'black','Manipulator, $p_1$','Pareto, $p_2$',4);\n",
    "MPfull7 = numSde2(0.3,0.5,1,-1.01,1.02,-1.03,1,-1.01,-1.02,-1.03,1.8,0.01,[0.005,0.01],100,'black','Manipulator, $p_1$','Pareto, $p_2$',4);\n",
    "\n",
    "show(MPstoch+ManParEq+MPfull1+MPfull3+MPfull5+MPfull7)"
   ]
  },
  {
   "cell_type": "code",
   "execution_count": 0,
   "metadata": {},
   "outputs": [],
   "source": [
    "save(MPstoch+ManParEq+MPfull1+MPfull3+MPfull5+MPfull7,\"DSmp2.pdf\")"
   ]
  },
  {
   "cell_type": "code",
   "execution_count": 0,
   "metadata": {},
   "outputs": [],
   "source": [
    "save(ParMan+PMstoch+PMstoch2,\"DSpm.pdf\")"
   ]
  },
  {
   "cell_type": "code",
   "execution_count": 0,
   "metadata": {},
   "outputs": [],
   "source": []
  },
  {
   "cell_type": "code",
   "execution_count": 0,
   "metadata": {},
   "outputs": [],
   "source": [
    "%html\n",
    "<strong><font size=4>Anti-cooperation vs. Avoid Sucker</font></strong>"
   ]
  },
  {
   "cell_type": "code",
   "execution_count": 0,
   "metadata": {},
   "outputs": [],
   "source": [
    "dataStochAN = RepeatedGame(1,1,1,1,1.9,1.9,1,-1.01,1.02,1.04,-1,1.01,1.02,1.03,300);\n",
    "ANstoch = probTraj(dataStochAN,xlab='Avoid Sucker, $p_1$',ylab='Anti-cooperation, $p_2$');\n",
    "show(ANstoch)"
   ]
  },
  {
   "cell_type": "code",
   "execution_count": 0,
   "metadata": {},
   "outputs": [],
   "source": []
  },
  {
   "cell_type": "code",
   "execution_count": 0,
   "metadata": {},
   "outputs": [],
   "source": [
    "dataStochAN2 = RepeatedGame(1,1,1,1,1.9,1.9,1,-1.01,1.02,1.04,-1,1.01,1.02,1.03,300);\n",
    "ANstoch2 = probTraj(dataStochAN2,col='orange',xlab='Avoid Sucker, $p_1$',ylab='Anti-cooperation, $p_2$');\n",
    "show(ANstoch2)"
   ]
  },
  {
   "cell_type": "code",
   "execution_count": 0,
   "metadata": {},
   "outputs": [],
   "source": [
    "AsNcEq = equilibria2p(1,-1.01,1.02,1.04,-1,1.01,1.02,1.03,1.8,'Avoid sucker, $p_1$','Anti-cooperation, $p_2$');\n",
    "show(AsNcEq+ANstoch+ANstoch2)"
   ]
  },
  {
   "cell_type": "code",
   "execution_count": 0,
   "metadata": {},
   "outputs": [],
   "source": [
    "NcAs = Vfield2p(-1,1.01,1.02,1.03,1,-1.01,1.02,1.04,1.8,'Anti-cooperation, $p_1$','Avoid sucker, $p_2$');\n",
    "show(NcAs+NAstoch+NAstoch2)"
   ]
  },
  {
   "cell_type": "code",
   "execution_count": 0,
   "metadata": {},
   "outputs": [],
   "source": [
    "ANfull1 = numSde2(0.2,0.9,1,-1.01,1.02,1.04,-1,1.01,1.02,1.03,1.8,0.01,[0.005,0.01],100,'black','Avoid sucker, $p_1$','Anti-cooperation, $p_2$',4);\n",
    "ANfull3 = numSde2(0.8,0.76,1,-1.01,1.02,1.04,-1,1.01,1.02,1.03,1.8,0.01,[0.01],100,'black','Avoid sucker, $p_1$','Anti-cooperation, $p_2$',4);\n",
    "ANfull5 = numSde2(0.95,0.5,1,-1.01,1.02,1.04,-1,1.01,1.02,1.03,1.8,0.01,[0.001],1000,'black','Avoid sucker, $p_1$','Anti-cooperation, $p_2$',4);\n",
    "ANfull6 = numSde2(0.5,0.3,1,-1.01,1.02,1.04,-1,1.01,1.02,1.03,1.8,0.01,[0.005,0.01],100,'black','Avoid sucker, $p_1$','Anti-cooperation, $p_2$',4);\n",
    "ANfull7 = numSde2(0.3,0.5,1,-1.01,1.02,1.04,-1,1.01,1.02,1.03,1.8,0.01,[0.005,0.01],100,'black','Avoid sucker, $p_1$','Anti-cooperation, $p_2$',4);\n",
    "\n",
    "show(ANstoch+ANstoch2+AsNcEq+ANfull1+ANfull3+ANfull5+ANfull7)"
   ]
  },
  {
   "cell_type": "code",
   "execution_count": 0,
   "metadata": {},
   "outputs": [],
   "source": [
    "save(ANstoch+ANstoch2+AsNcEq+ANfull1+ANfull3+ANfull5+ANfull7,\"DSan2.pdf\")"
   ]
  },
  {
   "cell_type": "code",
   "execution_count": 0,
   "metadata": {},
   "outputs": [],
   "source": [
    "save(NcAs+NAstoch+NAstoch2,\"DSna.pdf\")"
   ]
  },
  {
   "cell_type": "code",
   "execution_count": 0,
   "metadata": {},
   "outputs": [],
   "source": []
  },
  {
   "cell_type": "code",
   "execution_count": 0,
   "metadata": {},
   "outputs": [],
   "source": [
    "%html\n",
    "<strong><font size=4>Anti-cooperation vs. Matcher</font></strong>"
   ]
  },
  {
   "cell_type": "code",
   "execution_count": 0,
   "metadata": {},
   "outputs": [],
   "source": [
    "dataStochCN = RepeatedGame(1,1,1,1,1.5,1.5,1,-1.01,-1.02,1.03,-1,1.01,1.02,1.03,300);\n",
    "CNstoch = probTraj(dataStochCN,xlab='Matcher, $p_1$',ylab='Anti-cooperation, $p_2$');\n",
    "show(CNstoch)"
   ]
  },
  {
   "cell_type": "code",
   "execution_count": 0,
   "metadata": {},
   "outputs": [],
   "source": [
    "dataStochAC2 = RepeatedGame(1,1,1,1,1.3,1.3,1,-1.01,1.02,1.03,1,-1.01,-1.02,1.03,300);\n",
    "ACstoch2 = probTraj(dataStochAC2,col='orange',xlab='Anti-cooperation, $p_1$',ylab='Matcher, $p_2$');\n",
    "show(ACstoch2)"
   ]
  },
  {
   "cell_type": "code",
   "execution_count": 0,
   "metadata": {},
   "outputs": [],
   "source": [
    "McNcEq = equilibria2p(1,-1.01,-1.02,1.03,-1,1.01,1.02,1.03,1.8,'Matcher, $p_1$','Matcher, $p_2$');\n",
    "show(McNcEq+CNstoch)"
   ]
  },
  {
   "cell_type": "code",
   "execution_count": 0,
   "metadata": {},
   "outputs": [],
   "source": [
    "McNc = Vfield2p(-1,1.01,1.02,1.03,1,-1.01,-1.02,1.03,1.8,'Anti-cooperation, $p_1$','Anti-cooperation, $p_2$');\n",
    "show(NcMc+NCstoch)"
   ]
  },
  {
   "cell_type": "code",
   "execution_count": 0,
   "metadata": {},
   "outputs": [],
   "source": [
    "CNfull1 = numSde2(0.1,0.95,1,-1.01,-1.02,1.03,1,-1.01,-1.02,1.03,1.8,0.01,[0.005,0.01],100,'black','Matcher, $p_1$','Anti-cooperation, $p_2$',4);\n",
    "CNfull3 = numSde2(0.9,0.76,-1,1.01,1.02,1.03,-1,1.01,1.02,1.03,1.8,0.01,[0.005,0.01],100,'black','Matcher, $p_1$','Anti-cooperation, $p_2$',4);\n",
    "CNfull5 = numSde2(0.8,0.4,1,-1.01,-1.02,1.03,-1,1.01,1.02,1.03,1.8,0.01,[0.001],1000,'black','Matcher, $p_1$','Anti-cooperation, $p_2$',4);\n",
    "CNfull6 = numSde2(0.5,0.3,1,-1.01,-1.02,1.03,-1,1.01,1.02,1.03,1.8,0.01,[0.005,0.01],100,'black','Matcher, $p_1$','Anti-cooperation, $p_2$',4);\n",
    "CNfull7 = numSde2(0.3,0.5,1-,-1.01,--1.02,1.03,--11.01,1.02,1.03,1.8,0.01,[0.005,0.01],100,'black','Matcher, $p_1$','Anti-cooperation, $p_2$',4);\n",
    "\n",
    "show(CNstoch+McNcEq+CNfull1+CNfull3+CNfull5+CNfull7)"
   ]
  },
  {
   "cell_type": "code",
   "execution_count": 0,
   "metadata": {},
   "outputs": [],
   "source": [
    "save(CNstoch+McNcEq+CNfull1+CNfull3+CNfull5+CNfull7,\"DScn2.pdf\")"
   ]
  },
  {
   "cell_type": "code",
   "execution_count": 0,
   "metadata": {},
   "outputs": [],
   "source": [
    "save(NcMc+NCstoch,\"DSnc.pdf\")"
   ]
  },
  {
   "cell_type": "code",
   "execution_count": 0,
   "metadata": {},
   "outputs": [],
   "source": []
  },
  {
   "cell_type": "code",
   "execution_count": 0,
   "metadata": {},
   "outputs": [],
   "source": [
    "%html\n",
    "<strong><font size=4>Anti-cooperation vs. Selfish</font></strong>"
   ]
  },
  {
   "cell_type": "code",
   "execution_count": 0,
   "metadata": {},
   "outputs": [],
   "source": [
    "dataStochSN = RepeatedGame(1,1,1,1,1.5,1.5,-1,-1.01,1.02,1.03,-1,1.01,1.02,1.03,300);\n",
    "SNstoch = probTraj(dataStochSN,xlab='Anti-cooperation, $p_1$',ylab='Selfish, $p_2$');\n",
    "show(SNstoch)"
   ]
  },
  {
   "cell_type": "code",
   "execution_count": 0,
   "metadata": {},
   "outputs": [],
   "source": [
    "dataStochSN2 = RepeatedGame(1,1,1,1,1.5,1.5,-1,-1.01,1.02,1.03,-1,1.01,1.02,1.03,300);\n",
    "SNstoch2 = probTraj(dataStochSN2,col='orange',xlab='Anti-cooperation, $p_1$',ylab='Selfish, $p_2$');\n",
    "show(SNstoch2)"
   ]
  },
  {
   "cell_type": "code",
   "execution_count": 0,
   "metadata": {},
   "outputs": [],
   "source": [
    "SelfNcEq = equilibria2p(-1,-1.01,1.02,1.03,1.8,'Anti-cooperation, $p_1$','Selfish, $p_2$');\n",
    "show(NcSelf+NSstoch+NSNstoch2)"
   ]
  },
  {
   "cell_type": "code",
   "execution_count": 0,
   "metadata": {},
   "outputs": [],
   "source": [
    "NcSelf = Vfield2p(-1,1.01,1.02,1.03,-1,-1.01,1.02,1.03,-1,1.01,1.02,1.03,1.8,'Selfish, $p_1$','Anti-cooperation, $p_2$');\n",
    "show(SelfNcEq+SNstoch+Sstoch2)"
   ]
  },
  {
   "cell_type": "code",
   "execution_count": 0,
   "metadata": {},
   "outputs": [],
   "source": [
    "SNfull1 = numSde2(0.01,0.94,-1,-1.01,1.02,1.03,-1,1.01,1.02,1.03,1.8,0.01,[0.01],100,'black','Selfish, $p_1$','Anti-cooperation, $p_2$',4);\n",
    "SNfull3 = numSde2(0.8,0.76,-1,-1.01,1.02,1.03,-1,1.01,1.02,1.03,1.8,0.01,[0.005,0.01],100,'black','Selfish, $p_1$','Anti-cooperation, $p_2$',4);\n",
    "SNfull5 = numSde2(0.8,0.4,-1,-1.01,1.02,1.03,-1,1.01,1.02,1.03,1.8,0.01,[0.001],1000,'black','Selfish, $p_1$','Anti-cooperation, $p_2$',4);\n",
    "SNfull6 = numSde2(0.5,0.3,-1,-1.01,1.02,1.03,-1,1.01,1.02,1.03,1.8,0.01,[0.005,0.01],100,'black','Selfish, $p_1$','Anti-cooperation, $p_2$',4);\n",
    "SNfull7 = numSde2(0.95,0.1,-1,-1.01,1.02,1.03,-1,1.01,1.02,1.03,1.8,0.01,[0.005,0.01],100,'black','Selfish, $p_1$','Anti-cooperation, $p_2$',4);\n",
    "\n",
    "show(SNstoch+SNstoch2+SelfNcEq+SNfull1+SNfull3+SNfull5+SNfull7)"
   ]
  },
  {
   "cell_type": "code",
   "execution_count": 0,
   "metadata": {},
   "outputs": [],
   "source": [
    "save(SNstoch+SNstoch2+SelfNcEq+SNfull1+SNfull3+SNfull5+SNfull7,\"DSsn2.pdf\")"
   ]
  },
  {
   "cell_type": "code",
   "execution_count": 0,
   "metadata": {},
   "outputs": [],
   "source": [
    "save(NcSelf+NSstoch+NSstoch2,\"DSns.pdf\")"
   ]
  },
  {
   "cell_type": "code",
   "execution_count": 0,
   "metadata": {},
   "outputs": [],
   "source": []
  },
  {
   "cell_type": "code",
   "execution_count": 0,
   "metadata": {},
   "outputs": [],
   "source": [
    "%html\n",
    "<strong><font size=4>Manipulator vs. Anti-Cooperation</font></strong>"
   ]
  },
  {
   "cell_type": "code",
   "execution_count": 0,
   "metadata": {},
   "outputs": [],
   "source": [
    "dataStochMN = RepeatedGame(1,1,1,1,1.9,1.9,1,-1.01,1.02,-1.03,-1,1.01,1.02,1.03,300);\n",
    "MNstoch = probTraj(dataStochMN,xlab='Manipulator, $p_1$',ylab='Anti-cooperation, $p_2$');\n",
    "show(MNstoch)"
   ]
  },
  {
   "cell_type": "code",
   "execution_count": 0,
   "metadata": {},
   "outputs": [],
   "source": [
    "dataStochMN2 = RepeatedGame(1,1,1,1,1.9,1.9,1,-1.01,1.02,-1.03,-1,1.01,1.02,1.03,300);\n",
    "MNstoch2 = probTraj(dataStochMN2,col='orange',xlab='Manipulator, $p_1$',ylab='Anti-cooperation, $p_2$');\n",
    "show(MNstoch2)"
   ]
  },
  {
   "cell_type": "code",
   "execution_count": 0,
   "metadata": {},
   "outputs": [],
   "source": [
    "ManNcEq = equilibria2p(1,-1.01,1.02,-1.03,-1,1.01,1.02,1.03,1.8,'Selfish, $p_1$','Anti-cooperation, $p_2$');\n",
    "show(NcMan+NMstoch+NMstoch2)"
   ]
  },
  {
   "cell_type": "code",
   "execution_count": 0,
   "metadata": {},
   "outputs": [],
   "source": [
    "NcMan = Vfield2p(-1,1.01,1.02,1.03,1,-1.01,1.02,-1.03,1.8,'Anti-cooperation, $p_1$','Selfish, $p_2$');\n",
    "show(ManNcEq+MNstoch+MNstoch2)"
   ]
  },
  {
   "cell_type": "code",
   "execution_count": 0,
   "metadata": {},
   "outputs": [],
   "source": [
    "MNfull1 = numSde2(0.01,0.94,1,-1.01,1.02,-1.03,-1,1.01,1.02,1.03,1.8,0.01,[0.005,0.01],100,'black','Manipulator, $p_1$','Anti-cooperation, $p_2$',4);\n",
    "MNfull3 = numSde2(0.95,0.9,1,-1.01,1.02,-1.03,-1,1.01,1.02,1.03,1.8,0.01,[0.01],100,'black','Manipulator, $p_1$','Anti-cooperation, $p_2$',4);\n",
    "MNfull5 = numSde2(0.8,0.4,1,-1.01,1.02,-1.03,-1,1.01,1.02,1.03,1.8,0.01,[0.001],1000,'black','Manipulator, $p_1$','Anti-cooperation, $p_2$',4);\n",
    "MNfull6 = numSde2(0.5,0.3,1,-1.01,1.02,-1.03,-1,1.01,1.02,1.03,1.8,0.01,[0.005,0.01],100,'black','Manipulator, $p_1$','Anti-cooperation, $p_2$',4);\n",
    "MNfull7 = numSde2(0.3,0.5,1,-1.01,1.02,-1.03,-1,1.01,1.02,1.03,1.8,0.01,[0.005,0.01],100,'black','Manipulator, $p_1$','Anti-cooperation, $p_2$',4);\n",
    "\n",
    "show(MNstoch+MNstoch2+ManNcEq+MNfull1+MNfull3+MNfull5+MNfull7)"
   ]
  },
  {
   "cell_type": "code",
   "execution_count": 0,
   "metadata": {},
   "outputs": [],
   "source": [
    "save(MNstoch+MNstoch2+ManNcEq+MNfull1+MNfull3+MNfull5+MNfull7,\"DSmn2.pdf\")"
   ]
  },
  {
   "cell_type": "code",
   "execution_count": 0,
   "metadata": {},
   "outputs": [],
   "source": [
    "save(NcMan+NMstoch+NMstoch2,\"DSnm.pdf\")"
   ]
  },
  {
   "cell_type": "code",
   "execution_count": 0,
   "metadata": {},
   "outputs": [],
   "source": [
    "%html\n",
    "<strong><font size=4>Pareto vs. Anti-Cooperation</font></strong>"
   ]
  },
  {
   "cell_type": "code",
   "execution_count": 0,
   "metadata": {},
   "outputs": [],
   "source": [
    "dataStochPN = RepeatedGame(1,1,1,1,1.9,1.9,1,-1.01,-1.02,-1.03,-1,1.01,1.02,1.03,300);\n",
    "PNstoch = probTraj(dataStochPN,xlab='Pareto, $p_1$',ylab='Anti-cooperation, $p_2$');\n",
    "show(PNstoch)"
   ]
  },
  {
   "cell_type": "code",
   "execution_count": 0,
   "metadata": {},
   "outputs": [],
   "source": [
    "ParNcEq = equilibria2p(1,-1.01,-1.02,-1.03,-1,1.01,1.02,1.03,1.8,'Selfish, $p_1$','Anti-cooperation, $p_2$');\n",
    "show(ParNcEq+PNstoch)"
   ]
  },
  {
   "cell_type": "code",
   "execution_count": 0,
   "metadata": {},
   "outputs": [],
   "source": [
    "NcMan = Vfield2p(-1,1.01,1.02,1.03,1,-1.01,1.02,-1.03,1.8,'Anti-cooperation, $p_1$','Selfish, $p_2$');\n",
    "show(NcMan+NMstoch+NMstoch2)"
   ]
  },
  {
   "cell_type": "code",
   "execution_count": 0,
   "metadata": {},
   "outputs": [],
   "source": [
    "PNfull1 = numSde2(0.01,0.94,1,-1.01,-1.02,-1.03,-1,1.01,1.02,1.03,1.8,0.01,[0.01,0.03],100,'black','Manipulator, $p_1$','Anti-cooperation, $p_2$',4);\n",
    "MNfull3 = numSde2(0.8,0.76,1,-1.01,-1.02,-1.03,-1,1.01,1.02,1.03,1.8,0.01,[0.005,0.01],100,'black','Pareto, $p_1$','Anti-cooperation, $p_2$',4);\n",
    "PNfull5 = numSde2(0.8,0.4,1,-1.01,-1.02,-1.03,-1,1.01,1.02,1.03,1.8,0.01,[0.001],1000,'black','Pareto, $p_1$','Anti-cooperation, $p_2$',4);\n",
    "PNfull6 = numSde2(0.2,0.25,1,-1.01,-1.02,-1.03,-1,1.01,1.02,1.03,1.8,0.01,[0.005,0.01],100,'black','Pareto, $p_1$','Anti-cooperation, $p_2$',4);\n",
    "PNfull7 = numSde2(0.2,0.25,1,-1.01,-1.02,-1.03,-1,1.01,1.02,1.03,1.8,0.01,[0.005,0.01],100,'black','areto, $p_1$','Anti-cooperation, $p_2$',4);\n",
    "\n",
    "show(PNstoch+ParNcEq+PNfull1+PNfull3+PNfull5+PNfull7)"
   ]
  },
  {
   "cell_type": "code",
   "execution_count": 0,
   "metadata": {},
   "outputs": [],
   "source": [
    "save(PNstoch+ParNcEq+PNfull1+PNfull3+PNfull5+PNfull7,\"DSpn2.pdf\")"
   ]
  },
  {
   "cell_type": "code",
   "execution_count": 0,
   "metadata": {},
   "outputs": [],
   "source": [
    "save(NcMan+NMstoch+NMstoch2,\"DSnm.pdf\")"
   ]
  },
  {
   "cell_type": "code",
   "execution_count": 0,
   "metadata": {},
   "outputs": [],
   "source": [
    "%html\n",
    "<strong><font size=4>Anti-Cooperation vs. Anti-Cooperation</font></strong>"
   ]
  },
  {
   "cell_type": "code",
   "execution_count": 0,
   "metadata": {},
   "outputs": [],
   "source": [
    "dataStochNN = RepeatedGame(1,1,1,1,1.9,1.9,-1,1.01,1.02,1.03,-1,1.01,1.02,1.03,300);\n",
    "NNstoch = probTraj(dataStochNN,xlab='Anti-cooperation, $p_1$',ylab='Anti-cooperation, $p_2$');\n",
    "show(NNstoch)"
   ]
  },
  {
   "cell_type": "code",
   "execution_count": 0,
   "metadata": {},
   "outputs": [],
   "source": [
    "dataStochNN2 = RepeatedGame(1,1,1,1,1.5,1.5,-1,1.01,1.02,1.03,-1,1.01,1.02,1.03,300);\n",
    "NNstoch2 = probTraj(dataStochNN2,col='orange',xlab='Anti-cooperation, $p_1$',ylab='Anti-cooperation, $p_2$');\n",
    "show(NNstoch2)"
   ]
  },
  {
   "cell_type": "code",
   "execution_count": 0,
   "metadata": {},
   "outputs": [],
   "source": [
    "dataStochNN3 = RepeatedGame(1,1,1,1,1.5,1.5,-1,1.01,1.02,1.03,-1,1.01,1.02,1.03,300);\n",
    "NNstoch3 = probTraj(dataStochNN3,col='green',xlab='Anti-cooperation, $p_1$',ylab='Anti-cooperation, $p_2$');\n",
    "show(NNstoch3)"
   ]
  },
  {
   "cell_type": "code",
   "execution_count": 0,
   "metadata": {},
   "outputs": [],
   "source": [
    "NcNcEq = equilibria2p(-1,1.01,1.02,1.03,-1,1.01,1.02,1.03,1.8,'Anti-cooperation, $p_1$','Anti-cooperation, $p_2$');\n",
    "show(NcNcEq+NNstoch+NNstoch2+NNstoch3)"
   ]
  },
  {
   "cell_type": "code",
   "execution_count": 0,
   "metadata": {},
   "outputs": [],
   "source": [
    "NNfull1 = numSde2(0.2,0.9,-1,1.01,1.02,1.03,-1,1.01,1.02,1.03,1.8,0.01,[0.005,0.01],100,'black','Anti-Cooperation, $p_1$','Anti-cooperation, $p_2$',4);\n",
    "PNfull3 = numSde2(0.8,0.76,1,-1.01,-1.02,-1.03,-1,1.01,1.02,1.03,1.8,0.01,[0.005,0.01],100,'black','Pareto, $p_1$','Anti-cooperation, $p_2$',4);\n",
    "NNfull5 = numSde2(0.8,0.4,-1,1.01,1.02,1.03,-1,1.01,1.02,1.03,1.8,0.01,[0.001],1000,'black','Anti-Cooperation, $p_1$','Anti-cooperation, $p_2$',4);\n",
    "NNfull6 = numSde2(0.2,0.25,-1,1.01,1.02,1.03,-1,1.01,1.02,1.03,1.8,0.01,[0.005,0.01],100,'black','Anti-Cooperation, $p_1$','Anti-cooperation, $p_2$',4);\n",
    "NNfull7 = numSde2(0.3,0.3-,-1,1.0,1.02,1.03,-1,1.01,1.02,1.03,1.8,0.01,[0.005,0.01],100,'black','Anti-Cooperationoperation, $p_1$','Anti-cooperation, $p_2$',4);\n",
    "\n",
    "show(NNstoch+NNstoch2+NNstoch3+NcNcEq+NNfull1+NNfull3+NNfull5+NNfull7)"
   ]
  },
  {
   "cell_type": "code",
   "execution_count": 0,
   "metadata": {},
   "outputs": [],
   "source": [
    "save(NNstoch+NNstoch2+NNstoch3+NcNcEq+NNfull1+NNfull3+NNfull5+NNfull7,\"DSnn2.pdf\")"
   ]
  },
  {
   "cell_type": "code",
   "execution_count": 0,
   "metadata": {},
   "outputs": [],
   "source": [
    "%html\n",
    "<strong><font size=4>Pareto vs. Pareto</font></strong>"
   ]
  },
  {
   "cell_type": "code",
   "execution_count": 0,
   "metadata": {},
   "outputs": [],
   "source": [
    "dataStochPP = RepeatedGame(1,1,1,1,1.2,1.2,1,-1.01,-1.02,-1.03,1,-1.01,-1.02,-1.03,300);\n",
    "PPstoch = probTraj(dataStochPP,xlab='Pareto, $p_1$',ylab='Pareto, $p_2$');\n",
    "show(PPstoch)"
   ]
  },
  {
   "cell_type": "code",
   "execution_count": 0,
   "metadata": {},
   "outputs": [],
   "source": [
    "ParParEq = equilibria2p(1,-1.01,-1.02,-1.03,1,-1.01,-1.02,-1.03,1.8,'Pareto, $p_1$','Pareto, $p_2$');\n",
    "show(ParParEq+PPstoch)"
   ]
  },
  {
   "cell_type": "code",
   "execution_count": 0,
   "metadata": {},
   "outputs": [],
   "source": [
    "PPfull1 = numSde2(0.01,0.94,1,-1.01,-1.02,-1.03,-1,1.01,1.02,1.03,1.8,0.01,[0.005,0.01],100,'black','Pareto, $p_1$','Anti-cooperation, $p_2$',4);\n",
    "NNfull3 = numSde2(0.8,0.76,-1,1.01,1.02,1.03,1,-1.01,-1.02,-1.03,1.8,0.01,[0.005,0.01],100,'black','Pareto, $p_1$','Pareto, $p_2$',4);\n",
    "PPfull5 = numSde2(0.8,0.4,1,-1.01,-1.02,-1.03,1,-1.01,-1.02,-1.03,1.8,0.01,[0.001],1000,'black','Pareto, $p_1$','Pareto, $p_2$',4);\n",
    "PPfull6 = numSde2(0.5,0.3,1,-1.01,-1.02,-1.03,1,-1.01,-1.02,-1.03,1.8,0.01,[0.005,0.01],100,'black','Pareto, $p_1$','Pareto, $p_2$',4);\n",
    "PPfull7 = numSde2(0.3,0.5,1-,-1.01,--1.02,--1.01,--1.01,--1.02,--1.03,1.8,0.01,[0.005,0.01],100,'black','Pareto, $p_1$','Pareto, $p_2$',4);\n",
    "\n",
    "show(PPstoch+ParParEq+PPfull1+PPfull3+PPfull5+PPfull7)"
   ]
  },
  {
   "cell_type": "code",
   "execution_count": 0,
   "metadata": {},
   "outputs": [],
   "source": [
    "save(PPstoch+ParParEq+PPfull1+PPfull3+PPfull5+PPfull7,\"DSpp2.pdf\")"
   ]
  },
  {
   "cell_type": "code",
   "execution_count": 0,
   "metadata": {},
   "outputs": [],
   "source": []
  },
  {
   "cell_type": "code",
   "execution_count": 0,
   "metadata": {},
   "outputs": [],
   "source": [
    "(eqsRLn[4][0].subs(u_11=1,u_12=-1.01,u_21=-1.02,u_22=1.03,v_11=1,v_12=-1.01,v_21=1.02,v_22=-1.03,L=1.8).N(),eqsRLn[4][1].subs(u_11=1,u_12=-1.01,u_21=-1.02,u_22=1.03,v_11=1,v_12=-1.01,v_21=1.02,v_22=-1.03,L=1.8).N())"
   ]
  },
  {
   "cell_type": "code",
   "execution_count": 0,
   "metadata": {},
   "outputs": [],
   "source": [
    "(eqsRLn[5][0].subs(u_11=1,u_12=-1.01,u_21=-1.02,u_22=1.03,v_11=1,v_12=-1.01,v_21=1.02,v_22=-1.03,L=1.8).N(),eqsRLn[5][1].subs(u_11=1,u_12=-1.01,u_21=-1.02,u_22=1.03,v_11=1,v_12=-1.01,v_21=1.02,v_22=-1.03,L=1.8).N())"
   ]
  },
  {
   "cell_type": "code",
   "execution_count": 0,
   "metadata": {},
   "outputs": [],
   "source": [
    "j.subs(x=0.497537184845658,y=0.502462934664968,u_11=1,u_12=-1.01,u_21=-1.02,u_22=1.03,v_11=1,v_12=-1.01,v_21=1.02,v_22=-1.03,L=1.8).N().eigenvalues()"
   ]
  },
  {
   "cell_type": "code",
   "execution_count": 0,
   "metadata": {},
   "outputs": [],
   "source": []
  },
  {
   "cell_type": "code",
   "execution_count": 0,
   "metadata": {},
   "outputs": [],
   "source": [
    "%html\n",
    "<strong><font size=6>Payoff and fitness calculations</font></strong>"
   ]
  },
  {
   "cell_type": "code",
   "execution_count": 0,
   "metadata": {},
   "outputs": [],
   "source": [
    "#The payoff function takes as input the vector \"eqAcs\" of stable equilibria and the payoff matrix (R,S,T,P).\n",
    "#The output is the expected payoff, assuming that each of the possible stable equilibria are reached with equal probability\n",
    "def Pi(eqAcs,w_11,w_12,w_21,w_22):\n",
    "     Pay1 = 0;\n",
    "     Pay2 = 0;\n",
    "     for cEq in eqAcs:\n",
    "         Pay1 += (1/len(eqAcs))*(cEq[0]*(cEq[1]*w_11 + (1-cEq[1])*w_12) + (1-cEq[0])*(cEq[1]*w_21 + (1-cEq[1])*w_22));\n",
    "         Pay2 += (1/len(eqAcs))*(cEq[1]*(cEq[0]*w_11 + (1-cEq[0])*w_12) + (1-cEq[1])*(cEq[0]*w_21 + (1-cEq[0])*w_22));\n",
    "     return [Pay1,Pay2]"
   ]
  },
  {
   "cell_type": "code",
   "execution_count": 0,
   "metadata": {},
   "outputs": [],
   "source": [
    "var('R,S,T,P');\n",
    "epT = Pi([[1,1],[0,1],[1,v_22/(v_12+v_22)]],R,S,T,P);\n",
    "epT[0].full_simplify()"
   ]
  },
  {
   "cell_type": "code",
   "execution_count": 0,
   "metadata": {},
   "outputs": [],
   "source": [
    "#Fitness function in a dimorphic population\n",
    "#(TO DO: extend to more co-existing types)\n",
    "W(q,Pi_11,Pi_12,Pi_21,Pi_22) = [q*Pi_11 + (1-q)*Pi_12,q*Pi_21 + (1-q)*Pi_22];\n",
    "W"
   ]
  },
  {
   "cell_type": "code",
   "execution_count": 0,
   "metadata": {},
   "outputs": [],
   "source": [
    "#Realistic vs. Other-regard in the PD\n",
    "var('q,b,c,k');\n",
    "Wro = W(q,(b-c)/2,b-(c/2),(b-c)/2,b-c);\n",
    "Wro[1].full_simplify()"
   ]
  },
  {
   "cell_type": "code",
   "execution_count": 0,
   "metadata": {},
   "outputs": [],
   "source": [
    "#Realistic always has a higher fitness than Other-regard and hence is the ESS in this interaction\n",
    "solve_ineq([Wro[0] < Wro[1],q>0,q<1, b > c, c >0])"
   ]
  },
  {
   "cell_type": "code",
   "execution_count": 0,
   "metadata": {},
   "outputs": [],
   "source": [
    "WroO"
   ]
  },
  {
   "cell_type": "code",
   "execution_count": 0,
   "metadata": {},
   "outputs": [],
   "source": []
  },
  {
   "cell_type": "code",
   "execution_count": 0,
   "metadata": {},
   "outputs": [],
   "source": [
    "%html\n",
    "<strong><font size=6>Tests and explorations</font></strong>"
   ]
  },
  {
   "cell_type": "code",
   "execution_count": 0,
   "metadata": {},
   "outputs": [],
   "source": []
  },
  {
   "cell_type": "code",
   "execution_count": 0,
   "metadata": {},
   "outputs": [],
   "source": []
  },
  {
   "cell_type": "code",
   "execution_count": 0,
   "metadata": {},
   "outputs": [],
   "source": [
    "dataStochTI = RepeatedGame(1,1,1,1,5,5,1,-1.01,-1.02,1.03,-1.03,1.01,1.02,-1,500);\n",
    "TIstoch = probTraj(dataStochTI,xlab='Match, $p_1$',ylab='Mismatch, $p_2$');\n",
    "show(TIstoch)"
   ]
  },
  {
   "cell_type": "code",
   "execution_count": 0,
   "metadata": {},
   "outputs": [],
   "source": [
    "p1dyn = timeDyn(dataStochTI,col='red',xlab='Time, $t$',ylab='$p_1(t),p_2(t)$',player=0);\n",
    "p2dyn = timeDyn(dataStochTI,col='black',xlab='Time, $t$',ylab='$p_1(t),p_2(t)$',player=1);\n",
    "show(p1dyn+p2dyn)"
   ]
  },
  {
   "cell_type": "code",
   "execution_count": 0,
   "metadata": {},
   "outputs": [],
   "source": [
    "MatMis = Vfield2p(1,-1.01,-1.02,1.03,-1.03,1.01,1.02,-1,1.8,'Match, $p_1$','Mismatch, $p_2$');\n",
    "show(MatMis+TIstoch)"
   ]
  },
  {
   "cell_type": "code",
   "execution_count": 0,
   "metadata": {},
   "outputs": [],
   "source": [
    "dataStochTR = RepeatedGame(1,1,1,1,1.3,1.3,1,-1.01,-1.02,1.03,3,-2,5,0,500);\n",
    "TRstoch = probTraj(dataStochTR,xlab='Match, $p_1$',ylab='Realistic, $p_2$');\n",
    "show(TRstoch)"
   ]
  },
  {
   "cell_type": "code",
   "execution_count": 0,
   "metadata": {},
   "outputs": [],
   "source": [
    "dataStochTR2 = RepeatedGame(1,1,1,1,1.3,1.3,1,-1.01,-1.02,1.03,3,-2,5,0,100);\n",
    "TRstoch2 = probTraj(dataStochTR2,col='orange',xlab='Match, $p_1$',ylab='Realistic, $p_2$');\n",
    "show(TRstoch2)"
   ]
  },
  {
   "cell_type": "code",
   "execution_count": 0,
   "metadata": {},
   "outputs": [],
   "source": [
    "MatReal = Vfield2p(1,-1.01,-1.02,1.03,3,-2,5,0,1.8,'Match, $p_1$','Realistic, $p_2$');\n",
    "show(MatReal+TRstoch+TRstoch2)"
   ]
  },
  {
   "cell_type": "code",
   "execution_count": 0,
   "metadata": {},
   "outputs": [],
   "source": [
    "eqsRLn[5][1]"
   ]
  },
  {
   "cell_type": "code",
   "execution_count": 0,
   "metadata": {},
   "outputs": [],
   "source": [
    "eqsRLn[4][1]"
   ]
  },
  {
   "cell_type": "code",
   "execution_count": 0,
   "metadata": {},
   "outputs": [],
   "source": [
    "eqsRLn[4][0].canonicalize_radical()"
   ]
  },
  {
   "cell_type": "code",
   "execution_count": 0,
   "metadata": {},
   "outputs": [],
   "source": [
    "eqsRLn[5][0].subs(u_11=3,u_12=1,u_21=5,u_22=2,v_11=4,v_12=0,v_21=0,v_22=4,L=1.3)\n",
    "eqsRLn[4][0].subs(u_11=3,u_12=1,u_21=5,u_22=2,v_11=4,v_12=0,v_21=0,v_22=4,L=1.3)"
   ]
  },
  {
   "cell_type": "code",
   "execution_count": 0,
   "metadata": {},
   "outputs": [],
   "source": [
    "solve_ineq([eqsRLn[4][1]>1,L>0])"
   ]
  },
  {
   "cell_type": "code",
   "execution_count": 0,
   "metadata": {},
   "outputs": [],
   "source": []
  },
  {
   "cell_type": "code",
   "execution_count": 0,
   "metadata": {},
   "outputs": [],
   "source": []
  },
  {
   "cell_type": "code",
   "execution_count": 0,
   "metadata": {},
   "outputs": [],
   "source": [
    "var('a,b,c');\n",
    "solve(a*x^2 +b*x +c == 0,x)"
   ]
  },
  {
   "cell_type": "code",
   "execution_count": 0,
   "metadata": {},
   "outputs": [],
   "source": [
    "assumptions?"
   ]
  },
  {
   "cell_type": "code",
   "execution_count": 0,
   "metadata": {},
   "outputs": [],
   "source": [
    "eqC0 = eqsRLn[5][0];\n",
    "eqC1 = eqsRLn[5][1];\n",
    "solve([0<eqC0,eqC0<1,0<eqC1,eqC1<1,u_11>0,u_12>0,u_21<0,u_22==0,v_11>0,v_12>0,v_21<0,v_22>0],u_11,v_22)"
   ]
  },
  {
   "cell_type": "code",
   "execution_count": 0,
   "metadata": {},
   "outputs": [],
   "source": [
    "solve([eigv[1][0]<0,L>0],v_22)"
   ]
  },
  {
   "cell_type": "code",
   "execution_count": 0,
   "metadata": {},
   "outputs": [],
   "source": [
    "#numSde(x0,y0,u_11,u_12,u_21,u_22,v_11,v_12,v_21,v_22,L,step,parr,Tmax,col,xlab,ylab)"
   ]
  },
  {
   "cell_type": "code",
   "execution_count": 0,
   "metadata": {},
   "outputs": [],
   "source": []
  },
  {
   "cell_type": "code",
   "execution_count": 0,
   "metadata": {},
   "outputs": [],
   "source": [
    "PSdet1 = numSde(0.01,0.94,1,-1.02,-1.03,-1.01,-1.06,-1.04,1.05,1.08,1.8,0.01,[0.005,0.01,0.02],100,'black','Pareto, $p_1$','Selfish, $p_2$');\n",
    "PSdet2 = numSde(0.01,0.99,1,-1.02,-1.03,-1.01,-1.06,-1.04,1.05,1.08,1.8,0.01,[0.01,0.02,0.04],100,'black','Pareto, $p_1$','Selfish, $p_2$');"
   ]
  },
  {
   "cell_type": "code",
   "execution_count": 0,
   "metadata": {},
   "outputs": [],
   "source": [
    "ParSelf = Vfield2p(1,-1.02,-1.03,-1.01,-1.06,-1.04,1.05,1.08,1.8,'Pareto, $p_1$','Selfish, $p_2$',col='gray');\n",
    "show(ParSelf+PSdet1+PSdet2)"
   ]
  },
  {
   "cell_type": "code",
   "execution_count": 0,
   "metadata": {},
   "outputs": [],
   "source": [
    "show(PSdet1+PSdet2)"
   ]
  },
  {
   "cell_type": "code",
   "execution_count": 0,
   "metadata": {},
   "outputs": [],
   "source": [
    "log(3.)+log(5.)"
   ]
  },
  {
   "cell_type": "code",
   "execution_count": 0,
   "metadata": {},
   "outputs": [],
   "source": [
    "log(5*3.)"
   ]
  },
  {
   "cell_type": "code",
   "execution_count": 0,
   "metadata": {},
   "outputs": [],
   "source": [
    "show(ParSelf+PSstoch)"
   ]
  },
  {
   "cell_type": "code",
   "execution_count": 0,
   "metadata": {},
   "outputs": [],
   "source": [
    "save(ParSelf+PSstoch,\"DSps2.pdf\")"
   ]
  },
  {
   "cell_type": "code",
   "execution_count": 0,
   "metadata": {},
   "outputs": [],
   "source": []
  },
  {
   "cell_type": "code",
   "execution_count": 0,
   "metadata": {},
   "outputs": [],
   "source": [
    "ParAs = Vfield2p(1.01,-1,-1,-1,1,-1.02,1,1,1.8,'Pareto, $p_1$','Avoid sucker, $p_2$');\n",
    "show(ParAs)"
   ]
  },
  {
   "cell_type": "code",
   "execution_count": 0,
   "metadata": {},
   "outputs": [],
   "source": [
    "eqNum(1.01,-1,-1,-1,1.02,-1,-1,-1,1.8)"
   ]
  },
  {
   "cell_type": "code",
   "execution_count": 0,
   "metadata": {},
   "outputs": [],
   "source": [
    "ParPar = Vfield2p(1.01,-1,-1,-1,1.02,-1,-1,-1,1.8,'Pareto, $p_1$','Realistic, $p_2$');\n",
    "show(ParPar)"
   ]
  },
  {
   "cell_type": "code",
   "execution_count": 0,
   "metadata": {},
   "outputs": [],
   "source": [
    "ParetoNash = Vfield2p(1.01,-1,-1,-1,-1,-1,-1,1.01,1.8,'Pareto, $p_1$','Nash, $p_2$');\n",
    "spx = plot(0.5+x,x,0,0.5,color='black');\n",
    "show(ParetoNash)"
   ]
  },
  {
   "cell_type": "code",
   "execution_count": 0,
   "metadata": {},
   "outputs": [],
   "source": []
  },
  {
   "cell_type": "code",
   "execution_count": 0,
   "metadata": {},
   "outputs": [],
   "source": [
    "AsOther = Vfield2p(1,-1.01,1,1,1.01,1.02,-1,-1,1.8,'Avoid sucker, $p_1$','Other regard, $p_2$');\n",
    "show(AsOther)"
   ]
  },
  {
   "cell_type": "code",
   "execution_count": 0,
   "metadata": {},
   "outputs": [],
   "source": [
    "SelfOther = Vfield2p(-1,-1,1.01,1.02,1.02,1.01,-1,-1,1.8,'Selfish, $p_1$','Other regard, $p_2$');\n",
    "show(SelfOther)"
   ]
  },
  {
   "cell_type": "code",
   "execution_count": 0,
   "metadata": {},
   "outputs": [],
   "source": [
    "AsAs = Vfield2p(1,-1.01,1,1,1,-1.01,1,1,1.8,'Avoid sucker, $p_1$','Avoid sucker, $p_2$');\n",
    "show(AsAs)"
   ]
  },
  {
   "cell_type": "code",
   "execution_count": 0,
   "metadata": {},
   "outputs": [],
   "source": [
    "AsSelf = Vfield2p(1,-1.01,1,1,-1,-1,1.02,1.01,1.8,'Avoid sucker, $p_1$','Selfish, $p_2$');\n",
    "show(AsSelf)"
   ]
  },
  {
   "cell_type": "code",
   "execution_count": 0,
   "metadata": {},
   "outputs": [],
   "source": [
    "RealSelf = Vfield2p(3,-2,5,0,-1,-1,1.01,1.02,1.8,'Realistic, $p_1$','Selfish, $p_2$');\n",
    "show(RealSelf)"
   ]
  },
  {
   "cell_type": "code",
   "execution_count": 0,
   "metadata": {},
   "outputs": [],
   "source": [
    "RealOther = Vfield2p(3,-2,5,0,1.01,1.02,-1,-1,1.8,'Realistic, $p_1$','Other regard, $p_2$');\n",
    "show(RealOther)"
   ]
  },
  {
   "cell_type": "code",
   "execution_count": 0,
   "metadata": {},
   "outputs": [],
   "source": []
  },
  {
   "cell_type": "code",
   "execution_count": 0,
   "metadata": {},
   "outputs": [],
   "source": []
  },
  {
   "cell_type": "code",
   "execution_count": 0,
   "metadata": {},
   "outputs": [],
   "source": [
    "ManAs = Vfield2p(1.01,-1,1.02,-1,1.02,-1.01,1,1,1.8,'Manipulator, $p_1$','Avoid sucker, $p_2$');\n",
    "show(ManAs)"
   ]
  },
  {
   "cell_type": "code",
   "execution_count": 0,
   "metadata": {},
   "outputs": [],
   "source": [
    "RealMan = Vfield2p(3,-2,5,0,1.02,-1,1.01,-1,1.8,'Realistic, $p_1$','Manipulator, $p_2$');\n",
    "show(RealMan)"
   ]
  },
  {
   "cell_type": "code",
   "execution_count": 0,
   "metadata": {},
   "outputs": [],
   "source": [
    "RealNash = Vfield2p(3,-2,5,0,-1,-1,-1,1.01,1.8,'Realistic, $p_1$','Nash, $p_2$');\n",
    "show(RealNash)"
   ]
  },
  {
   "cell_type": "code",
   "execution_count": 0,
   "metadata": {},
   "outputs": [],
   "source": [
    "NashMan = Vfield2p(-1,-1,-1,1.01,1.02,-1,1.01,-1,1.8,'Nash, $p_1$','Manipulator, $p_2$');\n",
    "show(NashMan)"
   ]
  },
  {
   "cell_type": "code",
   "execution_count": 0,
   "metadata": {},
   "outputs": [],
   "source": [
    "MMdet = numSde(0.8,0.3,1.01,-1,1.02,-1,1.01,-1,1.02,-1,1.8,0.01,100,'black','Pareto, $p_1$','Selfish, $p_2$');"
   ]
  },
  {
   "cell_type": "code",
   "execution_count": 0,
   "metadata": {},
   "outputs": [],
   "source": [
    "ManMan = Vfield2p(1.01,-1,1.02,-1,1.01,-1,1.02,-1,1.8,'Manipulator, $p_1$','Manipulator, $p_2$');\n",
    "show(ManMan+MMdet)"
   ]
  },
  {
   "cell_type": "code",
   "execution_count": 0,
   "metadata": {},
   "outputs": [],
   "source": [
    "dataStochMM = RepeatedGame(1,1.4,1,1.4,3.0,3.0,1.01,-1,1.02,-1,1.01,-1,1.02,-1,200);\n",
    "MMstoch = probTraj(dataStochMM,col='orange',xlab='Manipulator, $p_1$',ylab='Manipulator, $p_2$');\n",
    "show(MMstoch)"
   ]
  },
  {
   "cell_type": "code",
   "execution_count": 0,
   "metadata": {},
   "outputs": [],
   "source": [
    "OtherMan = Vfield2p(1.01,1.02,-1,-1,1.02,-1,1.01,-1,1.8,'Other regard, $p_1$','Manipulator, $p_2$');\n",
    "show(OtherMan)"
   ]
  },
  {
   "cell_type": "code",
   "execution_count": 0,
   "metadata": {},
   "outputs": [],
   "source": [
    "AntiMan = Vfield2p(-1.01,1.02,-1,1,1.02,-1,1.01,-1,1.8,'Anti-Manipulator, $p_1$','Manipulator, $p_2$');\n",
    "show(AntiMan)"
   ]
  },
  {
   "cell_type": "code",
   "execution_count": 0,
   "metadata": {},
   "outputs": [],
   "source": []
  },
  {
   "cell_type": "code",
   "execution_count": 0,
   "metadata": {},
   "outputs": [],
   "source": [
    "NashOther = Vfield2p(-1,-1,-1,1.01,1.01,1.02,-1,-1,1.8,'Nash, $p_1$','Other regard, $p_2$');\n",
    "show(NashOther)"
   ]
  },
  {
   "cell_type": "code",
   "execution_count": 0,
   "metadata": {},
   "outputs": [],
   "source": [
    "NashSelf = Vfield2p(-1,-1,-1,1.01,-1,-1,1.01,1.02,1.8,'Nash, $p_1$','Selfish, $p_2$');\n",
    "show(NashSelf)"
   ]
  },
  {
   "cell_type": "code",
   "execution_count": 0,
   "metadata": {},
   "outputs": [],
   "source": [
    "NashAs = Vfield2p(-1,-1,-1,1.01,1,-1.01,1,1,1.8,'Nash, $p_1$','Avoid sucker, $p_2$');\n",
    "show(NashAs)"
   ]
  },
  {
   "cell_type": "code",
   "execution_count": 0,
   "metadata": {},
   "outputs": [],
   "source": [
    "ExAs = Vfield2p(-1,-1,1.01,-1,1,-1.01,1,1,1.8,'Exploiter, $p_1$','Avoid sucker, $p_2$');\n",
    "show(ExAs)"
   ]
  },
  {
   "cell_type": "code",
   "execution_count": 0,
   "metadata": {},
   "outputs": [],
   "source": [
    "var('x,y,u_11,u_12,u_21,u_22,L,v_11,v_12,v_21,v_22');\n",
    "U = matrix([[u_11,u_12],[u_21,u_22]]);\n",
    "V = matrix([[v_11,v_12],[v_21,v_22]]);\n",
    "G = NormalFormGame([U, V]);\n",
    "G.obtain_nash(algorithm='enumeration')"
   ]
  },
  {
   "cell_type": "code",
   "execution_count": 0,
   "metadata": {},
   "outputs": [],
   "source": [
    "plot_vector_field3d?"
   ]
  },
  {
   "cell_type": "code",
   "execution_count": 0,
   "metadata": {},
   "outputs": [],
   "source": [
    "f(a,b)=a^3/3+3/4*b^2+(1-a-b)^2/2\n",
    "p = contour_plot(f,(0,.5),(0,.5),colorbar=True,axes_labels=[\"$\\\\alpha$\",\"$\\rm{Test}$\"],contours=100, cmap='coolwarm',fill=True,tick_formatter=\"latex\")\n",
    "p.axes_labels(['$\\\\alpha$','$\\\\beta$'])\n",
    "p.show()"
   ]
  },
  {
   "cell_type": "code",
   "execution_count": 0,
   "metadata": {},
   "outputs": [],
   "source": [
    "f = function('f', var('x'), var('y'));\n",
    "taylor(f,(x,k),(y,n),2)"
   ]
  },
  {
   "cell_type": "code",
   "execution_count": 0,
   "metadata": {},
   "outputs": [],
   "source": [
    "arrow?"
   ]
  },
  {
   "cell_type": "code",
   "execution_count": 0,
   "metadata": {},
   "outputs": [],
   "source": [
    "arrow2d?"
   ]
  },
  {
   "cell_type": "code",
   "execution_count": 0,
   "metadata": {},
   "outputs": [],
   "source": []
  },
  {
   "cell_type": "code",
   "execution_count": 0,
   "metadata": {},
   "outputs": [],
   "source": [
    "list_plot?"
   ]
  },
  {
   "cell_type": "code",
   "execution_count": 0,
   "metadata": {},
   "outputs": [],
   "source": []
  }
 ],
 "metadata": {
  "kernelspec": {
   "display_name": "SageMath 9.0",
   "language": "sage",
   "name": "sagemath"
  },
  "language_info": {
   "codemirror_mode": {
    "name": "ipython",
    "version": 3
   },
   "file_extension": ".py",
   "mimetype": "text/x-python",
   "name": "python",
   "nbconvert_exporter": "python",
   "pygments_lexer": "ipython3",
   "version": "3.7.6"
  },
  "toc": {
   "base_numbering": 1,
   "nav_menu": {},
   "number_sections": true,
   "sideBar": true,
   "skip_h1_title": true,
   "title_cell": "Table of Contents",
   "title_sidebar": "Contents",
   "toc_cell": false,
   "toc_position": {},
   "toc_section_display": true,
   "toc_window_display": false
  }
 },
 "nbformat": 4,
 "nbformat_minor": 1
}
